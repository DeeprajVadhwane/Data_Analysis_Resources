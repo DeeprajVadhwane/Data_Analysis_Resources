{
  "cells": [
    {
      "cell_type": "markdown",
      "metadata": {
        "id": "_nERHCuw2GrS"
      },
      "source": [
        "# Regular Expressions (Regex)\n",
        "\n",
        "## What is a Regular Expression?\n",
        "\n",
        "A **Regular Expression (Regex)** is a sequence of characters used to define search patterns in text.  \n",
        "It helps in finding, extracting, replacing, and validating specific patterns in strings.\n",
        "\n",
        "\n",
        "## Why Use Regex?\n",
        "\n",
        "A **regular expression** (regex/regexp) is a compact pattern used to:\n",
        "\n",
        "- **Search** or **match** patterns in strings  \n",
        "-  **Extract** structured information  \n",
        "-  **Clean** or **replace** parts of text  \n",
        "-  **Validate** input formats  \n",
        "-  **Tokenize** or **parse** text\n",
        "\n",
        "### Key Benefits:\n",
        "- Works across many languages (Python, JavaScript, Java, etc.)\n",
        "- Powerful for text processing and data wrangling\n",
        "- Efficient and reusable for complex tasks\n",
        "\n",
        "---\n",
        "\n",
        "## Real World Applications for Regex\n",
        "\n",
        "| **Domain**                     | **Example Use Cases**                                       |\n",
        "|-------------------------------|---------------------------------------------------------------|\n",
        "| **Data Validation**           | Email, phone, password format checks                          |\n",
        "| **Search & Replace**          | Refactoring code, editing files in bulk                      |\n",
        "| **Web Scraping**              | Extracting phone numbers, prices, titles                     |\n",
        "| **Data Cleaning**             | Removing extra spaces, HTML tags, special characters         |                    |\n",
        "| **Security & Firewalls**      | Match/block suspicious patterns in traffic logs              |\n",
        "| **Compiler Design**           | Tokenizing code for lexical analysis                         |\n",
        "| **NLP (Text Processing)**     | Word/sentence tokenization, entity extraction                |\n",
        "\n"
      ]
    },
    {
      "cell_type": "markdown",
      "metadata": {
        "id": "CuDO9WGBzBSc"
      },
      "source": [
        "###  Practice Resources  \n",
        "Explore the interactive tutorials at these sites:\n",
        "\n",
        "https://regexone.com/lesson/introduction_abcs\n",
        "\n",
        "https://regex101.com"
      ]
    },
    {
      "cell_type": "markdown",
      "metadata": {
        "id": "DI_KQhy2F4dO"
      },
      "source": [
        "## What Are Literal Characters in Regex?\n",
        "\n",
        "**Literal characters** are normal characters that match themselves exactly in the text.  \n",
        "They do **not** have any special meaning in regex.\n",
        "\n",
        "> Examples: `a`, `b`, `1`, `@`, `dog`, `z`, `5`\n",
        "\n",
        "---\n",
        "\n",
        "### Examples of Literal Characters\n",
        "\n",
        "| Literal Character | What it Matches       | Example Text         | Result        |\n",
        "|-------------------|------------------------|------------------------|----------------------|\n",
        "| `a`               | The letter `a`         | `\"cat\"`                |  matches `'a'`     |\n",
        "| `z`               | The letter `z`         | `\"zebra\"`              |  matches `'z'`     |\n",
        "| `5`               | The digit `5`          | `\"Code: 567\"`          |  matches `'5'`     |\n",
        "| `@`               | Symbol `@`             | `\"test@mail.com\"`      |  matches `'@'`     |\n",
        "| `dog`             | Word `dog`             | `\"my dog is cute\"`     | matches `'dog'`   |\n",
        "| `.` (escaped)     | A literal dot `.`      | `\"file.txt\"` with `\\.` |  matches `'.'`     |\n",
        "\n",
        "---\n",
        "\n",
        "### ❗ Not Literal Characters (Special in Regex)\n",
        "\n",
        "These characters have special meaning in regex:\n",
        "\n",
        ". ^ $ * + ? { } [ ] ( ) | \\\n",
        "\n",
        "\n",
        "- **Literal = Normal characters like letters, numbers, symbols**  \n",
        "- **Not Literal = Meta characters with special regex meanings**\n",
        "\n",
        "**Note :-**\n",
        ">  Use **literals** when you want to match exact characters or words in your text."
      ]
    },
    {
      "cell_type": "markdown",
      "source": [
        "## Meta Characters\n",
        "`.`, `^`, `$`, `*`, `+`, `?`, `{`, `}`, `[`, `]`, `(`, `)`, `|`, `\\`\n",
        "\n",
        "## User-defined Character Classes\n",
        "- `[abc]` - Match either a or b or c\n",
        "- `[^abc]` - Match any character except a or b or c\n",
        "- `[a-z]` - Match a lower case english alphabet character\n",
        "- `[A-Z]` - Match an upper case english alphabet character\n",
        "- `[a-zA-Z]` - Match any english alphabet character\n",
        "- `[0-9]` - Match any digit character\n",
        "- `[a-zA-Z0-9_]` - Match any alphanumeric character\n",
        "- `[^a-zA-Z0-9_]` - Match any character except alphanumeric character\n",
        "\n",
        "## Pre-defined Character Classes\n",
        "- `\\d` - Match a digit character i.e. `[0-9]`\n",
        "- `\\D` - Match any character except digit character. i.e. `[^0-9]`\n",
        "- `\\w` - Match an alpha-numeric character i.e. `[a-zA-Z0-9_]`\n",
        "- `\\W` - Match any character except alpha-numeric character i.e. `[^a-zA-Z0-9_]`\n",
        "- `\\s` - Match a space character.\n",
        "- `\\S` - Match any character except space.\n",
        "- `\\t` - Match a tab character.\n",
        "- `\\n` - Match a next line character.\n",
        "\n",
        "## Quantifiers\n",
        "- `a*` - Match zero or more number of characters\n",
        "- `a+` - Match one or more number of characters\n",
        "- `a?` - Match atmost 1 character i.e. 0 or 1\n",
        "- `a{n}` - Match exactly n number of character\n",
        "- `a{m, n}` - Match atleast m number and atmost n number of characters\n",
        "\n",
        "## Groups\n",
        "- Capturing Groups - `(X)`\n",
        "- Non Capturing Groups - `(?:X)`"
      ],
      "metadata": {
        "id": "4Fah-qTp57Tn"
      }
    },
    {
      "cell_type": "markdown",
      "metadata": {
        "id": "2_h9I2jcG3eD"
      },
      "source": [
        "## re.findall()\n",
        "\n",
        "It iterates over a string to find a subset of characters that match a specified pattern. It will return a list of every pattern match that occurs in a given string. The string is scanned left-to-right, and matches are returned in the order found.\n",
        "\n",
        "**Syntax**\n",
        "```python\n",
        "import re\n",
        "re.findall(<regex_pattern>, string)\n",
        "\n",
        "```"
      ]
    },
    {
      "cell_type": "markdown",
      "metadata": {
        "id": "VNJp-yAiJ7Cp"
      },
      "source": [
        "### Preceding `r` in a string\n",
        "\n",
        "The 'r' at the start of the pattern string designates a python \"raw\" string.  \n",
        "The 'r' means that the string is to be treated as a raw string, which means all escape codes will be ignored.  \n",
        "For an example:  \n",
        "`'\\n'` will be treated as a newline character, while `r'\\n'` will be treated as the characters \\ followed by n."
      ]
    },
    {
      "cell_type": "markdown",
      "metadata": {
        "id": "BcrueWHizBSd"
      },
      "source": [
        "## Importing the Required Module"
      ]
    },
    {
      "cell_type": "code",
      "execution_count": null,
      "metadata": {
        "id": "vvvWsBzpzBSe"
      },
      "outputs": [],
      "source": [
        "import re"
      ]
    },
    {
      "cell_type": "markdown",
      "metadata": {
        "id": "r7J2acw_hVcW"
      },
      "source": []
    },
    {
      "cell_type": "markdown",
      "metadata": {
        "id": "iI1tt2EM7sNT"
      },
      "source": [
        "## 1. Meta Characters"
      ]
    },
    {
      "cell_type": "markdown",
      "metadata": {
        "id": "lN3KHXZY70Yt"
      },
      "source": [
        "### **`.`** (dot) - matches any character except newline"
      ]
    },
    {
      "cell_type": "code",
      "execution_count": null,
      "metadata": {
        "id": "P9-Ww3KmFKTY"
      },
      "outputs": [],
      "source": []
    },
    {
      "cell_type": "code",
      "execution_count": null,
      "metadata": {
        "id": "EC95Iix4FMe3"
      },
      "outputs": [],
      "source": []
    },
    {
      "cell_type": "markdown",
      "metadata": {
        "id": "JA4w27Ul87FV"
      },
      "source": [
        "## **`*`** - 0 or more occurrences"
      ]
    },
    {
      "cell_type": "code",
      "execution_count": null,
      "metadata": {
        "id": "T854n96GFOxg"
      },
      "outputs": [],
      "source": []
    },
    {
      "cell_type": "markdown",
      "metadata": {
        "id": "AjMQAZk39aM_"
      },
      "source": [
        "## **+** - 1 or more occurrences"
      ]
    },
    {
      "cell_type": "code",
      "execution_count": null,
      "metadata": {
        "id": "TFa4qTUeFQNQ"
      },
      "outputs": [],
      "source": []
    },
    {
      "cell_type": "markdown",
      "metadata": {
        "id": "bdCsG54o9m5C"
      },
      "source": [
        "## **?** - 0 or 1 occurrence"
      ]
    },
    {
      "cell_type": "code",
      "execution_count": null,
      "metadata": {
        "id": "fM_59Sm5FQ-W"
      },
      "outputs": [],
      "source": []
    },
    {
      "cell_type": "markdown",
      "metadata": {
        "id": "6WiCS_lZzBSf"
      },
      "source": [
        "## re.fullmatch()\n",
        "\n",
        "It returns a match object if and only if the entire string matches the pattern. Otherwise, it will return `None`.\n",
        "\n",
        "**Syntax**  \n",
        "```python\n",
        "import re\n",
        "re.findall(<regex_pattern>, string)\n",
        "```"
      ]
    },
    {
      "cell_type": "markdown",
      "metadata": {
        "id": "Z-Xq9CJfzBSf"
      },
      "source": [
        "### Regular Expression to match an Indian Phone number\n",
        "\n",
        "**Rules:**  \n",
        "1. Should start with either 6 or 7 or 8 or 9\n",
        "2. Should contain exactly 10 digits"
      ]
    },
    {
      "cell_type": "code",
      "execution_count": null,
      "metadata": {
        "id": "EvRQ-uxKFXuw"
      },
      "outputs": [],
      "source": []
    },
    {
      "cell_type": "markdown",
      "metadata": {
        "id": "gSpmy-k8zBSj"
      },
      "source": [
        "### Regular Expression to validate a Python Identifier\n",
        "\n",
        "**Rules:**  \n",
        "1. Should contain only alpha-numeric character (i.e. No special characters allowed)\n",
        "2. Should never start with a digit\n",
        "3. Has no length limit\n",
        "4. Reserved words or keywords not allowed"
      ]
    },
    {
      "cell_type": "code",
      "execution_count": 1,
      "metadata": {
        "id": "dpikjyB5zBSj",
        "colab": {
          "base_uri": "https://localhost:8080/"
        },
        "outputId": "ba903299-b3d3-48ba-913c-cd736cd0ca34"
      },
      "outputs": [
        {
          "output_type": "stream",
          "name": "stdout",
          "text": [
            "Enter a Python identifier: regx_exp\n",
            "Valid Python identifier\n"
          ]
        }
      ],
      "source": [
        "import re\n",
        "\n",
        "# Step 1 - Ask the user to enter a python identifier\n",
        "identifier = input(\"Enter a Python identifier: \")\n",
        "\n",
        "# Step 2 - Create a regex pattern for a valid Python Identifier\n",
        "# ^ → Start of string\n",
        "# [a-zA-Z_]{1} → First character must be a letter or underscore\n",
        "# [a-zA-Z0-9_]* → Remaining characters can be letters, digits, or underscore\n",
        "pattern = r'^[a-zA-Z_][a-zA-Z0-9_]*$'\n",
        "\n",
        "# Step 3 - Match the Regex with the user entered identifier\n",
        "match = re.match(pattern, identifier)\n",
        "\n",
        "# Step 4 - If match exists, print \"Valid\"\n",
        "if match:\n",
        "    print(\"Valid Python identifier\")\n",
        "else:\n",
        "    print(\"Invalid Python identifier\")\n"
      ]
    },
    {
      "cell_type": "markdown",
      "metadata": {
        "id": "WGVjB2EAzBSk"
      },
      "source": [
        "## re.findall()\n",
        "\n",
        "It iterates over a string to find a subset of characters that match a specified pattern. It will return a list of every pattern match that occurs in a given string. The string is scanned left-to-right, and matches are returned in the order found.\n",
        "\n",
        "**Syntax**\n",
        "```python\n",
        "import re\n",
        "re.findall(<regex_pattern>, string)\n",
        "```"
      ]
    },
    {
      "cell_type": "code",
      "execution_count": null,
      "metadata": {
        "id": "WbUs-SbIzBSk"
      },
      "outputs": [],
      "source": [
        "string = \"\"\"MediaTek MT8183  GB LPDDR4 RAMAndroid Operating System29.46 cm (11.6 Inch) Display1 Year Pick and Drop Warranty\n",
        "Intel Core i5 Processor (11th Gen)8 GB DDR4 RAMWindows 11 Operating System512 GB SSD39.62 cm (15.6 Inch) Display1 Year Carry-in Warranty\n",
        "AMD Athlon Dual Core Processor8 GB DDR4 RAMWindows 11 Operating System512 GB SSD39.62 cm (15.6 Inch) Display1 Year Onsite Warranty\n",
        "Apple M2 Processor8 GB Unified Memory RAMMac OS Operating System256 GB SSD34.54 cm (13.6 Inch) DisplayBuilt-in Apps: iMovie, Siri, GarageBand, Pages, Numbers, Photos, Keynote, Safari, Mail, FaceTime, Messages, Maps, Stocks, Home, Voice Memos, Notes, Calendar, Contacts, Reminders, Photo Booth, Preview, Books, App Store, Time Machine, TV, Music, Podcasts, Find My, QuickTime Player1 Year Limited Warranty\n",
        "Intel Core i3 Processor (10th Gen)8 GB LPDDR4X RAM64 bit Windows 11 Operating System512 GB SSD39.62 cm (15.6 inch) Display1 Year Onsite Warranty\n",
        "AMD Athlon Dual Core Processor4 GB DDR4 RAMDOS Operating System256 GB SSD39.62 cm (15.6 Inch) Display1 Year Onsite Warranty\n",
        "Intel Celeron Dual Core Processor (4th Gen)8 GB DDR4 RAM64 bit Windows 11 Operating System256 GB SSD39.62 cm (15.6 inch) Display1 Years\n",
        "MediaTek MT8183 Processor4 GB LPDDR4 RAMAndroid Operating System29.46 cm (11.6 Inch) Display1 Year Pick and Drop Warranty\n",
        "Intel Core i3 Processor (12th Gen)8 GB LPDDR5 RAM64 bit Windows 11 Operating System256 GB SSD39.62 cm (15.6 Inch) Display1 Year International Travelers Warranty\n",
        "AMD Ryzen 5 Hexa Core Processor8 GB DDR4 RAM64 bit Windows 11 Operating System512 GB SSD39.62 cm (15.6 inch) DisplayMicrosoft Office Home 2019 & Office 365, HP Documentation, HP SSRM, HP Smart1 Year Onsite Warranty\n",
        "\"\"\""
      ]
    },
    {
      "cell_type": "markdown",
      "metadata": {
        "id": "cXiydehY49pd"
      },
      "source": [
        "### Extract All Storage Sizes (e.g., 256 GB, 512 GB)\n",
        "- Look for 3-digit numbers followed by GB SSD."
      ]
    },
    {
      "cell_type": "code",
      "execution_count": null,
      "metadata": {
        "id": "qCiVAa3h49pd"
      },
      "outputs": [],
      "source": [
        "import re"
      ]
    },
    {
      "cell_type": "code",
      "source": [
        "re.findall(r\"\\d{3} GB SSD\",string)"
      ],
      "metadata": {
        "colab": {
          "base_uri": "https://localhost:8080/"
        },
        "id": "g5Gl4WsqRzvf",
        "outputId": "8607ab27-02a3-41f7-f23c-fe333401d3cc"
      },
      "execution_count": null,
      "outputs": [
        {
          "output_type": "execute_result",
          "data": {
            "text/plain": [
              "['512 GB SSD',\n",
              " '512 GB SSD',\n",
              " '256 GB SSD',\n",
              " '512 GB SSD',\n",
              " '256 GB SSD',\n",
              " '256 GB SSD',\n",
              " '256 GB SSD',\n",
              " '512 GB SSD']"
            ]
          },
          "metadata": {},
          "execution_count": 66
        }
      ]
    },
    {
      "cell_type": "markdown",
      "source": [
        "### Regex Pattern: \\d{3} GB SSD\n",
        "\n",
        "- `\\d{3}`     → Match exactly **3 digits** (e.g., 128, 256, 512)\n",
        "- ` `         → Match a **space**\n",
        "- `GB`        → Match the literal text **\"GB\"**\n",
        "- ` `         → Match another **space**\n",
        "- `SSD`       → Match the literal text **\"SSD\"**\n"
      ],
      "metadata": {
        "id": "KQzmfdZzR0if"
      }
    },
    {
      "cell_type": "code",
      "source": [
        "re.findall(r\"\\d{2,4} GB SSD\", string)"
      ],
      "metadata": {
        "colab": {
          "base_uri": "https://localhost:8080/"
        },
        "id": "fVTQI7YNRiaD",
        "outputId": "6960b845-cf4e-484c-c6a9-6efe21b224ea"
      },
      "execution_count": null,
      "outputs": [
        {
          "output_type": "execute_result",
          "data": {
            "text/plain": [
              "['512 GB SSD',\n",
              " '512 GB SSD',\n",
              " '256 GB SSD',\n",
              " '512 GB SSD',\n",
              " '256 GB SSD',\n",
              " '256 GB SSD',\n",
              " '256 GB SSD',\n",
              " '512 GB SSD']"
            ]
          },
          "metadata": {},
          "execution_count": 64
        }
      ]
    },
    {
      "cell_type": "code",
      "source": [
        "re.findall(r\"\\d{3} GB SSD\", string, re.IGNORECASE)"
      ],
      "metadata": {
        "colab": {
          "base_uri": "https://localhost:8080/"
        },
        "id": "nN7yzRMkRiXi",
        "outputId": "72059181-acac-4d0e-d002-3ea91bb73b31"
      },
      "execution_count": null,
      "outputs": [
        {
          "output_type": "execute_result",
          "data": {
            "text/plain": [
              "['512 GB SSD',\n",
              " '512 GB SSD',\n",
              " '256 GB SSD',\n",
              " '512 GB SSD',\n",
              " '256 GB SSD',\n",
              " '256 GB SSD',\n",
              " '256 GB SSD',\n",
              " '512 GB SSD']"
            ]
          },
          "metadata": {},
          "execution_count": 65
        }
      ]
    },
    {
      "cell_type": "code",
      "source": [],
      "metadata": {
        "colab": {
          "base_uri": "https://localhost:8080/"
        },
        "id": "aCi495fu5ONI",
        "outputId": "1ed5e21e-5c44-4dd7-9d26-ffb3e3fa0d26"
      },
      "execution_count": null,
      "outputs": [
        {
          "output_type": "execute_result",
          "data": {
            "text/plain": [
              "['512 GB SSD',\n",
              " '512 GB SSD',\n",
              " '256 GB SSD',\n",
              " '512 GB SSD',\n",
              " '256 GB SSD',\n",
              " '256 GB SSD',\n",
              " '256 GB SSD',\n",
              " '512 GB SSD']"
            ]
          },
          "metadata": {},
          "execution_count": 38
        }
      ]
    },
    {
      "cell_type": "markdown",
      "source": [],
      "metadata": {
        "id": "SAgbAhsSRqHI"
      }
    },
    {
      "cell_type": "markdown",
      "metadata": {
        "id": "__QLDO7M49pe"
      },
      "source": [
        "###  Extract All RAM Sizes (Only Size in GB)\n",
        "- Look for one/two digit numbers followed by GB and before RAM."
      ]
    },
    {
      "cell_type": "code",
      "source": [
        "re.findall(r\"\\d{1,2} GB\",string)"
      ],
      "metadata": {
        "colab": {
          "base_uri": "https://localhost:8080/"
        },
        "id": "431YJLxX6uz1",
        "outputId": "2c5c4a5d-ed2f-4267-a3c4-a48191ad17c2"
      },
      "execution_count": null,
      "outputs": [
        {
          "output_type": "execute_result",
          "data": {
            "text/plain": [
              "['8 GB',\n",
              " '12 GB',\n",
              " '8 GB',\n",
              " '12 GB',\n",
              " '8 GB',\n",
              " '56 GB',\n",
              " '8 GB',\n",
              " '12 GB',\n",
              " '4 GB',\n",
              " '56 GB',\n",
              " '8 GB',\n",
              " '56 GB',\n",
              " '4 GB',\n",
              " '8 GB',\n",
              " '56 GB',\n",
              " '8 GB',\n",
              " '12 GB']"
            ]
          },
          "metadata": {},
          "execution_count": 39
        }
      ]
    },
    {
      "cell_type": "markdown",
      "source": [
        "####  Breakdown:\n",
        "\n",
        "| Part         | Explanation                                     |\n",
        "|--------------|-------------------------------------------------|\n",
        "| `\\d{1,2}`     | Match **1 to 2 digits** (e.g., `8`, `16`, `64`) |\n",
        "| ` ` (space)   | Match a **space** character                    |\n",
        "| `GB`          | Match the **literal string \"GB\"**              |"
      ],
      "metadata": {
        "id": "LZ6XPrlrR-RE"
      }
    },
    {
      "cell_type": "code",
      "source": [
        "re.findall(r\"\\d{1,2} GB\", string, re.IGNORECASE)"
      ],
      "metadata": {
        "colab": {
          "base_uri": "https://localhost:8080/"
        },
        "id": "zgGxbCjFSEwc",
        "outputId": "671f099d-8522-498b-c372-62fa3787d992"
      },
      "execution_count": null,
      "outputs": [
        {
          "output_type": "execute_result",
          "data": {
            "text/plain": [
              "['8 GB',\n",
              " '12 GB',\n",
              " '8 GB',\n",
              " '12 GB',\n",
              " '8 GB',\n",
              " '56 GB',\n",
              " '8 GB',\n",
              " '12 GB',\n",
              " '4 GB',\n",
              " '56 GB',\n",
              " '8 GB',\n",
              " '56 GB',\n",
              " '4 GB',\n",
              " '8 GB',\n",
              " '56 GB',\n",
              " '8 GB',\n",
              " '12 GB']"
            ]
          },
          "metadata": {},
          "execution_count": 67
        }
      ]
    },
    {
      "cell_type": "markdown",
      "metadata": {
        "id": "awi-uGRx49pe"
      },
      "source": [
        "### Extract All Display Sizes in Inches (e.g., 15.6 Inch)\n",
        "- Look inside parentheses that mention inches."
      ]
    },
    {
      "cell_type": "code",
      "source": [
        "print(string)"
      ],
      "metadata": {
        "colab": {
          "base_uri": "https://localhost:8080/"
        },
        "id": "LlVJHEw970ZO",
        "outputId": "65928f7a-1980-4c99-a7e0-a447dee5fd9d"
      },
      "execution_count": null,
      "outputs": [
        {
          "output_type": "stream",
          "name": "stdout",
          "text": [
            "MediaTek MT8183  GB LPDDR4 RAMAndroid Operating System29.46 cm (11.6 Inch) Display1 Year Pick and Drop Warranty\n",
            "Intel Core i5 Processor (11th Gen)8 GB DDR4 RAMWindows 11 Operating System512 GB SSD39.62 cm (15.6 Inch) Display1 Year Carry-in Warranty\n",
            "AMD Athlon Dual Core Processor8 GB DDR4 RAMWindows 11 Operating System512 GB SSD39.62 cm (15.6 Inch) Display1 Year Onsite Warranty\n",
            "Apple M2 Processor8 GB Unified Memory RAMMac OS Operating System256 GB SSD34.54 cm (13.6 Inch) DisplayBuilt-in Apps: iMovie, Siri, GarageBand, Pages, Numbers, Photos, Keynote, Safari, Mail, FaceTime, Messages, Maps, Stocks, Home, Voice Memos, Notes, Calendar, Contacts, Reminders, Photo Booth, Preview, Books, App Store, Time Machine, TV, Music, Podcasts, Find My, QuickTime Player1 Year Limited Warranty\n",
            "Intel Core i3 Processor (10th Gen)8 GB LPDDR4X RAM64 bit Windows 11 Operating System512 GB SSD39.62 cm (15.6 inch) Display1 Year Onsite Warranty\n",
            "AMD Athlon Dual Core Processor4 GB DDR4 RAMDOS Operating System256 GB SSD39.62 cm (15.6 Inch) Display1 Year Onsite Warranty\n",
            "Intel Celeron Dual Core Processor (4th Gen)8 GB DDR4 RAM64 bit Windows 11 Operating System256 GB SSD39.62 cm (15.6 inch) Display1 Years\n",
            "MediaTek MT8183 Processor4 GB LPDDR4 RAMAndroid Operating System29.46 cm (11.6 Inch) Display1 Year Pick and Drop Warranty\n",
            "Intel Core i3 Processor (12th Gen)8 GB LPDDR5 RAM64 bit Windows 11 Operating System256 GB SSD39.62 cm (15.6 Inch) Display1 Year International Travelers Warranty\n",
            "AMD Ryzen 5 Hexa Core Processor8 GB DDR4 RAM64 bit Windows 11 Operating System512 GB SSD39.62 cm (15.6 inch) DisplayMicrosoft Office Home 2019 & Office 365, HP Documentation, HP SSRM, HP Smart1 Year Onsite Warranty\n",
            "\n"
          ]
        }
      ]
    },
    {
      "cell_type": "code",
      "execution_count": null,
      "metadata": {
        "colab": {
          "base_uri": "https://localhost:8080/"
        },
        "id": "Lq5RkOgl49pe",
        "outputId": "bd9d7c7f-a387-492f-e002-1b93eb8e1304"
      },
      "outputs": [
        {
          "output_type": "execute_result",
          "data": {
            "text/plain": [
              "['(11.6 Inch)',\n",
              " '(15.6 Inch)',\n",
              " '(15.6 Inch)',\n",
              " '(13.6 Inch)',\n",
              " '(15.6 Inch)',\n",
              " '(11.6 Inch)',\n",
              " '(15.6 Inch)']"
            ]
          },
          "metadata": {},
          "execution_count": 41
        }
      ],
      "source": [
        "re.findall(r\"\\(\\d{2}\\.\\d Inch\\)\",string)"
      ]
    },
    {
      "cell_type": "markdown",
      "source": [
        "#### Pattern Breakdown\n",
        "\n",
        "| Regex Part       | Meaning                                                         |\n",
        "|------------------|------------------------------------------------------------------|\n",
        "| `\\(`             | Matches the **literal opening parenthesis** `(`                 |\n",
        "| `\\d{2}`          | Matches **exactly 2 digits** (e.g., `13`, `15`, `17`)           |\n",
        "| `\\.`             | Matches the **decimal point** `.`                               |\n",
        "| `\\d`             | Matches **1 digit** after the decimal (e.g., `.6`, `.3`)        |\n",
        "| ` Inch`          | Matches a **space followed by the word \"Inch\"**                 |\n",
        "| `\\)`             | Matches the **literal closing parenthesis** `)`  "
      ],
      "metadata": {
        "id": "Z7Kb0xIfSLmz"
      }
    },
    {
      "cell_type": "code",
      "source": [
        "re.findall(r\"\\(\\d{2}\\.\\d Inch\\)\", string, re.IGNORECASE)"
      ],
      "metadata": {
        "colab": {
          "base_uri": "https://localhost:8080/"
        },
        "id": "bCEJe7CTSP9G",
        "outputId": "1b87822c-08d5-498f-eda5-841c02cb191c"
      },
      "execution_count": null,
      "outputs": [
        {
          "output_type": "execute_result",
          "data": {
            "text/plain": [
              "['(11.6 Inch)',\n",
              " '(15.6 Inch)',\n",
              " '(15.6 Inch)',\n",
              " '(13.6 Inch)',\n",
              " '(15.6 inch)',\n",
              " '(15.6 Inch)',\n",
              " '(15.6 inch)',\n",
              " '(11.6 Inch)',\n",
              " '(15.6 Inch)',\n",
              " '(15.6 inch)']"
            ]
          },
          "metadata": {},
          "execution_count": 68
        }
      ]
    },
    {
      "cell_type": "markdown",
      "metadata": {
        "id": "cKZfJ5Qb49pe"
      },
      "source": [
        "### Extract All Year-Based Warranty Terms (e.g., 1 Year)\n",
        "- Search for digit followed by “Year” or “Years”."
      ]
    },
    {
      "cell_type": "code",
      "source": [
        "re.findall(r\"\\d+\\s+Year(?:s)?\", string)\n"
      ],
      "metadata": {
        "colab": {
          "base_uri": "https://localhost:8080/"
        },
        "id": "ze9HCw3IRBBO",
        "outputId": "615f8055-21e2-4967-ff1b-80cee5f9c817"
      },
      "execution_count": null,
      "outputs": [
        {
          "output_type": "execute_result",
          "data": {
            "text/plain": [
              "['1 Year',\n",
              " '1 Year',\n",
              " '1 Year',\n",
              " '1 Year',\n",
              " '1 Year',\n",
              " '1 Year',\n",
              " '1 Years',\n",
              " '1 Year',\n",
              " '1 Year',\n",
              " '1 Year']"
            ]
          },
          "metadata": {},
          "execution_count": 69
        }
      ]
    },
    {
      "cell_type": "markdown",
      "source": [
        "###  Breakdown of the Pattern\n",
        "\n",
        "| Regex Part        | Meaning                                                                 |\n",
        "|-------------------|-------------------------------------------------------------------------|\n",
        "| `\\d+`             | Match **one or more digits** (e.g., `1`, `10`, `25`)                     |\n",
        "| `\\s+`             | Match **one or more whitespace characters** (e.g., space, tab)           |\n",
        "| `Year`            | Match the literal word **\"Year\"**                                        |\n",
        "| `(?:s)?`          | Match an **optional \"s\"** (non-capturing group), for **\"Year\" or \"Years\"** |"
      ],
      "metadata": {
        "id": "oMEcAp4USd9E"
      }
    },
    {
      "cell_type": "code",
      "source": [
        "re.findall(r\"\\d Year|Years\",string)"
      ],
      "metadata": {
        "colab": {
          "base_uri": "https://localhost:8080/"
        },
        "id": "NjbQYejlPhQ_",
        "outputId": "c38284a6-04ce-4910-caf2-c3fad46e720b"
      },
      "execution_count": null,
      "outputs": [
        {
          "output_type": "execute_result",
          "data": {
            "text/plain": [
              "['1 Year',\n",
              " '1 Year',\n",
              " '1 Year',\n",
              " '1 Year',\n",
              " '1 Year',\n",
              " '1 Year',\n",
              " '1 Year',\n",
              " '1 Year',\n",
              " '1 Year',\n",
              " '1 Year']"
            ]
          },
          "metadata": {},
          "execution_count": 63
        }
      ]
    },
    {
      "cell_type": "code",
      "execution_count": null,
      "metadata": {
        "id": "l3tXhDQr49pf",
        "colab": {
          "base_uri": "https://localhost:8080/"
        },
        "outputId": "702c8ab8-4d0b-4574-9072-cbf51c0b8778"
      },
      "outputs": [
        {
          "output_type": "stream",
          "name": "stdout",
          "text": [
            "MediaTek MT8183  GB LPDDR4 RAMAndroid Operating System29.46 cm (11.6 Inch) Display1 Year Pick and Drop Warranty\n",
            "Intel Core i5 Processor (11th Gen)8 GB DDR4 RAMWindows 11 Operating System512 GB SSD39.62 cm (15.6 Inch) Display1 Year Carry-in Warranty\n",
            "AMD Athlon Dual Core Processor8 GB DDR4 RAMWindows 11 Operating System512 GB SSD39.62 cm (15.6 Inch) Display1 Year Onsite Warranty\n",
            "Apple M2 Processor8 GB Unified Memory RAMMac OS Operating System256 GB SSD34.54 cm (13.6 Inch) DisplayBuilt-in Apps: iMovie, Siri, GarageBand, Pages, Numbers, Photos, Keynote, Safari, Mail, FaceTime, Messages, Maps, Stocks, Home, Voice Memos, Notes, Calendar, Contacts, Reminders, Photo Booth, Preview, Books, App Store, Time Machine, TV, Music, Podcasts, Find My, QuickTime Player1 Year Limited Warranty\n",
            "Intel Core i3 Processor (10th Gen)8 GB LPDDR4X RAM64 bit Windows 11 Operating System512 GB SSD39.62 cm (15.6 inch) Display1 Year Onsite Warranty\n",
            "AMD Athlon Dual Core Processor4 GB DDR4 RAMDOS Operating System256 GB SSD39.62 cm (15.6 Inch) Display1 Year Onsite Warranty\n",
            "Intel Celeron Dual Core Processor (4th Gen)8 GB DDR4 RAM64 bit Windows 11 Operating System256 GB SSD39.62 cm (15.6 inch) Display1 Years\n",
            "MediaTek MT8183 Processor4 GB LPDDR4 RAMAndroid Operating System29.46 cm (11.6 Inch) Display1 Year Pick and Drop Warranty\n",
            "Intel Core i3 Processor (12th Gen)8 GB LPDDR5 RAM64 bit Windows 11 Operating System256 GB SSD39.62 cm (15.6 Inch) Display1 Year International Travelers Warranty\n",
            "AMD Ryzen 5 Hexa Core Processor8 GB DDR4 RAM64 bit Windows 11 Operating System512 GB SSD39.62 cm (15.6 inch) DisplayMicrosoft Office Home 2019 & Office 365, HP Documentation, HP SSRM, HP Smart1 Year Onsite Warranty\n",
            "\n"
          ]
        }
      ],
      "source": [
        "print(string)"
      ]
    },
    {
      "cell_type": "markdown",
      "metadata": {
        "id": "mJ2Kd-6i49pg"
      },
      "source": [
        "### Extract Only Processor Brands (Intel, AMD, etc.)\n",
        "- Look for processor vendor names."
      ]
    },
    {
      "cell_type": "code",
      "source": [
        "re.findall(\"(?:Intel|AMD|Apple|MediaTek)\",string)"
      ],
      "metadata": {
        "colab": {
          "base_uri": "https://localhost:8080/"
        },
        "id": "Y7Q0EWjEQnen",
        "outputId": "42798b27-5fb0-48a0-f9fe-b33b28110e95"
      },
      "execution_count": null,
      "outputs": [
        {
          "output_type": "execute_result",
          "data": {
            "text/plain": [
              "['MediaTek',\n",
              " 'Intel',\n",
              " 'AMD',\n",
              " 'Apple',\n",
              " 'Intel',\n",
              " 'AMD',\n",
              " 'AMD',\n",
              " 'Intel',\n",
              " 'MediaTek',\n",
              " 'Intel',\n",
              " 'AMD']"
            ]
          },
          "metadata": {},
          "execution_count": 71
        }
      ]
    },
    {
      "cell_type": "markdown",
      "source": [
        "###  Breakdown of the Pattern\n",
        "\n",
        "| Component                   | Explanation                                                                 |\n",
        "|-----------------------------|-----------------------------------------------------------------------------|\n",
        "| `\\b`                        | **Word boundary** — ensures the match is not part of a longer word          |\n",
        "| `(?:...)`                   | **Non-capturing group** — groups options but doesn’t capture for reuse      |\n",
        "| `Intel\\|AMD\\|Apple\\|MediaTek` | Match **any one** of these exact words: `Intel`, `AMD`, `Apple`, `MediaTek` |\n",
        "| `\\b`                        | **Word boundary** after the match to prevent partial matches                |\n",
        "\n",
        "---"
      ],
      "metadata": {
        "id": "uASLwAMXSxVN"
      }
    },
    {
      "cell_type": "code",
      "execution_count": null,
      "metadata": {
        "id": "s27W8Lee49ph",
        "colab": {
          "base_uri": "https://localhost:8080/"
        },
        "outputId": "0eda2931-fcd7-4658-c33c-caa04900fb6b"
      },
      "outputs": [
        {
          "output_type": "execute_result",
          "data": {
            "text/plain": [
              "['Intel Core i5 Processor',\n",
              " 'AMD Athlon Dual Core Processor',\n",
              " 'Apple M2 Processor',\n",
              " 'Intel Core i3 Processor',\n",
              " 'AMD Athlon Dual Core Processor',\n",
              " 'Intel Celeron Dual Core Processor',\n",
              " 'MediaTek MT8183 Processor',\n",
              " 'Intel Core i3 Processor',\n",
              " 'AMD Ryzen 5 Hexa Core Processor']"
            ]
          },
          "metadata": {},
          "execution_count": 56
        }
      ],
      "source": [
        "re.findall('\\w.+ Processor',string)"
      ]
    },
    {
      "cell_type": "markdown",
      "metadata": {
        "id": "4mGFWZ5S49ph"
      },
      "source": [
        "### Extract Complete RAM Configuration (e.g., 8 GB DDR4 RAM)\n",
        "- Find GB + RAM type + ‘RAM’."
      ]
    },
    {
      "cell_type": "code",
      "execution_count": null,
      "metadata": {
        "id": "Cqzwf3XU49pi",
        "colab": {
          "base_uri": "https://localhost:8080/"
        },
        "outputId": "c8728ab3-6003-4f51-ed2c-ce49d605e75a"
      },
      "outputs": [
        {
          "output_type": "execute_result",
          "data": {
            "text/plain": [
              "['8 GB DDR4 RAM',\n",
              " '8 GB DDR4 RAM',\n",
              " '8 GB Unified Memory RAM',\n",
              " '8 GB LPDDR4X RAM',\n",
              " '4 GB DDR4 RAM',\n",
              " '8 GB DDR4 RAM',\n",
              " '4 GB LPDDR4 RAM',\n",
              " '8 GB LPDDR5 RAM',\n",
              " '8 GB DDR4 RAM']"
            ]
          },
          "metadata": {},
          "execution_count": 79
        }
      ],
      "source": [
        "re.findall(r'\\d{1,2} GB (?:LPDDR\\dX?|DDR\\d|Unified Memory) RAM',string)"
      ]
    },
    {
      "cell_type": "markdown",
      "source": [
        "### Pattern Breakdown\n",
        "\n",
        "| Regex Part                          | Meaning                                                                 |\n",
        "|-------------------------------------|-------------------------------------------------------------------------|\n",
        "| `\\d{1,2}`                           | Match **1 or 2 digits** (e.g., `4`, `8`, `16`)                           |\n",
        "| ` GB `                              | Match the literal string **\" GB \"** (with spaces)                       |\n",
        "| `(?: ... )`                         | **Non-capturing group** — groups multiple options without capturing     |\n",
        "| `LPDDR\\dX?`                         | Match `LPDDR` followed by **a digit**, optionally followed by `\"X\"`     |\n",
        "| `DDR\\d`                             | Match `DDR` followed by a **single digit** (e.g., `DDR4`)               |\n",
        "| `Unified Memory`                    | Match the exact phrase `\"Unified Memory\"`                               |\n",
        "| ` RAM`                              | Match the literal string `\" RAM\"`                                       |"
      ],
      "metadata": {
        "id": "vP_mQRfFTGvC"
      }
    },
    {
      "cell_type": "markdown",
      "metadata": {
        "id": "5mcB-Axf49ps"
      },
      "source": [
        "### Extract All Display Details (e.g., 39.62 cm (15.6 Inch) Display)\n",
        " - Match everything including cm and Display."
      ]
    },
    {
      "cell_type": "code",
      "execution_count": null,
      "metadata": {
        "id": "gu3SqaJz49pt",
        "colab": {
          "base_uri": "https://localhost:8080/"
        },
        "outputId": "e4d6e104-67ad-4b3d-a314-5453c01e174a"
      },
      "outputs": [
        {
          "output_type": "execute_result",
          "data": {
            "text/plain": [
              "['29.46 cm (11.6 Inch) Display',\n",
              " '39.62 cm (15.6 Inch) Display',\n",
              " '39.62 cm (15.6 Inch) Display',\n",
              " '34.54 cm (13.6 Inch) Display',\n",
              " '39.62 cm (15.6 Inch) Display',\n",
              " '29.46 cm (11.6 Inch) Display',\n",
              " '39.62 cm (15.6 Inch) Display']"
            ]
          },
          "metadata": {},
          "execution_count": 82
        }
      ],
      "source": [
        "re.findall(r\"\\d{2}\\.\\d{2} cm \\(\\d{2}\\.\\d Inch\\) Display\",string)"
      ]
    },
    {
      "cell_type": "markdown",
      "metadata": {
        "id": "VBE1gHTn49pu"
      },
      "source": [
        "### Extract Warranty Type (e.g., Onsite, Carry-in, Limited)\n",
        "- Comes before the word “Warranty”."
      ]
    },
    {
      "cell_type": "code",
      "execution_count": null,
      "metadata": {
        "id": "3XGZFDZZ49pv",
        "colab": {
          "base_uri": "https://localhost:8080/"
        },
        "outputId": "b3850880-abe7-4697-e214-7ffdb0ce2f84"
      },
      "outputs": [
        {
          "output_type": "execute_result",
          "data": {
            "text/plain": [
              "['Pick and Drop',\n",
              " 'Carry-in',\n",
              " 'Onsite',\n",
              " 'Limited',\n",
              " 'Onsite',\n",
              " 'Onsite',\n",
              " 'Pick and Drop',\n",
              " 'International Travelers',\n",
              " 'Onsite']"
            ]
          },
          "metadata": {},
          "execution_count": 81
        }
      ],
      "source": [
        "re.findall(r'\\d Year(?:s)? ([A-Za-z\\- ]+) Warranty',string)"
      ]
    },
    {
      "cell_type": "markdown",
      "source": [
        "### Pattern Breakdown\n",
        "\n",
        "| Regex Part                       | Meaning                                                                 |\n",
        "|----------------------------------|-------------------------------------------------------------------------|\n",
        "| `\\d`                             | Match a **single digit** (e.g., `1`, `2`)                               |\n",
        "| ` Year`                          | Match the word **\" Year\"** with a space                                 |\n",
        "| `(?:s)?`                         | Optional `\"s\"` (non-capturing group) for plural — matches `\"Year\"` or `\"Years\"` |\n",
        "| `([A-Za-z\\- ]+)`                 | **Capturing group** that matches one or more of:                       |\n",
        "|                                  | - Uppercase or lowercase letters (`A-Za-z`)                            |\n",
        "|                                  | - Hyphens (`-`)                                                        |\n",
        "|                                  | - Spaces (` `)                                                         |\n",
        "|                                  | → Example: `\"Onsite\"`, `\"Carry-In\"`, `\"Pickup and Return\"`            |\n",
        "| ` Warranty`                      | Match the word **\" Warranty\"**      "
      ],
      "metadata": {
        "id": "n_pLn3bcMAqg"
      }
    },
    {
      "cell_type": "markdown",
      "metadata": {
        "id": "9AIkqKmf49px"
      },
      "source": [
        "### Extract Only Generation Information (e.g., (11th Gen))\n",
        "- Look inside parentheses."
      ]
    },
    {
      "cell_type": "code",
      "execution_count": null,
      "metadata": {
        "id": "9n_NTggK49px",
        "colab": {
          "base_uri": "https://localhost:8080/"
        },
        "outputId": "4f8aa969-edc9-43d4-8af4-96952e736c0e"
      },
      "outputs": [
        {
          "output_type": "execute_result",
          "data": {
            "text/plain": [
              "['11th Gen', '10th Gen', '12th Gen']"
            ]
          },
          "metadata": {},
          "execution_count": 94
        }
      ],
      "source": [
        "re.findall(r'\\((\\d{2,3}th Gen)\\)',string)"
      ]
    },
    {
      "cell_type": "markdown",
      "source": [
        "### Pattern Breakdown\n",
        "\n",
        "| Regex Part              | Meaning                                                                 |\n",
        "|--------------------------|-------------------------------------------------------------------------|\n",
        "| `\\(`                    | Match the **literal opening parenthesis** `(`                          |\n",
        "| `(\\d{2,3}th Gen)`       | **Capturing group** that matches:                                      |\n",
        "| - `\\d{2,3}`             | Exactly **2 or 3 digits** (e.g., `11`, `13`, `125`)                     |\n",
        "| - `th Gen`              | Literal text `\"th Gen\"`                                                 |\n",
        "| `\\)`                    | Match the **literal closing parenthesis** `)`                          |\n",
        "\n",
        "- The entire expression ensures the pattern must be inside parentheses."
      ],
      "metadata": {
        "id": "JK_4kOy1MJV5"
      }
    },
    {
      "cell_type": "markdown",
      "metadata": {
        "id": "n097bqih49px"
      },
      "source": [
        "### Extract Only OS Name (e.g., Windows 11, Mac OS)\n",
        "-  Without the “Operating System” phrase"
      ]
    },
    {
      "cell_type": "code",
      "execution_count": null,
      "metadata": {
        "id": "SWTnHRvc49py",
        "colab": {
          "base_uri": "https://localhost:8080/"
        },
        "outputId": "e0bea795-648e-4558-c26e-6716b8cc4c0f"
      },
      "outputs": [
        {
          "output_type": "execute_result",
          "data": {
            "text/plain": [
              "['29', '512', '512', '256', '512', '256', '256', '29', '256', '512']"
            ]
          },
          "metadata": {},
          "execution_count": 95
        }
      ],
      "source": [
        "re.findall(r'Operating System(\\w+)',string)"
      ]
    },
    {
      "cell_type": "markdown",
      "metadata": {
        "id": "M4N3tV3m49py"
      },
      "source": [
        "### Extract All LPDDR RAM Types (e.g., LPDDR4, LPDDR5X)\n",
        "- LP prefix indicates Low Power RAM."
      ]
    },
    {
      "cell_type": "code",
      "execution_count": null,
      "metadata": {
        "id": "X9BfuPrA49py",
        "colab": {
          "base_uri": "https://localhost:8080/"
        },
        "outputId": "66215070-0e88-45d7-884a-b9de458cee0a"
      },
      "outputs": [
        {
          "output_type": "execute_result",
          "data": {
            "text/plain": [
              "['8 GB DDR4',\n",
              " '8 GB DDR4',\n",
              " '8 GB LPDDR4X',\n",
              " '4 GB DDR4',\n",
              " '8 GB DDR4',\n",
              " '4 GB LPDDR4',\n",
              " '8 GB LPDDR5',\n",
              " '8 GB DDR4']"
            ]
          },
          "metadata": {},
          "execution_count": 96
        }
      ],
      "source": [
        "re.findall(r'\\d{1,2} GB (?:LPDDR\\dX?|DDR\\d)',string)"
      ]
    },
    {
      "cell_type": "markdown",
      "source": [
        "### Pattern Breakdown\n",
        "\n",
        "| Regex Part               | Description                                                                 |\n",
        "|---------------------------|-----------------------------------------------------------------------------|\n",
        "| `\\d{1,2}`                | Match **1 or 2 digits** (e.g., `8`, `16`)                                    |\n",
        "| ` GB `                   | Match a **space, 'GB', and space**                                          |\n",
        "| `(?: ... )`              | A **non-capturing group** — groups multiple options without capturing them |\n",
        "| `LPDDR\\dX?`              | Match `LPDDR` followed by a digit (e.g., `LPDDR4` or `LPDDR5X`)             |\n",
        "| `DDR\\d`                  | OR match `DDR` followed by a digit (e.g., `DDR4`, `DDR5`)                   |\n",
        "\n",
        "> `X?` makes the letter **\"X\" optional** in `LPDDR5X`, `LPDDR4`, etc."
      ],
      "metadata": {
        "id": "dJOqf_yCMZrs"
      }
    },
    {
      "cell_type": "markdown",
      "metadata": {
        "id": "7Tt_IALEzBSp"
      },
      "source": [
        "## Search and Replace\n",
        "\n",
        "### What is Search and Replace in Regex?\n",
        "\n",
        "Search and Replace using regular expressions means:\n",
        "\n",
        "- Searching a pattern in text using a regex\n",
        "\n",
        "- Replacing the matched text with something else (static or dynamic)\n",
        "\n",
        "It's extremely useful for data cleaning, formatting, renaming, or pattern corrections."
      ]
    },
    {
      "cell_type": "code",
      "execution_count": null,
      "metadata": {
        "ExecuteTime": {
          "end_time": "2018-06-07T03:24:38.470165Z",
          "start_time": "2018-06-07T03:24:38.460338Z"
        },
        "colab": {
          "base_uri": "https://localhost:8080/"
        },
        "id": "xLqEQ4UFzBSq",
        "outputId": "c4a964db-7b07-4693-9a56-e1391b219802"
      },
      "outputs": [
        {
          "output_type": "stream",
          "name": "stdout",
          "text": [
            "Phone num:  1233-123-345 # This is a phone\n",
            "Phone num:  1233-123-345 \n",
            "Phone num:  1233123345\n"
          ]
        }
      ],
      "source": [
        "# re.sub(regex, replacement, targetString)\n",
        "\n",
        "import re\n",
        "\n",
        "phone = '1233-123-345 # This is a phone'\n",
        "\n",
        "print('Phone num: ', phone)\n",
        "\n",
        "num = re.sub('#.*$', '', phone)\n",
        "\n",
        "print('Phone num: ',num)\n",
        "\n",
        "num = re.sub('\\D', '', phone)\n",
        "\n",
        "print('Phone num: ', num)"
      ]
    },
    {
      "cell_type": "markdown",
      "metadata": {
        "id": "Ug_-_yDqzBSq"
      },
      "source": [
        "## re.split()"
      ]
    },
    {
      "cell_type": "code",
      "execution_count": null,
      "metadata": {
        "ExecuteTime": {
          "end_time": "2018-06-07T03:12:31.994925Z",
          "start_time": "2018-06-07T03:12:31.989166Z"
        },
        "colab": {
          "base_uri": "https://localhost:8080/"
        },
        "id": "-WbOUhkEzBSr",
        "outputId": "e6ebfb89-8c96-4fc6-8c65-11517d2eb3ca"
      },
      "outputs": [
        {
          "output_type": "stream",
          "name": "stdout",
          "text": [
            "['I', 'Learn', 'Python', 'Regex']\n"
          ]
        }
      ],
      "source": [
        "import re\n",
        "\n",
        "l = re.split('-', 'I-Learn-Python-Regex')\n",
        "\n",
        "print(l)"
      ]
    },
    {
      "cell_type": "code",
      "execution_count": null,
      "metadata": {
        "ExecuteTime": {
          "end_time": "2018-06-07T05:48:53.762406Z",
          "start_time": "2018-06-07T05:48:53.753430Z"
        },
        "colab": {
          "base_uri": "https://localhost:8080/"
        },
        "id": "FG5ue5-vzBSr",
        "outputId": "1b612c5a-8c19-4fa4-85f8-7f200fb6ce00"
      },
      "outputs": [
        {
          "output_type": "stream",
          "name": "stdout",
          "text": [
            "['abcdefg', 'gmail', 'com']\n"
          ]
        }
      ],
      "source": [
        "import re\n",
        "\n",
        "l = re.split('\\W', 'abcdefg@gmail.com')\n",
        "\n",
        "print(l)"
      ]
    },
    {
      "cell_type": "code",
      "execution_count": null,
      "metadata": {
        "ExecuteTime": {
          "end_time": "2018-06-07T05:47:38.918176Z",
          "start_time": "2018-06-07T05:47:38.913083Z"
        },
        "colab": {
          "base_uri": "https://localhost:8080/"
        },
        "id": "Dfwunbl7zBSr",
        "outputId": "3fd600df-010b-4c00-bf13-355a3ed98c6e"
      },
      "outputs": [
        {
          "output_type": "stream",
          "name": "stdout",
          "text": [
            "['www', 'facebook', 'com']\n"
          ]
        }
      ],
      "source": [
        "import re\n",
        "\n",
        "l = re.split('[.]', 'www.facebook.com')\n",
        "\n",
        "print(l)"
      ]
    },
    {
      "cell_type": "markdown",
      "metadata": {
        "id": "J8sgqQQQzBSs"
      },
      "source": [
        "# Step by Step creating RegEx"
      ]
    },
    {
      "cell_type": "markdown",
      "metadata": {
        "id": "3zboqPalzBSs"
      },
      "source": [
        "### STEP-1 : Create pattern object"
      ]
    },
    {
      "cell_type": "code",
      "execution_count": null,
      "metadata": {
        "ExecuteTime": {
          "end_time": "2018-06-07T05:21:44.171122Z",
          "start_time": "2018-06-07T05:21:44.165136Z"
        },
        "colab": {
          "base_uri": "https://localhost:8080/"
        },
        "id": "NUtijYHGzBSs",
        "outputId": "cf4b7193-506d-4e81-d9e4-a509e8ef6746"
      },
      "outputs": [
        {
          "output_type": "stream",
          "name": "stdout",
          "text": [
            "<class 're.Pattern'>\n"
          ]
        }
      ],
      "source": [
        "# compile() -> convert the pattern into regex object\n",
        "\n",
        "import re\n",
        "\n",
        "pattern = re.compile('Python')\n",
        "\n",
        "print(type(pattern))"
      ]
    },
    {
      "cell_type": "markdown",
      "metadata": {
        "id": "Y7ao18YfzBS3"
      },
      "source": [
        "### STEP-2 : Create Matcher object"
      ]
    },
    {
      "cell_type": "code",
      "execution_count": null,
      "metadata": {
        "ExecuteTime": {
          "end_time": "2018-06-07T05:21:53.105420Z",
          "start_time": "2018-06-07T05:21:53.100434Z"
        },
        "colab": {
          "base_uri": "https://localhost:8080/"
        },
        "id": "TkM_ynW8zBS4",
        "outputId": "f3747b47-7c97-4065-9b3c-4793ad96dfd9"
      },
      "outputs": [
        {
          "output_type": "stream",
          "name": "stdout",
          "text": [
            "<class 'callable_iterator'>\n"
          ]
        }
      ],
      "source": [
        "# finditer() -> we can check how many matcher are available\n",
        "\n",
        "matcher = pattern.finditer('I Python am learning python Regex in Python!')\n",
        "\n",
        "print(type(matcher))\n"
      ]
    },
    {
      "cell_type": "markdown",
      "metadata": {
        "id": "KqBIuxR_zBS4"
      },
      "source": [
        "### STEP-3 : Iterate over the Matcher"
      ]
    },
    {
      "cell_type": "code",
      "execution_count": null,
      "metadata": {
        "ExecuteTime": {
          "end_time": "2018-06-07T05:22:27.107742Z",
          "start_time": "2018-06-07T05:22:27.102753Z"
        },
        "colab": {
          "base_uri": "https://localhost:8080/"
        },
        "id": "Izsx1-HBzBS5",
        "outputId": "1c82f9f7-1f04-4d16-d9c1-e5c1df000833"
      },
      "outputs": [
        {
          "output_type": "stream",
          "name": "stdout",
          "text": [
            "<class 're.Match'>\n",
            "Match is at:2, End:8, Pattern found: Python\n",
            "<class 're.Match'>\n",
            "Match is at:37, End:43, Pattern found: Python\n",
            "DONE!!\n"
          ]
        }
      ],
      "source": [
        "# start() -> starting index of matched string\n",
        "# end() -> end+1 index\n",
        "# group() -> returns matched sring\n",
        "\n",
        "for m in matcher:\n",
        "    print(type(m))\n",
        "    print('Match is at:{}, End:{}, Pattern found: {}'.\n",
        "          format(m.start(), m.end(), m.group()))\n",
        "print('DONE!!')\n"
      ]
    },
    {
      "cell_type": "markdown",
      "metadata": {
        "id": "DEaTnv5-zBS5"
      },
      "source": [
        "## Using Various Combinations"
      ]
    },
    {
      "cell_type": "code",
      "execution_count": null,
      "metadata": {
        "colab": {
          "base_uri": "https://localhost:8080/"
        },
        "id": "ZZhQSeMuzBS5",
        "outputId": "55221049-0a6e-44ef-d6d4-e5bdd987286d"
      },
      "outputs": [
        {
          "output_type": "stream",
          "name": "stdout",
          "text": [
            "ab 0 2\n",
            "ab 3 5\n",
            "ab 5 7\n"
          ]
        }
      ],
      "source": [
        "# Pattern = 'ab'\n",
        "# Target = 'abaababa'\n",
        "# Way - 1\n",
        "\n",
        "import re\n",
        "\n",
        "pattern = re.compile('ab')\n",
        "\n",
        "matcher = pattern.finditer('abaababa')\n",
        "\n",
        "for m in matcher:\n",
        "    print(m.group(), m.start(), m.end())"
      ]
    },
    {
      "cell_type": "code",
      "execution_count": null,
      "metadata": {
        "colab": {
          "base_uri": "https://localhost:8080/"
        },
        "id": "mcIupttwzBS6",
        "outputId": "368c33d5-33d7-4d6c-9925-7ed0950be4be"
      },
      "outputs": [
        {
          "output_type": "stream",
          "name": "stdout",
          "text": [
            "ab 0 2\n",
            "ab 3 5\n",
            "ab 5 7\n"
          ]
        }
      ],
      "source": [
        "# Way - 2\n",
        "\n",
        "import re\n",
        "\n",
        "matcher = re.compile('ab').finditer('abaababa')\n",
        "\n",
        "for m in matcher:\n",
        "    print(m.group(), m.start(), m.end())"
      ]
    },
    {
      "cell_type": "code",
      "execution_count": null,
      "metadata": {
        "colab": {
          "base_uri": "https://localhost:8080/"
        },
        "id": "4YnjhCS9zBS6",
        "outputId": "de8360bf-0422-486f-e703-ea22b84a0feb"
      },
      "outputs": [
        {
          "output_type": "stream",
          "name": "stdout",
          "text": [
            "aaaaa 0 5\n",
            "aaa 11 14\n",
            "aa 21 23\n",
            "a 30 31\n"
          ]
        }
      ],
      "source": [
        "# Way - 3\n",
        "# re.finditer(pattern, target)\n",
        "\n",
        "import re\n",
        "\n",
        "matcher = re.finditer('a+', 'aaaaabbcdegaaabdfgfdgaabjukilua')\n",
        "\n",
        "for m in matcher:\n",
        "    print(m.group(), m.start(), m.end())"
      ]
    },
    {
      "cell_type": "code",
      "execution_count": null,
      "metadata": {
        "ExecuteTime": {
          "end_time": "2018-06-07T05:24:58.259291Z",
          "start_time": "2018-06-07T05:24:58.254301Z"
        },
        "colab": {
          "base_uri": "https://localhost:8080/"
        },
        "id": "M3VswfwzzBS6",
        "outputId": "e135263d-e170-451d-f6ee-be8b6f237bc5"
      },
      "outputs": [
        {
          "output_type": "stream",
          "name": "stdout",
          "text": [
            "Match is at:0, End:2, Pattern found: ab\n",
            "Match is at:3, End:5, Pattern found: ab\n",
            "Match is at:5, End:7, Pattern found: ab\n",
            "Total count:  3\n"
          ]
        }
      ],
      "source": [
        "import re\n",
        "\n",
        "matcher = re.finditer('ab', 'abaababa')\n",
        "\n",
        "count = 0\n",
        "\n",
        "for m in matcher:\n",
        "    count += 1\n",
        "    print('Match is at:{}, End:{}, Pattern found: {}'.format(m.start(), m.end(), m.group()))\n",
        "print('Total count: ',count)"
      ]
    },
    {
      "cell_type": "code",
      "execution_count": null,
      "metadata": {
        "ExecuteTime": {
          "end_time": "2018-06-07T02:17:22.036827Z",
          "start_time": "2018-06-07T02:17:22.021800Z"
        },
        "colab": {
          "base_uri": "https://localhost:8080/"
        },
        "id": "Araf_88QzBS7",
        "outputId": "33e2c9d7-ea5c-4f5b-b374-b4e5d4bdefb0"
      },
      "outputs": [
        {
          "output_type": "stream",
          "name": "stdout",
          "text": [
            "Match is at:1, End:3, Pattern found: ba\n",
            "Match is at:4, End:6, Pattern found: ba\n",
            "Match is at:6, End:8, Pattern found: ba\n",
            "Total count:  3\n"
          ]
        }
      ],
      "source": [
        "matcher = re.finditer('ba', 'abaababa')\n",
        "\n",
        "count = 0\n",
        "\n",
        "for m in matcher:\n",
        "    count += 1\n",
        "    print('Match is at:{}, End:{}, Pattern found: {}'.format(m.start(), m.end(), m.group()))\n",
        "print('Total count: ',count)"
      ]
    },
    {
      "cell_type": "code",
      "execution_count": null,
      "metadata": {
        "colab": {
          "base_uri": "https://localhost:8080/"
        },
        "id": "eccxI0U4zBS7",
        "outputId": "e7a7ac17-5caa-4788-a048-275db452ae59"
      },
      "outputs": [
        {
          "output_type": "stream",
          "name": "stdout",
          "text": [
            "<class 'list'>\n",
            "<class 'int'>\n",
            "<class 'float'>\n",
            "<class 'str'>\n",
            "<class 'bool'>\n"
          ]
        }
      ],
      "source": [
        "lst = [1, 2.0, '3', True]\n",
        "\n",
        "print(type(lst))\n",
        "\n",
        "for i in lst:\n",
        "    print(type(i))"
      ]
    },
    {
      "cell_type": "code",
      "execution_count": null,
      "metadata": {
        "colab": {
          "base_uri": "https://localhost:8080/"
        },
        "id": "XJRd72-azBS7",
        "outputId": "75fbb12a-7067-4c4c-9b09-5310230be3b7"
      },
      "outputs": [
        {
          "output_type": "stream",
          "name": "stdout",
          "text": [
            "<class 'callable_iterator'>\n",
            "an 1 3\n",
            "<class 're.Match'>\n",
            "an 7 9\n",
            "<class 're.Match'>\n"
          ]
        }
      ],
      "source": [
        "matcher = re.finditer('an', 'Kanav Bansal')\n",
        "\n",
        "print(type(matcher))\n",
        "\n",
        "for m in matcher:\n",
        "    print(m.group(), m.start(), m.end())\n",
        "    print(type(m))"
      ]
    },
    {
      "cell_type": "code",
      "execution_count": null,
      "metadata": {
        "ExecuteTime": {
          "end_time": "2018-06-07T02:18:37.371274Z",
          "start_time": "2018-06-07T02:18:37.361272Z"
        },
        "colab": {
          "base_uri": "https://localhost:8080/"
        },
        "id": "n2aEquoWzBS7",
        "outputId": "6a3500ad-b151-40cc-8dec-906a20d252bc"
      },
      "outputs": [
        {
          "output_type": "stream",
          "name": "stdout",
          "text": [
            "Match is at: 0, End: 1, Pattern found: a\n",
            "Match is at: 2, End: 3, Pattern found: b\n",
            "Total count:  2\n"
          ]
        }
      ],
      "source": [
        "matcher = re.finditer('[abc]', 'a7b@ k9z')\n",
        "\n",
        "count = 0\n",
        "\n",
        "for m in matcher:\n",
        "    count += 1\n",
        "    print('Match is at: {}, End: {}, Pattern found: {}'.format(m.start(), m.end(), m.group()))\n",
        "print('Total count: ',count)"
      ]
    },
    {
      "cell_type": "code",
      "execution_count": null,
      "metadata": {
        "ExecuteTime": {
          "end_time": "2018-06-07T02:19:14.833187Z",
          "start_time": "2018-06-07T02:19:14.823192Z"
        },
        "colab": {
          "base_uri": "https://localhost:8080/"
        },
        "id": "-aBOcL2LzBS8",
        "outputId": "fe035cf7-d0f3-4f3f-c2b8-6d3683856b7b"
      },
      "outputs": [
        {
          "output_type": "stream",
          "name": "stdout",
          "text": [
            "Match is at: 0, End: 1, Pattern found: a\n",
            "Match is at: 2, End: 3, Pattern found: b\n",
            "Match is at: 5, End: 6, Pattern found: k\n",
            "Match is at: 7, End: 8, Pattern found: z\n",
            "Total count:  4\n"
          ]
        }
      ],
      "source": [
        "matcher = re.finditer('[a-z]', 'a7b@ k9z')\n",
        "\n",
        "count = 0\n",
        "\n",
        "for m in matcher:\n",
        "    count += 1\n",
        "    print('Match is at: {}, End: {}, Pattern found: {}'.format(m.start(), m.end(), m.group()))\n",
        "print('Total count: ',count)"
      ]
    },
    {
      "cell_type": "code",
      "execution_count": null,
      "metadata": {
        "ExecuteTime": {
          "end_time": "2018-06-07T02:19:27.387351Z",
          "start_time": "2018-06-07T02:19:27.382352Z"
        },
        "colab": {
          "base_uri": "https://localhost:8080/"
        },
        "id": "3txJsjTxzBS8",
        "outputId": "d64abd63-172b-4c1a-db28-fd88c1aefc20"
      },
      "outputs": [
        {
          "output_type": "stream",
          "name": "stdout",
          "text": [
            "Match is at: 1, End: 2, Pattern found: 7\n",
            "Match is at: 3, End: 4, Pattern found: @\n",
            "Match is at: 4, End: 5, Pattern found:  \n",
            "Match is at: 6, End: 7, Pattern found: 9\n",
            "Total count:  4\n"
          ]
        }
      ],
      "source": [
        "matcher = re.finditer('[^a-z]', 'a7b@ k9z')\n",
        "\n",
        "count = 0\n",
        "\n",
        "for m in matcher:\n",
        "    count += 1\n",
        "    print('Match is at: {}, End: {}, Pattern found: {}'.format(m.start(), m.end(), m.group()))\n",
        "print('Total count: ',count)"
      ]
    },
    {
      "cell_type": "code",
      "execution_count": null,
      "metadata": {
        "ExecuteTime": {
          "end_time": "2018-06-07T02:22:23.415113Z",
          "start_time": "2018-06-07T02:22:23.405118Z"
        },
        "colab": {
          "base_uri": "https://localhost:8080/"
        },
        "id": "IvJtwFYFzBS8",
        "outputId": "3262e8ce-23bb-4ed0-dba9-15b601ec7e04"
      },
      "outputs": [
        {
          "output_type": "stream",
          "name": "stdout",
          "text": [
            "Match is at: 4, End: 5, Pattern found:  \n",
            "Total count:  1\n"
          ]
        }
      ],
      "source": [
        "matcher = re.finditer('\\s', 'a7b@ k9z')\n",
        "\n",
        "count = 0\n",
        "\n",
        "for m in matcher:\n",
        "    count += 1\n",
        "    print('Match is at: {}, End: {}, Pattern found: {}'.format(m.start(), m.end(), m.group()))\n",
        "print('Total count: ',count)"
      ]
    },
    {
      "cell_type": "code",
      "execution_count": null,
      "metadata": {
        "ExecuteTime": {
          "end_time": "2018-06-07T02:22:30.758828Z",
          "start_time": "2018-06-07T02:22:30.753820Z"
        },
        "colab": {
          "base_uri": "https://localhost:8080/"
        },
        "id": "MB9dyjJEzBS9",
        "outputId": "0399baf0-bb42-4ec7-f188-e6b703362f03"
      },
      "outputs": [
        {
          "output_type": "stream",
          "name": "stdout",
          "text": [
            "Match is at: 0, End: 1, Pattern found: a\n",
            "Match is at: 1, End: 2, Pattern found: 7\n",
            "Match is at: 2, End: 3, Pattern found: b\n",
            "Match is at: 5, End: 6, Pattern found: k\n",
            "Match is at: 6, End: 7, Pattern found: 9\n",
            "Match is at: 7, End: 8, Pattern found: z\n",
            "Total count:  6\n"
          ]
        }
      ],
      "source": [
        "matcher = re.finditer('\\w', 'a7b@ k9z')\n",
        "\n",
        "count = 0\n",
        "\n",
        "for m in matcher:\n",
        "    count += 1\n",
        "    print('Match is at: {}, End: {}, Pattern found: {}'.format(m.start(), m.end(), m.group()))\n",
        "print('Total count: ',count)"
      ]
    },
    {
      "cell_type": "code",
      "execution_count": null,
      "metadata": {
        "ExecuteTime": {
          "end_time": "2018-06-07T02:22:37.868641Z",
          "start_time": "2018-06-07T02:22:37.858647Z"
        },
        "colab": {
          "base_uri": "https://localhost:8080/"
        },
        "id": "6J911xo4zBS9",
        "outputId": "92e08492-52d5-428f-8db4-0f514d6f150e"
      },
      "outputs": [
        {
          "output_type": "stream",
          "name": "stdout",
          "text": [
            "Match is at: 3, End: 4, Pattern found: @\n",
            "Match is at: 4, End: 5, Pattern found:  \n",
            "Total count:  2\n"
          ]
        }
      ],
      "source": [
        "matcher = re.finditer('\\W', 'a7b@ k9z')\n",
        "\n",
        "count = 0\n",
        "\n",
        "for m in matcher:\n",
        "    count += 1\n",
        "    print('Match is at: {}, End: {}, Pattern found: {}'.format(m.start(), m.end(), m.group()))\n",
        "print('Total count: ',count)"
      ]
    },
    {
      "cell_type": "code",
      "execution_count": null,
      "metadata": {
        "ExecuteTime": {
          "end_time": "2018-06-07T02:23:00.635704Z",
          "start_time": "2018-06-07T02:23:00.630707Z"
        },
        "colab": {
          "base_uri": "https://localhost:8080/"
        },
        "id": "G7vSIQo_zBS9",
        "outputId": "88665d28-3912-4839-935a-4e033f30645d"
      },
      "outputs": [
        {
          "output_type": "stream",
          "name": "stdout",
          "text": [
            "Match is at: 0, End: 1, Pattern found: a\n",
            "Total count:  1\n"
          ]
        }
      ],
      "source": [
        "matcher = re.finditer('^a', 'a7b@ k9z')\n",
        "\n",
        "count = 0\n",
        "\n",
        "for m in matcher:\n",
        "    count += 1\n",
        "    print('Match is at: {}, End: {}, Pattern found: {}'.format(m.start(), m.end(), m.group()))\n",
        "print('Total count: ',count)"
      ]
    },
    {
      "cell_type": "code",
      "execution_count": null,
      "metadata": {
        "ExecuteTime": {
          "end_time": "2018-06-07T05:30:25.898657Z",
          "start_time": "2018-06-07T05:30:25.893671Z"
        },
        "colab": {
          "base_uri": "https://localhost:8080/"
        },
        "id": "oa6vVRc7zBS9",
        "outputId": "aaa7e53d-6df6-4777-ae9e-0c56f5fcae8c"
      },
      "outputs": [
        {
          "output_type": "stream",
          "name": "stdout",
          "text": [
            "Match is at: 7, End: 8, Pattern found: z\n",
            "Total count:  1\n"
          ]
        }
      ],
      "source": [
        "matcher = re.finditer('z$', 'a7b@ k9z')\n",
        "\n",
        "count = 0\n",
        "\n",
        "for m in matcher:\n",
        "    count += 1\n",
        "    print('Match is at: {}, End: {}, Pattern found: {}'.format(m.start(), m.end(), m.group()))\n",
        "print('Total count: ',count)"
      ]
    },
    {
      "cell_type": "code",
      "execution_count": null,
      "metadata": {
        "ExecuteTime": {
          "end_time": "2018-06-07T02:24:41.182549Z",
          "start_time": "2018-06-07T02:24:41.177517Z"
        },
        "colab": {
          "base_uri": "https://localhost:8080/"
        },
        "id": "VB6qeAXdzBS-",
        "outputId": "654e2059-c281-4cb7-f581-aeab3c98c547"
      },
      "outputs": [
        {
          "output_type": "stream",
          "name": "stdout",
          "text": [
            "Match is at: 0, End: 1, Pattern found: a\n",
            "Match is at: 2, End: 3, Pattern found: a\n",
            "Match is at: 3, End: 4, Pattern found: a\n",
            "Match is at: 5, End: 6, Pattern found: a\n",
            "Match is at: 7, End: 8, Pattern found: a\n",
            "Total count:  5\n"
          ]
        }
      ],
      "source": [
        "matcher = re.finditer('a', 'abaababa')\n",
        "\n",
        "count = 0\n",
        "\n",
        "for m in matcher:\n",
        "    count += 1\n",
        "    print('Match is at: {}, End: {}, Pattern found: {}'.format(m.start(), m.end(), m.group()))\n",
        "print('Total count: ',count)"
      ]
    },
    {
      "cell_type": "code",
      "execution_count": null,
      "metadata": {
        "ExecuteTime": {
          "end_time": "2018-06-07T02:26:12.250559Z",
          "start_time": "2018-06-07T02:26:12.245564Z"
        },
        "colab": {
          "base_uri": "https://localhost:8080/"
        },
        "id": "ntw8B78TzBS-",
        "outputId": "c113b9f1-3ce0-4dc3-b353-19b2a22d5d1b"
      },
      "outputs": [
        {
          "output_type": "stream",
          "name": "stdout",
          "text": [
            "Match is at: 0, End: 1, Pattern found: a\n",
            "Match is at: 2, End: 4, Pattern found: aa\n",
            "Match is at: 5, End: 6, Pattern found: a\n",
            "Match is at: 7, End: 8, Pattern found: a\n",
            "Total count:  4\n"
          ]
        }
      ],
      "source": [
        "matcher = re.finditer('a+', 'abaababa')\n",
        "\n",
        "count = 0\n",
        "\n",
        "for m in matcher:\n",
        "    count += 1\n",
        "    print('Match is at: {}, End: {}, Pattern found: {}'.format(m.start(), m.end(), m.group()))\n",
        "print('Total count: ',count)"
      ]
    },
    {
      "cell_type": "code",
      "execution_count": null,
      "metadata": {
        "ExecuteTime": {
          "end_time": "2018-06-07T02:26:16.696799Z",
          "start_time": "2018-06-07T02:26:16.686770Z"
        },
        "colab": {
          "base_uri": "https://localhost:8080/"
        },
        "id": "jjox7L35zBS_",
        "outputId": "00980bb2-6347-4f75-e8fd-39d0cada718d"
      },
      "outputs": [
        {
          "output_type": "stream",
          "name": "stdout",
          "text": [
            "Match is at: 0, End: 1, Pattern found: a\n",
            "Match is at: 1, End: 1, Pattern found: \n",
            "Match is at: 2, End: 4, Pattern found: aa\n",
            "Match is at: 4, End: 4, Pattern found: \n",
            "Match is at: 5, End: 6, Pattern found: a\n",
            "Match is at: 6, End: 6, Pattern found: \n",
            "Match is at: 7, End: 8, Pattern found: a\n",
            "Match is at: 8, End: 8, Pattern found: \n",
            "Total count:  8\n"
          ]
        }
      ],
      "source": [
        "matcher = re.finditer('a*', 'abaababa')\n",
        "\n",
        "count = 0\n",
        "\n",
        "for m in matcher:\n",
        "    count += 1\n",
        "    print('Match is at: {}, End: {}, Pattern found: {}'.format(m.start(), m.end(), m.group()))\n",
        "print('Total count: ',count)"
      ]
    },
    {
      "cell_type": "code",
      "execution_count": null,
      "metadata": {
        "ExecuteTime": {
          "end_time": "2018-06-07T02:26:39.569564Z",
          "start_time": "2018-06-07T02:26:39.559569Z"
        },
        "colab": {
          "base_uri": "https://localhost:8080/"
        },
        "id": "XRqJRBFZzBS_",
        "outputId": "ec75a3f6-88cd-4b02-caee-4af1b9bfed6a",
        "scrolled": true
      },
      "outputs": [
        {
          "output_type": "stream",
          "name": "stdout",
          "text": [
            "Match is at: 0, End: 1, Pattern found: a\n",
            "Match is at: 1, End: 1, Pattern found: \n",
            "Match is at: 2, End: 3, Pattern found: a\n",
            "Match is at: 3, End: 4, Pattern found: a\n",
            "Match is at: 4, End: 4, Pattern found: \n",
            "Match is at: 5, End: 6, Pattern found: a\n",
            "Match is at: 6, End: 6, Pattern found: \n",
            "Match is at: 7, End: 8, Pattern found: a\n",
            "Match is at: 8, End: 8, Pattern found: \n",
            "Total count:  9\n"
          ]
        }
      ],
      "source": [
        "matcher = re.finditer('a?', 'abaababa')\n",
        "\n",
        "count = 0\n",
        "\n",
        "for m in matcher:\n",
        "    count += 1\n",
        "    print('Match is at: {}, End: {}, Pattern found: {}'.format(m.start(), m.end(), m.group()))\n",
        "print('Total count: ',count)"
      ]
    },
    {
      "cell_type": "code",
      "execution_count": null,
      "metadata": {
        "colab": {
          "base_uri": "https://localhost:8080/"
        },
        "id": "L1LnjyREzBS_",
        "outputId": "a9148cc7-d9e2-41b0-8eb9-a27f09c9b6de"
      },
      "outputs": [
        {
          "output_type": "stream",
          "name": "stdout",
          "text": [
            "Match is at: 0, End: 1, Pattern found: a\n",
            "Match is at: 1, End: 1, Pattern found: \n",
            "Match is at: 2, End: 3, Pattern found: a\n",
            "Match is at: 3, End: 4, Pattern found: a\n",
            "Match is at: 4, End: 4, Pattern found: \n",
            "Match is at: 5, End: 5, Pattern found: \n",
            "Match is at: 6, End: 7, Pattern found: a\n",
            "Match is at: 7, End: 7, Pattern found: \n",
            "Match is at: 8, End: 9, Pattern found: a\n",
            "Match is at: 9, End: 9, Pattern found: \n",
            "Match is at: 10, End: 10, Pattern found: \n",
            "Match is at: 11, End: 11, Pattern found: \n",
            "Match is at: 12, End: 12, Pattern found: \n",
            "Total count:  13\n"
          ]
        }
      ],
      "source": [
        "matcher = re.finditer('a?', 'abaabbababbb')\n",
        "\n",
        "count = 0\n",
        "\n",
        "for m in matcher:\n",
        "    count += 1\n",
        "    print('Match is at: {}, End: {}, Pattern found: {}'.format(m.start(), m.end(), m.group()))\n",
        "print('Total count: ',count)"
      ]
    },
    {
      "cell_type": "markdown",
      "metadata": {
        "id": "EYXD9qwSzBS_"
      },
      "source": [
        "## re.match()"
      ]
    },
    {
      "cell_type": "code",
      "execution_count": null,
      "metadata": {
        "ExecuteTime": {
          "end_time": "2018-06-07T05:38:08.010867Z",
          "start_time": "2018-06-07T05:37:51.582824Z"
        },
        "colab": {
          "base_uri": "https://localhost:8080/"
        },
        "id": "DEvcnyv3zBTA",
        "outputId": "eb8367a1-a388-4838-fd49-02e549396a26"
      },
      "outputs": [
        {
          "output_type": "stream",
          "name": "stdout",
          "text": [
            "Enter pattern: deepr\n",
            "<class 'NoneType'>\n",
            "Match is not available at beginning of the string!\n"
          ]
        }
      ],
      "source": [
        "# Used to match the given pattern at the beginning of the target string\n",
        "# If it finds the pattern than returns match object.\n",
        "# Now we can use start(), end(), group() with match object\n",
        "# If nothing found then retuns None.\n",
        "\n",
        "\n",
        "import re\n",
        "\n",
        "regex = input('Enter pattern: ')\n",
        "\n",
        "m = re.match(regex, 'abcdefgh')\n",
        "\n",
        "print(type(m))\n",
        "\n",
        "if m == None:\n",
        "    print('Match is not available at beginning of the string!')\n",
        "\n",
        "else:\n",
        "    print('Match found at beginning of the string.')\n",
        "    print('Match is at: {}, End: {}, Pattern found: {}'.format(m.start(), m.end(), m.group()))\n",
        "\n"
      ]
    },
    {
      "cell_type": "markdown",
      "metadata": {
        "id": "tL8aQ4QFzBTA"
      },
      "source": [
        "## re.search()"
      ]
    },
    {
      "cell_type": "code",
      "execution_count": null,
      "metadata": {
        "ExecuteTime": {
          "end_time": "2018-06-07T05:40:19.936797Z",
          "start_time": "2018-06-07T05:40:08.915846Z"
        },
        "colab": {
          "base_uri": "https://localhost:8080/"
        },
        "id": "e3Hk-2ppzBTA",
        "outputId": "f3fd2006-3511-4146-b3b5-32a5ae7e1aa9"
      },
      "outputs": [
        {
          "output_type": "stream",
          "name": "stdout",
          "text": [
            "Enter pattern: yui\n",
            "Match is not available in the whole string!\n"
          ]
        }
      ],
      "source": [
        "# search the target irrespective of the location\n",
        "# If match is found returns the first occurance\n",
        "# otherwie returns None.\n",
        "\n",
        "# If it finds the pattern than returns match object.\n",
        "# Now we can use start(), end(), group() with match object\n",
        "# If nothing found then retuns None.\n",
        "\n",
        "\n",
        "import re\n",
        "\n",
        "regex = input('Enter pattern: ')\n",
        "\n",
        "m = re.search(regex, 'abcdefghi')\n",
        "\n",
        "if m != None:\n",
        "    print('Match available.')\n",
        "    print('First occurance is at: {}, End: {}, Pattern found: {}'.format(m.start(), m.end(), m.group()))\n",
        "\n",
        "else:\n",
        "    print('Match is not available in the whole string!')\n",
        "\n"
      ]
    },
    {
      "cell_type": "markdown",
      "metadata": {
        "id": "vPgvSk93zBTA"
      },
      "source": [
        "## re.match() vs re.search()"
      ]
    },
    {
      "cell_type": "code",
      "execution_count": null,
      "metadata": {
        "colab": {
          "base_uri": "https://localhost:8080/"
        },
        "id": "jzYrLsR0zBTB",
        "outputId": "ba0b1453-ed5a-4ccf-a8b0-d1e1b0c86ed8"
      },
      "outputs": [
        {
          "output_type": "stream",
          "name": "stdout",
          "text": [
            "NO MATCH\n",
            "SEARCH SUCC\n"
          ]
        }
      ],
      "source": [
        "target = 'Dogs are better than cats'\n",
        "\n",
        "pattern = 'cats'\n",
        "\n",
        "m = re.match(pattern, target)\n",
        "\n",
        "if m == None:\n",
        "    print('NO MATCH')\n",
        "else:\n",
        "    print('MATCH SUCC')\n",
        "\n",
        "m = re.search(pattern, target)\n",
        "\n",
        "if m == None:\n",
        "    print('NO SEARCH')\n",
        "else:\n",
        "    print('SEARCH SUCC')"
      ]
    }
  ],
  "metadata": {
    "colab": {
      "collapsed_sections": [
        "tFCQ1PPkzBSl"
      ],
      "provenance": []
    },
    "kernelspec": {
      "display_name": "Python 3 (ipykernel)",
      "language": "python",
      "name": "python3"
    },
    "language_info": {
      "codemirror_mode": {
        "name": "ipython",
        "version": 3
      },
      "file_extension": ".py",
      "mimetype": "text/x-python",
      "name": "python",
      "nbconvert_exporter": "python",
      "pygments_lexer": "ipython3",
      "version": "3.13.5"
    },
    "toc": {
      "nav_menu": {},
      "number_sections": true,
      "sideBar": true,
      "skip_h1_title": false,
      "title_cell": "Table of Contents",
      "title_sidebar": "Contents",
      "toc_cell": false,
      "toc_position": {},
      "toc_section_display": true,
      "toc_window_display": false
    },
    "varInspector": {
      "cols": {
        "lenName": 16,
        "lenType": 16,
        "lenVar": 40
      },
      "kernels_config": {
        "python": {
          "delete_cmd_postfix": "",
          "delete_cmd_prefix": "del ",
          "library": "var_list.py",
          "varRefreshCmd": "print(var_dic_list())"
        },
        "r": {
          "delete_cmd_postfix": ") ",
          "delete_cmd_prefix": "rm(",
          "library": "var_list.r",
          "varRefreshCmd": "cat(var_dic_list()) "
        }
      },
      "types_to_exclude": [
        "module",
        "function",
        "builtin_function_or_method",
        "instance",
        "_Feature"
      ],
      "window_display": false
    }
  },
  "nbformat": 4,
  "nbformat_minor": 0
}