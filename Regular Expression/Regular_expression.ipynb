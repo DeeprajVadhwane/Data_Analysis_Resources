{
  "cells": [
    {
      "cell_type": "markdown",
      "metadata": {
        "id": "view-in-github",
        "colab_type": "text"
      },
      "source": [
        "<a href=\"https://colab.research.google.com/github/DeeprajVadhwane/Data_Analysis_Resources/blob/main/Regular%20Expression/Regular_expression.ipynb\" target=\"_parent\"><img src=\"https://colab.research.google.com/assets/colab-badge.svg\" alt=\"Open In Colab\"/></a>"
      ]
    },
    {
      "cell_type": "markdown",
      "metadata": {
        "id": "_nERHCuw2GrS"
      },
      "source": [
        "# Regular Expressions (Regex)\n",
        "\n",
        "## What is a Regular Expression?\n",
        "\n",
        "A **Regular Expression (Regex)** is a sequence of characters used to define search patterns in text.  \n",
        "It helps in finding, extracting, replacing, and validating specific patterns in strings.\n",
        "\n",
        "\n",
        "## Why Use Regex?\n",
        "\n",
        "A **regular expression** (regex/regexp) is a compact pattern used to:\n",
        "\n",
        "- **Search** or **match** patterns in strings  \n",
        "-  **Extract** structured information  \n",
        "-  **Clean** or **replace** parts of text  \n",
        "-  **Validate** input formats  \n",
        "-  **Tokenize** or **parse** text\n",
        "\n",
        "### Key Benefits:\n",
        "- Works across many languages (Python, JavaScript, Java, etc.)\n",
        "- Powerful for text processing and data wrangling\n",
        "- Efficient and reusable for complex tasks\n",
        "\n",
        "---\n",
        "\n",
        "## Real World Applications for Regex\n",
        "\n",
        "| **Domain**                     | **Example Use Cases**                                       |\n",
        "|-------------------------------|---------------------------------------------------------------|\n",
        "| **Data Validation**           | Email, phone, password format checks                          |\n",
        "| **Search & Replace**          | Refactoring code, editing files in bulk                      |\n",
        "| **Web Scraping**              | Extracting phone numbers, prices, titles                     |\n",
        "| **Data Cleaning**             | Removing extra spaces, HTML tags, special characters         |                    |\n",
        "| **Security & Firewalls**      | Match/block suspicious patterns in traffic logs              |\n",
        "| **Compiler Design**           | Tokenizing code for lexical analysis                         |\n",
        "| **NLP (Text Processing)**     | Word/sentence tokenization, entity extraction                |\n",
        "\n"
      ]
    },
    {
      "cell_type": "markdown",
      "metadata": {
        "id": "CuDO9WGBzBSc"
      },
      "source": [
        "###  Practice Resources  \n",
        "Explore the interactive tutorials at these sites:\n",
        "\n",
        "https://regexone.com/lesson/introduction_abcs\n",
        "\n",
        "https://regex101.com"
      ]
    },
    {
      "cell_type": "markdown",
      "metadata": {
        "id": "DI_KQhy2F4dO"
      },
      "source": [
        "## What Are Literal Characters in Regex?\n",
        "\n",
        "**Literal characters** are normal characters that match themselves exactly in the text.  \n",
        "They do **not** have any special meaning in regex.\n",
        "\n",
        "> Examples: `a`, `b`, `1`, `@`, `dog`, `z`, `5`\n",
        "\n",
        "---\n",
        "\n",
        "### Examples of Literal Characters\n",
        "\n",
        "| Literal Character | What it Matches       | Example Text         | Result        |\n",
        "|-------------------|------------------------|------------------------|----------------------|\n",
        "| `a`               | The letter `a`         | `\"cat\"`                |  matches `'a'`     |\n",
        "| `z`               | The letter `z`         | `\"zebra\"`              |  matches `'z'`     |\n",
        "| `5`               | The digit `5`          | `\"Code: 567\"`          |  matches `'5'`     |\n",
        "| `@`               | Symbol `@`             | `\"test@mail.com\"`      |  matches `'@'`     |\n",
        "| `dog`             | Word `dog`             | `\"my dog is cute\"`     | matches `'dog'`   |\n",
        "| `.` (escaped)     | A literal dot `.`      | `\"file.txt\"` with `\\.` |  matches `'.'`     |\n",
        "\n",
        "---\n",
        "\n",
        "### ❗ Not Literal Characters (Special in Regex)\n",
        "\n",
        "These characters have special meaning in regex:\n",
        "\n",
        ". ^ $ * + ? { } [ ] ( ) | \\\n",
        "\n",
        "\n",
        "- **Literal = Normal characters like letters, numbers, symbols**  \n",
        "- **Not Literal = Meta characters with special regex meanings**\n",
        "\n",
        "**Note :-**\n",
        ">  Use **literals** when you want to match exact characters or words in your text."
      ]
    },
    {
      "cell_type": "markdown",
      "source": [
        "## Meta Characters\n",
        "`.`, `^`, `$`, `*`, `+`, `?`, `{`, `}`, `[`, `]`, `(`, `)`, `|`, `\\`\n",
        "\n",
        "\n",
        "# Regex Metacharacters Cheat Sheet\n",
        "\n",
        "| Symbol | Meaning in Regex |\n",
        "|--------|----------------|\n",
        "| `.`    | Matches any single character except newline |\n",
        "| `^`    | Matches the start of a string or line |\n",
        "| `$`    | Matches the end of a string or line |\n",
        "| `*`    | Matches 0 or more occurrences of the preceding element |\n",
        "| `+`    | Matches 1 or more occurrences of the preceding element |\n",
        "| `?`    | Makes the preceding element optional (0 or 1 occurrence) or denotes non-greedy matching |\n",
        "| `{}`   | Specifies exact or range of repetitions `{min,max}` |\n",
        "| `[]`   | Character class; matches any one character inside brackets |\n",
        "| `()`   | Groups patterns; captures matched text |\n",
        "| `\\`    | Escape character to give literal meaning to metacharacters or introduce special sequences (like `\\d`) |\n",
        "\n",
        "\n",
        "\n",
        "\n",
        "## User-defined Character Classes\n",
        "- `[abc]` - Match either a or b or c\n",
        "- `[^abc]` - Match any character except a or b or c\n",
        "- `[a-z]` - Match a lower case english alphabet character\n",
        "- `[A-Z]` - Match an upper case english alphabet character\n",
        "- `[a-zA-Z]` - Match any english alphabet character\n",
        "- `[0-9]` - Match any digit character\n",
        "- `[a-zA-Z0-9_]` - Match any alphanumeric character\n",
        "- `[^a-zA-Z0-9_]` - Match any character except alphanumeric character\n",
        "\n",
        "## Pre-defined Character Classes\n",
        "- `\\d` - Match a digit character i.e. `[0-9]`\n",
        "- `\\D` - Match any character except digit character. i.e. `[^0-9]`\n",
        "- `\\w` - Match an alpha-numeric character i.e. `[a-zA-Z0-9_]`\n",
        "- `\\W` - Match any character except alpha-numeric character i.e. `[^a-zA-Z0-9_]`\n",
        "- `\\s` - Match a space character.\n",
        "- `\\S` - Match any character except space.\n",
        "- `\\t` - Match a tab character.\n",
        "- `\\n` - Match a next line character.\n",
        "\n",
        "## Quantifiers\n",
        "- `a*` - Match zero or more number of characters\n",
        "- `a+` - Match one or more number of characters\n",
        "- `a?` - Match atmost 1 character i.e. 0 or 1\n",
        "- `a{n}` - Match exactly n number of character\n",
        "- `a{m, n}` - Match atleast m number and atmost n number of characters\n",
        "\n",
        "## Groups\n",
        "- Capturing Groups - `(X)`\n",
        "- Non Capturing Groups - `(?:X)`"
      ],
      "metadata": {
        "id": "4Fah-qTp57Tn"
      }
    },
    {
      "cell_type": "markdown",
      "source": [
        "                                             Regex Functions or Regex Operations"
      ],
      "metadata": {
        "id": "8CpNk-dlEk8a"
      }
    },
    {
      "cell_type": "markdown",
      "source": [
        "![image.png](data:image/png;base64,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)"
      ],
      "metadata": {
        "id": "63Y4ydDPEf5Y"
      }
    },
    {
      "cell_type": "markdown",
      "metadata": {
        "id": "2_h9I2jcG3eD"
      },
      "source": [
        "## re.findall()\n",
        "\n",
        "It iterates over a string to find a subset of characters that match a specified pattern. It will return a list of every pattern match that occurs in a given string. The string is scanned left-to-right, and matches are returned in the order found.\n",
        "\n",
        "**Syntax**\n",
        "```python\n",
        "import re\n",
        "re.findall(<regex_pattern>, string)\n",
        "\n",
        "```"
      ]
    },
    {
      "cell_type": "markdown",
      "metadata": {
        "id": "VNJp-yAiJ7Cp"
      },
      "source": [
        "### Preceding `r` in a string\n",
        "\n",
        "The 'r' at the start of the pattern string designates a python \"raw\" string.  \n",
        "The 'r' means that the string is to be treated as a raw string, which means all escape codes will be ignored.  \n",
        "For an example:  \n",
        "`'\\n'` will be treated as a newline character, while `r'\\n'` will be treated as the characters \\ followed by n."
      ]
    },
    {
      "cell_type": "markdown",
      "metadata": {
        "id": "BcrueWHizBSd"
      },
      "source": [
        "## Importing the Required Module"
      ]
    },
    {
      "cell_type": "code",
      "execution_count": 1,
      "metadata": {
        "id": "vvvWsBzpzBSe"
      },
      "outputs": [],
      "source": [
        "import re"
      ]
    },
    {
      "cell_type": "code",
      "execution_count": 2,
      "metadata": {
        "id": "WbUs-SbIzBSk"
      },
      "outputs": [],
      "source": [
        "string = \"\"\"MediaTek MT8183  GB LPDDR4 RAMAndroid Operating System29.46 cm (11.6 Inch) Display1 Year Pick and Drop Warranty\n",
        "Intel Core i5 Processor (11th Gen)8 GB DDR4 RAMWindows 11 Operating System512 GB SSD39.62 cm (15.6 Inch) Display1 Year Carry-in Warranty\n",
        "AMD Athlon Dual Core Processor8 GB DDR4 RAMWindows 11 Operating System512 GB SSD39.62 cm (15.6 Inch) Display1 Year Onsite Warranty\n",
        "Apple M2 Processor8 GB Unified Memory RAMMac OS Operating System256 GB SSD34.54 cm (13.6 Inch) DisplayBuilt-in Apps: iMovie, Siri, GarageBand, Pages, Numbers, Photos, Keynote, Safari, Mail, FaceTime, Messages, Maps, Stocks, Home, Voice Memos, Notes, Calendar, Contacts, Reminders, Photo Booth, Preview, Books, App Store, Time Machine, TV, Music, Podcasts, Find My, QuickTime Player1 Year Limited Warranty\n",
        "Intel Core i3 Processor (10th Gen)8 GB LPDDR4X RAM64 bit Windows 11 Operating System512 GB SSD39.62 cm (15.6 inch) Display1 Year Onsite Warranty\n",
        "AMD Athlon Dual Core Processor4 GB DDR4 RAMDOS Operating System256 GB SSD39.62 cm (15.6 Inch) Display1 Year Onsite Warranty\n",
        "Intel Celeron Dual Core Processor (4th Gen)8 GB DDR4 RAM64 bit Windows 11 Operating System256 GB SSD39.62 cm (15.6 inch) Display1 Years\n",
        "MediaTek MT8183 Processor4 GB LPDDR4 RAMAndroid Operating System29.46 cm (11.6 Inch) Display1 Year Pick and Drop Warranty\n",
        "Intel Core i3 Processor (12th Gen)8 GB LPDDR5 RAM64 bit Windows 11 Operating System256 GB SSD39.62 cm (15.6 Inch) Display1 Year International Travelers Warranty\n",
        "AMD Ryzen 5 Hexa Core Processor8 GB DDR4 RAM64 bit Windows 11 Operating System512 GB SSD39.62 cm (15.6 inch) DisplayMicrosoft Office Home 2019 & Office 365, HP Documentation, HP SSRM, HP Smart1 Year Onsite Warranty\n",
        "\"\"\""
      ]
    },
    {
      "cell_type": "markdown",
      "metadata": {
        "id": "cXiydehY49pd"
      },
      "source": [
        "### Extract All Storage Sizes (e.g., 256 GB, 512 GB)\n",
        "- Look for 3-digit numbers followed by GB SSD."
      ]
    },
    {
      "cell_type": "code",
      "execution_count": 3,
      "metadata": {
        "id": "qCiVAa3h49pd"
      },
      "outputs": [],
      "source": [
        "import re"
      ]
    },
    {
      "cell_type": "code",
      "source": [
        "# Extract storage sizes (e.g., 256 GB, 1 TB)\n",
        "storage_sizes = re.findall(r'\\d+\\s*(?:GB|TB)', string, re.IGNORECASE)\n",
        "print(\"Extracted Storage Sizes:\")\n",
        "print(storage_sizes)"
      ],
      "metadata": {
        "colab": {
          "base_uri": "https://localhost:8080/"
        },
        "id": "g5Gl4WsqRzvf",
        "outputId": "15562db3-22e4-4087-f864-d4e846619a38"
      },
      "execution_count": 4,
      "outputs": [
        {
          "output_type": "stream",
          "name": "stdout",
          "text": [
            "Extracted Storage Sizes:\n",
            "['8183  GB', '8 GB', '512 GB', '8 GB', '512 GB', '8 GB', '256 GB', '8 GB', '512 GB', '4 GB', '256 GB', '8 GB', '256 GB', '4 GB', '8 GB', '256 GB', '8 GB', '512 GB']\n"
          ]
        }
      ]
    },
    {
      "cell_type": "markdown",
      "source": [
        "### Regex Pattern: \\d{3} GB SSD\n",
        "\n",
        "- `\\d{3}`     → Match exactly **3 digits** (e.g., 128, 256, 512)\n",
        "- ` `         → Match a **space**\n",
        "- `GB`        → Match the literal text **\"GB\"**\n",
        "- ` `         → Match another **space**\n",
        "- `SSD`       → Match the literal text **\"SSD\"**\n"
      ],
      "metadata": {
        "id": "KQzmfdZzR0if"
      }
    },
    {
      "cell_type": "code",
      "source": [
        "re.findall(r\"\\d{2,4} GB SSD\", string)"
      ],
      "metadata": {
        "colab": {
          "base_uri": "https://localhost:8080/"
        },
        "id": "fVTQI7YNRiaD",
        "outputId": "b412a8fc-6459-47d3-e9ab-22a6d670e43a"
      },
      "execution_count": 5,
      "outputs": [
        {
          "output_type": "execute_result",
          "data": {
            "text/plain": [
              "['512 GB SSD',\n",
              " '512 GB SSD',\n",
              " '256 GB SSD',\n",
              " '512 GB SSD',\n",
              " '256 GB SSD',\n",
              " '256 GB SSD',\n",
              " '256 GB SSD',\n",
              " '512 GB SSD']"
            ]
          },
          "metadata": {},
          "execution_count": 5
        }
      ]
    },
    {
      "cell_type": "code",
      "source": [
        "re.findall(r\"\\d{3} GB SSD\", string, re.IGNORECASE)"
      ],
      "metadata": {
        "colab": {
          "base_uri": "https://localhost:8080/"
        },
        "id": "nN7yzRMkRiXi",
        "outputId": "e8c96e0f-8ff6-4604-bdde-a60d52501c3f"
      },
      "execution_count": 6,
      "outputs": [
        {
          "output_type": "execute_result",
          "data": {
            "text/plain": [
              "['512 GB SSD',\n",
              " '512 GB SSD',\n",
              " '256 GB SSD',\n",
              " '512 GB SSD',\n",
              " '256 GB SSD',\n",
              " '256 GB SSD',\n",
              " '256 GB SSD',\n",
              " '512 GB SSD']"
            ]
          },
          "metadata": {},
          "execution_count": 6
        }
      ]
    },
    {
      "cell_type": "code",
      "source": [],
      "metadata": {
        "id": "aCi495fu5ONI"
      },
      "execution_count": 6,
      "outputs": []
    },
    {
      "cell_type": "markdown",
      "source": [],
      "metadata": {
        "id": "SAgbAhsSRqHI"
      }
    },
    {
      "cell_type": "markdown",
      "metadata": {
        "id": "__QLDO7M49pe"
      },
      "source": [
        "###  Extract All RAM Sizes (Only Size in GB)\n",
        "- Look for one/two digit numbers followed by GB and before RAM."
      ]
    },
    {
      "cell_type": "code",
      "source": [
        "re.findall(r\"\\d{1,2} GB\",string)"
      ],
      "metadata": {
        "colab": {
          "base_uri": "https://localhost:8080/"
        },
        "id": "431YJLxX6uz1",
        "outputId": "fd9cbea7-6643-410c-9f78-a9dce7a9e910"
      },
      "execution_count": 7,
      "outputs": [
        {
          "output_type": "execute_result",
          "data": {
            "text/plain": [
              "['8 GB',\n",
              " '12 GB',\n",
              " '8 GB',\n",
              " '12 GB',\n",
              " '8 GB',\n",
              " '56 GB',\n",
              " '8 GB',\n",
              " '12 GB',\n",
              " '4 GB',\n",
              " '56 GB',\n",
              " '8 GB',\n",
              " '56 GB',\n",
              " '4 GB',\n",
              " '8 GB',\n",
              " '56 GB',\n",
              " '8 GB',\n",
              " '12 GB']"
            ]
          },
          "metadata": {},
          "execution_count": 7
        }
      ]
    },
    {
      "cell_type": "markdown",
      "source": [
        "####  Breakdown:\n",
        "\n",
        "| Part         | Explanation                                     |\n",
        "|--------------|-------------------------------------------------|\n",
        "| `\\d{1,2}`     | Match **1 to 2 digits** (e.g., `8`, `16`, `64`) |\n",
        "| ` ` (space)   | Match a **space** character                    |\n",
        "| `GB`          | Match the **literal string \"GB\"**              |"
      ],
      "metadata": {
        "id": "LZ6XPrlrR-RE"
      }
    },
    {
      "cell_type": "code",
      "source": [
        "re.findall(r\"\\d{1,2} GB\", string, re.IGNORECASE)"
      ],
      "metadata": {
        "colab": {
          "base_uri": "https://localhost:8080/"
        },
        "id": "zgGxbCjFSEwc",
        "outputId": "4937f22f-06b4-4cbd-8220-1491f29b3e29"
      },
      "execution_count": 8,
      "outputs": [
        {
          "output_type": "execute_result",
          "data": {
            "text/plain": [
              "['8 GB',\n",
              " '12 GB',\n",
              " '8 GB',\n",
              " '12 GB',\n",
              " '8 GB',\n",
              " '56 GB',\n",
              " '8 GB',\n",
              " '12 GB',\n",
              " '4 GB',\n",
              " '56 GB',\n",
              " '8 GB',\n",
              " '56 GB',\n",
              " '4 GB',\n",
              " '8 GB',\n",
              " '56 GB',\n",
              " '8 GB',\n",
              " '12 GB']"
            ]
          },
          "metadata": {},
          "execution_count": 8
        }
      ]
    },
    {
      "cell_type": "markdown",
      "metadata": {
        "id": "awi-uGRx49pe"
      },
      "source": [
        "### Extract All Display Sizes in Inches (e.g., 15.6 Inch)\n",
        "- Look inside parentheses that mention inches."
      ]
    },
    {
      "cell_type": "code",
      "source": [
        "print(string)"
      ],
      "metadata": {
        "colab": {
          "base_uri": "https://localhost:8080/"
        },
        "id": "LlVJHEw970ZO",
        "outputId": "48d51b5b-2a77-4f28-ef69-1a027cc7b15d"
      },
      "execution_count": 9,
      "outputs": [
        {
          "output_type": "stream",
          "name": "stdout",
          "text": [
            "MediaTek MT8183  GB LPDDR4 RAMAndroid Operating System29.46 cm (11.6 Inch) Display1 Year Pick and Drop Warranty\n",
            "Intel Core i5 Processor (11th Gen)8 GB DDR4 RAMWindows 11 Operating System512 GB SSD39.62 cm (15.6 Inch) Display1 Year Carry-in Warranty\n",
            "AMD Athlon Dual Core Processor8 GB DDR4 RAMWindows 11 Operating System512 GB SSD39.62 cm (15.6 Inch) Display1 Year Onsite Warranty\n",
            "Apple M2 Processor8 GB Unified Memory RAMMac OS Operating System256 GB SSD34.54 cm (13.6 Inch) DisplayBuilt-in Apps: iMovie, Siri, GarageBand, Pages, Numbers, Photos, Keynote, Safari, Mail, FaceTime, Messages, Maps, Stocks, Home, Voice Memos, Notes, Calendar, Contacts, Reminders, Photo Booth, Preview, Books, App Store, Time Machine, TV, Music, Podcasts, Find My, QuickTime Player1 Year Limited Warranty\n",
            "Intel Core i3 Processor (10th Gen)8 GB LPDDR4X RAM64 bit Windows 11 Operating System512 GB SSD39.62 cm (15.6 inch) Display1 Year Onsite Warranty\n",
            "AMD Athlon Dual Core Processor4 GB DDR4 RAMDOS Operating System256 GB SSD39.62 cm (15.6 Inch) Display1 Year Onsite Warranty\n",
            "Intel Celeron Dual Core Processor (4th Gen)8 GB DDR4 RAM64 bit Windows 11 Operating System256 GB SSD39.62 cm (15.6 inch) Display1 Years\n",
            "MediaTek MT8183 Processor4 GB LPDDR4 RAMAndroid Operating System29.46 cm (11.6 Inch) Display1 Year Pick and Drop Warranty\n",
            "Intel Core i3 Processor (12th Gen)8 GB LPDDR5 RAM64 bit Windows 11 Operating System256 GB SSD39.62 cm (15.6 Inch) Display1 Year International Travelers Warranty\n",
            "AMD Ryzen 5 Hexa Core Processor8 GB DDR4 RAM64 bit Windows 11 Operating System512 GB SSD39.62 cm (15.6 inch) DisplayMicrosoft Office Home 2019 & Office 365, HP Documentation, HP SSRM, HP Smart1 Year Onsite Warranty\n",
            "\n"
          ]
        }
      ]
    },
    {
      "cell_type": "code",
      "execution_count": 10,
      "metadata": {
        "colab": {
          "base_uri": "https://localhost:8080/"
        },
        "id": "Lq5RkOgl49pe",
        "outputId": "589d8a3e-c5d8-4969-da5d-dd93803f3ea6"
      },
      "outputs": [
        {
          "output_type": "execute_result",
          "data": {
            "text/plain": [
              "['(11.6 Inch)',\n",
              " '(15.6 Inch)',\n",
              " '(15.6 Inch)',\n",
              " '(13.6 Inch)',\n",
              " '(15.6 Inch)',\n",
              " '(11.6 Inch)',\n",
              " '(15.6 Inch)']"
            ]
          },
          "metadata": {},
          "execution_count": 10
        }
      ],
      "source": [
        "re.findall(r\"\\(\\d{2}\\.\\d Inch\\)\",string)"
      ]
    },
    {
      "cell_type": "markdown",
      "source": [
        "#### Pattern Breakdown\n",
        "\n",
        "| Regex Part       | Meaning                                                         |\n",
        "|------------------|------------------------------------------------------------------|\n",
        "| `\\(`             | Matches the **literal opening parenthesis** `(`                 |\n",
        "| `\\d{2}`          | Matches **exactly 2 digits** (e.g., `13`, `15`, `17`)           |\n",
        "| `\\.`             | Matches the **decimal point** `.`                               |\n",
        "| `\\d`             | Matches **1 digit** after the decimal (e.g., `.6`, `.3`)        |\n",
        "| ` Inch`          | Matches a **space followed by the word \"Inch\"**                 |\n",
        "| `\\)`             | Matches the **literal closing parenthesis** `)`  "
      ],
      "metadata": {
        "id": "Z7Kb0xIfSLmz"
      }
    },
    {
      "cell_type": "code",
      "source": [
        "re.findall(r\"\\(\\d{2}\\.\\d Inch\\)\", string, re.IGNORECASE)"
      ],
      "metadata": {
        "colab": {
          "base_uri": "https://localhost:8080/"
        },
        "id": "bCEJe7CTSP9G",
        "outputId": "f29bc0df-51ef-45db-aa0e-75db4e92e863"
      },
      "execution_count": 11,
      "outputs": [
        {
          "output_type": "execute_result",
          "data": {
            "text/plain": [
              "['(11.6 Inch)',\n",
              " '(15.6 Inch)',\n",
              " '(15.6 Inch)',\n",
              " '(13.6 Inch)',\n",
              " '(15.6 inch)',\n",
              " '(15.6 Inch)',\n",
              " '(15.6 inch)',\n",
              " '(11.6 Inch)',\n",
              " '(15.6 Inch)',\n",
              " '(15.6 inch)']"
            ]
          },
          "metadata": {},
          "execution_count": 11
        }
      ]
    },
    {
      "cell_type": "markdown",
      "metadata": {
        "id": "cKZfJ5Qb49pe"
      },
      "source": [
        "### Extract All Year-Based Warranty Terms (e.g., 1 Year)\n",
        "- Search for digit followed by “Year” or “Years”."
      ]
    },
    {
      "cell_type": "code",
      "source": [
        "re.findall(r\"\\d+\\s+Year(?:s)?\", string)\n"
      ],
      "metadata": {
        "colab": {
          "base_uri": "https://localhost:8080/"
        },
        "id": "ze9HCw3IRBBO",
        "outputId": "bb9df740-7f8b-406f-f027-45e72d064022"
      },
      "execution_count": 12,
      "outputs": [
        {
          "output_type": "execute_result",
          "data": {
            "text/plain": [
              "['1 Year',\n",
              " '1 Year',\n",
              " '1 Year',\n",
              " '1 Year',\n",
              " '1 Year',\n",
              " '1 Year',\n",
              " '1 Years',\n",
              " '1 Year',\n",
              " '1 Year',\n",
              " '1 Year']"
            ]
          },
          "metadata": {},
          "execution_count": 12
        }
      ]
    },
    {
      "cell_type": "markdown",
      "source": [
        "###  Breakdown of the Pattern\n",
        "\n",
        "| Regex Part        | Meaning                                                                 |\n",
        "|-------------------|-------------------------------------------------------------------------|\n",
        "| `\\d+`             | Match **one or more digits** (e.g., `1`, `10`, `25`)                     |\n",
        "| `\\s+`             | Match **one or more whitespace characters** (e.g., space, tab)           |\n",
        "| `Year`            | Match the literal word **\"Year\"**                                        |\n",
        "| `(?:s)?`          | Match an **optional \"s\"** (non-capturing group), for **\"Year\" or \"Years\"** |"
      ],
      "metadata": {
        "id": "oMEcAp4USd9E"
      }
    },
    {
      "cell_type": "code",
      "source": [
        "re.findall(r\"\\d Year|Years\",string)"
      ],
      "metadata": {
        "colab": {
          "base_uri": "https://localhost:8080/"
        },
        "id": "NjbQYejlPhQ_",
        "outputId": "5f0d5c35-c5ef-4aec-a174-07fe6ba6d3f7"
      },
      "execution_count": 13,
      "outputs": [
        {
          "output_type": "execute_result",
          "data": {
            "text/plain": [
              "['1 Year',\n",
              " '1 Year',\n",
              " '1 Year',\n",
              " '1 Year',\n",
              " '1 Year',\n",
              " '1 Year',\n",
              " '1 Year',\n",
              " '1 Year',\n",
              " '1 Year',\n",
              " '1 Year']"
            ]
          },
          "metadata": {},
          "execution_count": 13
        }
      ]
    },
    {
      "cell_type": "code",
      "execution_count": 14,
      "metadata": {
        "id": "l3tXhDQr49pf",
        "colab": {
          "base_uri": "https://localhost:8080/"
        },
        "outputId": "d029a05d-b235-47a3-9a1a-2d5ae5b80d9c"
      },
      "outputs": [
        {
          "output_type": "stream",
          "name": "stdout",
          "text": [
            "MediaTek MT8183  GB LPDDR4 RAMAndroid Operating System29.46 cm (11.6 Inch) Display1 Year Pick and Drop Warranty\n",
            "Intel Core i5 Processor (11th Gen)8 GB DDR4 RAMWindows 11 Operating System512 GB SSD39.62 cm (15.6 Inch) Display1 Year Carry-in Warranty\n",
            "AMD Athlon Dual Core Processor8 GB DDR4 RAMWindows 11 Operating System512 GB SSD39.62 cm (15.6 Inch) Display1 Year Onsite Warranty\n",
            "Apple M2 Processor8 GB Unified Memory RAMMac OS Operating System256 GB SSD34.54 cm (13.6 Inch) DisplayBuilt-in Apps: iMovie, Siri, GarageBand, Pages, Numbers, Photos, Keynote, Safari, Mail, FaceTime, Messages, Maps, Stocks, Home, Voice Memos, Notes, Calendar, Contacts, Reminders, Photo Booth, Preview, Books, App Store, Time Machine, TV, Music, Podcasts, Find My, QuickTime Player1 Year Limited Warranty\n",
            "Intel Core i3 Processor (10th Gen)8 GB LPDDR4X RAM64 bit Windows 11 Operating System512 GB SSD39.62 cm (15.6 inch) Display1 Year Onsite Warranty\n",
            "AMD Athlon Dual Core Processor4 GB DDR4 RAMDOS Operating System256 GB SSD39.62 cm (15.6 Inch) Display1 Year Onsite Warranty\n",
            "Intel Celeron Dual Core Processor (4th Gen)8 GB DDR4 RAM64 bit Windows 11 Operating System256 GB SSD39.62 cm (15.6 inch) Display1 Years\n",
            "MediaTek MT8183 Processor4 GB LPDDR4 RAMAndroid Operating System29.46 cm (11.6 Inch) Display1 Year Pick and Drop Warranty\n",
            "Intel Core i3 Processor (12th Gen)8 GB LPDDR5 RAM64 bit Windows 11 Operating System256 GB SSD39.62 cm (15.6 Inch) Display1 Year International Travelers Warranty\n",
            "AMD Ryzen 5 Hexa Core Processor8 GB DDR4 RAM64 bit Windows 11 Operating System512 GB SSD39.62 cm (15.6 inch) DisplayMicrosoft Office Home 2019 & Office 365, HP Documentation, HP SSRM, HP Smart1 Year Onsite Warranty\n",
            "\n"
          ]
        }
      ],
      "source": [
        "print(string)"
      ]
    },
    {
      "cell_type": "markdown",
      "metadata": {
        "id": "mJ2Kd-6i49pg"
      },
      "source": [
        "### Extract Only Processor Brands (Intel, AMD, etc.)\n",
        "- Look for processor vendor names."
      ]
    },
    {
      "cell_type": "code",
      "source": [
        "re.findall(\"(?:Intel|AMD|Apple|MediaTek)\",string)"
      ],
      "metadata": {
        "colab": {
          "base_uri": "https://localhost:8080/"
        },
        "id": "Y7Q0EWjEQnen",
        "outputId": "35fe0956-4525-47b4-80e7-064cea78d474"
      },
      "execution_count": 15,
      "outputs": [
        {
          "output_type": "execute_result",
          "data": {
            "text/plain": [
              "['MediaTek',\n",
              " 'Intel',\n",
              " 'AMD',\n",
              " 'Apple',\n",
              " 'Intel',\n",
              " 'AMD',\n",
              " 'AMD',\n",
              " 'Intel',\n",
              " 'MediaTek',\n",
              " 'Intel',\n",
              " 'AMD']"
            ]
          },
          "metadata": {},
          "execution_count": 15
        }
      ]
    },
    {
      "cell_type": "markdown",
      "source": [
        "###  Breakdown of the Pattern\n",
        "\n",
        "| Component                   | Explanation                                                                 |\n",
        "|-----------------------------|-----------------------------------------------------------------------------|\n",
        "| `\\b`                        | **Word boundary** — ensures the match is not part of a longer word          |\n",
        "| `(?:...)`                   | **Non-capturing group** — groups options but doesn’t capture for reuse      |\n",
        "| `Intel\\|AMD\\|Apple\\|MediaTek` | Match **any one** of these exact words: `Intel`, `AMD`, `Apple`, `MediaTek` |\n",
        "| `\\b`                        | **Word boundary** after the match to prevent partial matches                |\n",
        "\n",
        "---"
      ],
      "metadata": {
        "id": "uASLwAMXSxVN"
      }
    },
    {
      "cell_type": "code",
      "execution_count": 16,
      "metadata": {
        "id": "s27W8Lee49ph",
        "colab": {
          "base_uri": "https://localhost:8080/"
        },
        "outputId": "729e0b18-116b-43b1-fb93-c06d4cacae73"
      },
      "outputs": [
        {
          "output_type": "stream",
          "name": "stderr",
          "text": [
            "<>:1: SyntaxWarning: invalid escape sequence '\\w'\n",
            "<>:1: SyntaxWarning: invalid escape sequence '\\w'\n",
            "/tmp/ipython-input-1185250878.py:1: SyntaxWarning: invalid escape sequence '\\w'\n",
            "  re.findall('\\w.+ Processor',string)\n"
          ]
        },
        {
          "output_type": "execute_result",
          "data": {
            "text/plain": [
              "['Intel Core i5 Processor',\n",
              " 'AMD Athlon Dual Core Processor',\n",
              " 'Apple M2 Processor',\n",
              " 'Intel Core i3 Processor',\n",
              " 'AMD Athlon Dual Core Processor',\n",
              " 'Intel Celeron Dual Core Processor',\n",
              " 'MediaTek MT8183 Processor',\n",
              " 'Intel Core i3 Processor',\n",
              " 'AMD Ryzen 5 Hexa Core Processor']"
            ]
          },
          "metadata": {},
          "execution_count": 16
        }
      ],
      "source": [
        "re.findall('\\w.+ Processor',string)"
      ]
    },
    {
      "cell_type": "markdown",
      "metadata": {
        "id": "4mGFWZ5S49ph"
      },
      "source": [
        "### Extract Complete RAM Configuration (e.g., 8 GB DDR4 RAM)\n",
        "- Find GB + RAM type + ‘RAM’."
      ]
    },
    {
      "cell_type": "code",
      "execution_count": 17,
      "metadata": {
        "id": "Cqzwf3XU49pi",
        "colab": {
          "base_uri": "https://localhost:8080/"
        },
        "outputId": "a474f1d8-b82b-4963-85dc-e2d0539425bf"
      },
      "outputs": [
        {
          "output_type": "execute_result",
          "data": {
            "text/plain": [
              "['8 GB DDR4 RAM',\n",
              " '8 GB DDR4 RAM',\n",
              " '8 GB Unified Memory RAM',\n",
              " '8 GB LPDDR4X RAM',\n",
              " '4 GB DDR4 RAM',\n",
              " '8 GB DDR4 RAM',\n",
              " '4 GB LPDDR4 RAM',\n",
              " '8 GB LPDDR5 RAM',\n",
              " '8 GB DDR4 RAM']"
            ]
          },
          "metadata": {},
          "execution_count": 17
        }
      ],
      "source": [
        "re.findall(r'\\d{1,2} GB (?:LPDDR\\dX?|DDR\\d|Unified Memory) RAM',string)"
      ]
    },
    {
      "cell_type": "markdown",
      "source": [
        "### Pattern Breakdown\n",
        "\n",
        "| Regex Part                          | Meaning                                                                 |\n",
        "|-------------------------------------|-------------------------------------------------------------------------|\n",
        "| `\\d{1,2}`                           | Match **1 or 2 digits** (e.g., `4`, `8`, `16`)                           |\n",
        "| ` GB `                              | Match the literal string **\" GB \"** (with spaces)                       |\n",
        "| `(?: ... )`                         | **Non-capturing group** — groups multiple options without capturing     |\n",
        "| `LPDDR\\dX?`                         | Match `LPDDR` followed by **a digit**, optionally followed by `\"X\"`     |\n",
        "| `DDR\\d`                             | Match `DDR` followed by a **single digit** (e.g., `DDR4`)               |\n",
        "| `Unified Memory`                    | Match the exact phrase `\"Unified Memory\"`                               |\n",
        "| ` RAM`                              | Match the literal string `\" RAM\"`                                       |"
      ],
      "metadata": {
        "id": "vP_mQRfFTGvC"
      }
    },
    {
      "cell_type": "markdown",
      "metadata": {
        "id": "5mcB-Axf49ps"
      },
      "source": [
        "### Extract All Display Details (e.g., 39.62 cm (15.6 Inch) Display)\n",
        " - Match everything including cm and Display."
      ]
    },
    {
      "cell_type": "code",
      "execution_count": 18,
      "metadata": {
        "id": "gu3SqaJz49pt",
        "colab": {
          "base_uri": "https://localhost:8080/"
        },
        "outputId": "3060484f-4792-4e66-82a9-86e7a1b68431"
      },
      "outputs": [
        {
          "output_type": "execute_result",
          "data": {
            "text/plain": [
              "['29.46 cm (11.6 Inch) Display',\n",
              " '39.62 cm (15.6 Inch) Display',\n",
              " '39.62 cm (15.6 Inch) Display',\n",
              " '34.54 cm (13.6 Inch) Display',\n",
              " '39.62 cm (15.6 Inch) Display',\n",
              " '29.46 cm (11.6 Inch) Display',\n",
              " '39.62 cm (15.6 Inch) Display']"
            ]
          },
          "metadata": {},
          "execution_count": 18
        }
      ],
      "source": [
        "re.findall(r\"\\d{2}\\.\\d{2} cm \\(\\d{2}\\.\\d Inch\\) Display\",string)"
      ]
    },
    {
      "cell_type": "markdown",
      "metadata": {
        "id": "VBE1gHTn49pu"
      },
      "source": [
        "### Extract Warranty Type (e.g., Onsite, Carry-in, Limited)\n",
        "- Comes before the word “Warranty”."
      ]
    },
    {
      "cell_type": "code",
      "execution_count": 19,
      "metadata": {
        "id": "3XGZFDZZ49pv",
        "colab": {
          "base_uri": "https://localhost:8080/"
        },
        "outputId": "d319a514-cadb-4cf8-bed1-635265116f55"
      },
      "outputs": [
        {
          "output_type": "execute_result",
          "data": {
            "text/plain": [
              "['Pick and Drop',\n",
              " 'Carry-in',\n",
              " 'Onsite',\n",
              " 'Limited',\n",
              " 'Onsite',\n",
              " 'Onsite',\n",
              " 'Pick and Drop',\n",
              " 'International Travelers',\n",
              " 'Onsite']"
            ]
          },
          "metadata": {},
          "execution_count": 19
        }
      ],
      "source": [
        "re.findall(r'\\d Year(?:s)? ([A-Za-z\\- ]+) Warranty',string)"
      ]
    },
    {
      "cell_type": "markdown",
      "source": [
        "### Pattern Breakdown\n",
        "\n",
        "| Regex Part                       | Meaning                                                                 |\n",
        "|----------------------------------|-------------------------------------------------------------------------|\n",
        "| `\\d`                             | Match a **single digit** (e.g., `1`, `2`)                               |\n",
        "| ` Year`                          | Match the word **\" Year\"** with a space                                 |\n",
        "| `(?:s)?`                         | Optional `\"s\"` (non-capturing group) for plural — matches `\"Year\"` or `\"Years\"` |\n",
        "| `([A-Za-z\\- ]+)`                 | **Capturing group** that matches one or more of:                       |\n",
        "|                                  | - Uppercase or lowercase letters (`A-Za-z`)                            |\n",
        "|                                  | - Hyphens (`-`)                                                        |\n",
        "|                                  | - Spaces (` `)                                                         |\n",
        "|                                  | → Example: `\"Onsite\"`, `\"Carry-In\"`, `\"Pickup and Return\"`            |\n",
        "| ` Warranty`                      | Match the word **\" Warranty\"**      "
      ],
      "metadata": {
        "id": "n_pLn3bcMAqg"
      }
    },
    {
      "cell_type": "markdown",
      "metadata": {
        "id": "9AIkqKmf49px"
      },
      "source": [
        "### Extract Only Generation Information (e.g., (11th Gen))\n",
        "- Look inside parentheses."
      ]
    },
    {
      "cell_type": "code",
      "execution_count": 20,
      "metadata": {
        "id": "9n_NTggK49px",
        "colab": {
          "base_uri": "https://localhost:8080/"
        },
        "outputId": "db786fc6-c6a3-44e6-f2d1-a453a6db173d"
      },
      "outputs": [
        {
          "output_type": "execute_result",
          "data": {
            "text/plain": [
              "['11th Gen', '10th Gen', '12th Gen']"
            ]
          },
          "metadata": {},
          "execution_count": 20
        }
      ],
      "source": [
        "re.findall(r'\\((\\d{2,3}th Gen)\\)',string)"
      ]
    },
    {
      "cell_type": "markdown",
      "source": [
        "### Pattern Breakdown\n",
        "\n",
        "| Regex Part              | Meaning                                                                 |\n",
        "|--------------------------|-------------------------------------------------------------------------|\n",
        "| `\\(`                    | Match the **literal opening parenthesis** `(`                          |\n",
        "| `(\\d{2,3}th Gen)`       | **Capturing group** that matches:                                      |\n",
        "| - `\\d{2,3}`             | Exactly **2 or 3 digits** (e.g., `11`, `13`, `125`)                     |\n",
        "| - `th Gen`              | Literal text `\"th Gen\"`                                                 |\n",
        "| `\\)`                    | Match the **literal closing parenthesis** `)`                          |\n",
        "\n",
        "- The entire expression ensures the pattern must be inside parentheses."
      ],
      "metadata": {
        "id": "JK_4kOy1MJV5"
      }
    },
    {
      "cell_type": "markdown",
      "metadata": {
        "id": "n097bqih49px"
      },
      "source": [
        "### Extract Only OS Name (e.g., Windows 11, Mac OS)\n",
        "-  Without the “Operating System” phrase"
      ]
    },
    {
      "cell_type": "code",
      "execution_count": 21,
      "metadata": {
        "id": "SWTnHRvc49py",
        "colab": {
          "base_uri": "https://localhost:8080/"
        },
        "outputId": "0b177918-0b9d-4ae0-e2b3-790a8f91f49f"
      },
      "outputs": [
        {
          "output_type": "execute_result",
          "data": {
            "text/plain": [
              "['29', '512', '512', '256', '512', '256', '256', '29', '256', '512']"
            ]
          },
          "metadata": {},
          "execution_count": 21
        }
      ],
      "source": [
        "re.findall(r'Operating System(\\w+)',string)"
      ]
    },
    {
      "cell_type": "markdown",
      "metadata": {
        "id": "M4N3tV3m49py"
      },
      "source": [
        "### Extract All LPDDR RAM Types (e.g., LPDDR4, LPDDR5X)\n",
        "- LP prefix indicates Low Power RAM."
      ]
    },
    {
      "cell_type": "code",
      "execution_count": 22,
      "metadata": {
        "id": "X9BfuPrA49py",
        "colab": {
          "base_uri": "https://localhost:8080/"
        },
        "outputId": "9631c327-7d65-45c7-8aad-ce1e2d9d7860"
      },
      "outputs": [
        {
          "output_type": "execute_result",
          "data": {
            "text/plain": [
              "['8 GB DDR4',\n",
              " '8 GB DDR4',\n",
              " '8 GB LPDDR4X',\n",
              " '4 GB DDR4',\n",
              " '8 GB DDR4',\n",
              " '4 GB LPDDR4',\n",
              " '8 GB LPDDR5',\n",
              " '8 GB DDR4']"
            ]
          },
          "metadata": {},
          "execution_count": 22
        }
      ],
      "source": [
        "re.findall(r'\\d{1,2} GB (?:LPDDR\\dX?|DDR\\d)',string)"
      ]
    },
    {
      "cell_type": "markdown",
      "source": [
        "### Pattern Breakdown\n",
        "\n",
        "| Regex Part               | Description                                                                 |\n",
        "|---------------------------|-----------------------------------------------------------------------------|\n",
        "| `\\d{1,2}`                | Match **1 or 2 digits** (e.g., `8`, `16`)                                    |\n",
        "| ` GB `                   | Match a **space, 'GB', and space**                                          |\n",
        "| `(?: ... )`              | A **non-capturing group** — groups multiple options without capturing them |\n",
        "| `LPDDR\\dX?`              | Match `LPDDR` followed by a digit (e.g., `LPDDR4` or `LPDDR5X`)             |\n",
        "| `DDR\\d`                  | OR match `DDR` followed by a digit (e.g., `DDR4`, `DDR5`)                   |\n",
        "\n",
        "> `X?` makes the letter **\"X\" optional** in `LPDDR5X`, `LPDDR4`, etc."
      ],
      "metadata": {
        "id": "dJOqf_yCMZrs"
      }
    },
    {
      "cell_type": "markdown",
      "metadata": {
        "id": "7Tt_IALEzBSp"
      },
      "source": [
        "## Search and Replace\n",
        "\n",
        "### What is Search and Replace in Regex?\n",
        "\n",
        "Search and Replace using regular expressions means:\n",
        "\n",
        "- Searching a pattern in text using a regex\n",
        "\n",
        "- Replacing the matched text with something else (static or dynamic)\n",
        "\n",
        "It's extremely useful for data cleaning, formatting, renaming, or pattern corrections."
      ]
    },
    {
      "cell_type": "code",
      "execution_count": 23,
      "metadata": {
        "ExecuteTime": {
          "end_time": "2018-06-07T03:24:38.470165Z",
          "start_time": "2018-06-07T03:24:38.460338Z"
        },
        "colab": {
          "base_uri": "https://localhost:8080/"
        },
        "id": "xLqEQ4UFzBSq",
        "outputId": "a3940993-03ff-4308-a3bc-b99eb2352136"
      },
      "outputs": [
        {
          "output_type": "stream",
          "name": "stdout",
          "text": [
            "Phone num:  1233-123-345 # This is a phone\n",
            "Phone num:  1233-123-345 \n",
            "Phone num:  1233123345\n"
          ]
        },
        {
          "output_type": "stream",
          "name": "stderr",
          "text": [
            "<>:13: SyntaxWarning: invalid escape sequence '\\D'\n",
            "<>:13: SyntaxWarning: invalid escape sequence '\\D'\n",
            "/tmp/ipython-input-147084744.py:13: SyntaxWarning: invalid escape sequence '\\D'\n",
            "  num = re.sub('\\D', '', phone)\n"
          ]
        }
      ],
      "source": [
        "# re.sub(regex, replacement, targetString)\n",
        "\n",
        "import re\n",
        "\n",
        "phone = '1233-123-345 # This is a phone'\n",
        "\n",
        "print('Phone num: ', phone)\n",
        "\n",
        "num = re.sub('#.*$', '', phone)\n",
        "\n",
        "print('Phone num: ',num)\n",
        "\n",
        "num = re.sub('\\D', '', phone)\n",
        "\n",
        "print('Phone num: ', num)"
      ]
    },
    {
      "cell_type": "markdown",
      "metadata": {
        "id": "Ug_-_yDqzBSq"
      },
      "source": [
        "## re.split()"
      ]
    },
    {
      "cell_type": "code",
      "execution_count": 24,
      "metadata": {
        "ExecuteTime": {
          "end_time": "2018-06-07T03:12:31.994925Z",
          "start_time": "2018-06-07T03:12:31.989166Z"
        },
        "colab": {
          "base_uri": "https://localhost:8080/"
        },
        "id": "-WbOUhkEzBSr",
        "outputId": "dd138614-a565-4386-a482-0b3941d5a619"
      },
      "outputs": [
        {
          "output_type": "stream",
          "name": "stdout",
          "text": [
            "['I', 'Learn', 'Python', 'Regex']\n"
          ]
        }
      ],
      "source": [
        "import re\n",
        "\n",
        "l = re.split('-', 'I-Learn-Python-Regex')\n",
        "\n",
        "print(l)"
      ]
    },
    {
      "cell_type": "code",
      "execution_count": 25,
      "metadata": {
        "ExecuteTime": {
          "end_time": "2018-06-07T05:48:53.762406Z",
          "start_time": "2018-06-07T05:48:53.753430Z"
        },
        "colab": {
          "base_uri": "https://localhost:8080/"
        },
        "id": "FG5ue5-vzBSr",
        "outputId": "0d51db31-0fc2-471a-d2f1-53c82c4b34f4"
      },
      "outputs": [
        {
          "output_type": "stream",
          "name": "stdout",
          "text": [
            "['abcdefg', 'gmail', 'com']\n"
          ]
        },
        {
          "output_type": "stream",
          "name": "stderr",
          "text": [
            "<>:3: SyntaxWarning: invalid escape sequence '\\W'\n",
            "<>:3: SyntaxWarning: invalid escape sequence '\\W'\n",
            "/tmp/ipython-input-2968690758.py:3: SyntaxWarning: invalid escape sequence '\\W'\n",
            "  l = re.split('\\W', 'abcdefg@gmail.com')\n"
          ]
        }
      ],
      "source": [
        "import re\n",
        "\n",
        "l = re.split('\\W', 'abcdefg@gmail.com')\n",
        "\n",
        "print(l)"
      ]
    },
    {
      "cell_type": "code",
      "execution_count": 26,
      "metadata": {
        "ExecuteTime": {
          "end_time": "2018-06-07T05:47:38.918176Z",
          "start_time": "2018-06-07T05:47:38.913083Z"
        },
        "colab": {
          "base_uri": "https://localhost:8080/"
        },
        "id": "Dfwunbl7zBSr",
        "outputId": "860e6357-2a48-419a-ba2e-e4f0558c37a9"
      },
      "outputs": [
        {
          "output_type": "stream",
          "name": "stdout",
          "text": [
            "['www', 'facebook', 'com']\n"
          ]
        }
      ],
      "source": [
        "import re\n",
        "\n",
        "l = re.split('[.]', 'www.facebook.com')\n",
        "\n",
        "print(l)"
      ]
    },
    {
      "cell_type": "markdown",
      "metadata": {
        "id": "J8sgqQQQzBSs"
      },
      "source": [
        "# Step by Step creating RegEx"
      ]
    },
    {
      "cell_type": "markdown",
      "metadata": {
        "id": "3zboqPalzBSs"
      },
      "source": [
        "### STEP-1 : Create pattern object"
      ]
    },
    {
      "cell_type": "code",
      "execution_count": 27,
      "metadata": {
        "ExecuteTime": {
          "end_time": "2018-06-07T05:21:44.171122Z",
          "start_time": "2018-06-07T05:21:44.165136Z"
        },
        "colab": {
          "base_uri": "https://localhost:8080/"
        },
        "id": "NUtijYHGzBSs",
        "outputId": "67ed5aa5-a85d-4f1e-97bc-0243ae5a52f4"
      },
      "outputs": [
        {
          "output_type": "stream",
          "name": "stdout",
          "text": [
            "<class 're.Pattern'>\n"
          ]
        }
      ],
      "source": [
        "# compile() -> convert the pattern into regex object\n",
        "\n",
        "import re\n",
        "\n",
        "pattern = re.compile('Python')\n",
        "\n",
        "print(type(pattern))"
      ]
    },
    {
      "cell_type": "markdown",
      "metadata": {
        "id": "Y7ao18YfzBS3"
      },
      "source": [
        "### STEP-2 : Create Matcher object"
      ]
    },
    {
      "cell_type": "code",
      "execution_count": 28,
      "metadata": {
        "ExecuteTime": {
          "end_time": "2018-06-07T05:21:53.105420Z",
          "start_time": "2018-06-07T05:21:53.100434Z"
        },
        "colab": {
          "base_uri": "https://localhost:8080/"
        },
        "id": "TkM_ynW8zBS4",
        "outputId": "495a80cc-3b2e-494d-8d1a-047790dddca5"
      },
      "outputs": [
        {
          "output_type": "stream",
          "name": "stdout",
          "text": [
            "<class 'callable_iterator'>\n"
          ]
        }
      ],
      "source": [
        "# finditer() -> we can check how many matcher are available\n",
        "\n",
        "matcher = pattern.finditer('I Python am learning python Regex in Python!')\n",
        "\n",
        "print(type(matcher))\n"
      ]
    },
    {
      "cell_type": "markdown",
      "metadata": {
        "id": "KqBIuxR_zBS4"
      },
      "source": [
        "### STEP-3 : Iterate over the Matcher"
      ]
    },
    {
      "cell_type": "code",
      "execution_count": 29,
      "metadata": {
        "ExecuteTime": {
          "end_time": "2018-06-07T05:22:27.107742Z",
          "start_time": "2018-06-07T05:22:27.102753Z"
        },
        "colab": {
          "base_uri": "https://localhost:8080/"
        },
        "id": "Izsx1-HBzBS5",
        "outputId": "1d59cdb7-d894-4f08-955c-a3bd199a5c39"
      },
      "outputs": [
        {
          "output_type": "stream",
          "name": "stdout",
          "text": [
            "<class 're.Match'>\n",
            "Match is at:2, End:8, Pattern found: Python\n",
            "<class 're.Match'>\n",
            "Match is at:37, End:43, Pattern found: Python\n",
            "DONE!!\n"
          ]
        }
      ],
      "source": [
        "# start() -> starting index of matched string\n",
        "# end() -> end+1 index\n",
        "# group() -> returns matched sring\n",
        "\n",
        "for m in matcher:\n",
        "    print(type(m))\n",
        "    print('Match is at:{}, End:{}, Pattern found: {}'.\n",
        "          format(m.start(), m.end(), m.group()))\n",
        "print('DONE!!')\n"
      ]
    },
    {
      "cell_type": "markdown",
      "metadata": {
        "id": "DEaTnv5-zBS5"
      },
      "source": [
        "## Using Various Combinations"
      ]
    },
    {
      "cell_type": "code",
      "execution_count": 30,
      "metadata": {
        "colab": {
          "base_uri": "https://localhost:8080/"
        },
        "id": "ZZhQSeMuzBS5",
        "outputId": "b2169949-80a9-4599-e5ca-b0e5ca067d31"
      },
      "outputs": [
        {
          "output_type": "stream",
          "name": "stdout",
          "text": [
            "ab 0 2\n",
            "ab 3 5\n",
            "ab 5 7\n"
          ]
        }
      ],
      "source": [
        "# Pattern = 'ab'\n",
        "# Target = 'abaababa'\n",
        "# Way - 1\n",
        "\n",
        "import re\n",
        "\n",
        "pattern = re.compile('ab')\n",
        "\n",
        "matcher = pattern.finditer('abaababa')\n",
        "\n",
        "for m in matcher:\n",
        "    print(m.group(), m.start(), m.end())"
      ]
    },
    {
      "cell_type": "code",
      "execution_count": 31,
      "metadata": {
        "colab": {
          "base_uri": "https://localhost:8080/"
        },
        "id": "mcIupttwzBS6",
        "outputId": "382b0d84-82ea-4bd2-fcf7-4357d2f5bfce"
      },
      "outputs": [
        {
          "output_type": "stream",
          "name": "stdout",
          "text": [
            "ab 0 2\n",
            "ab 3 5\n",
            "ab 5 7\n"
          ]
        }
      ],
      "source": [
        "# Way - 2\n",
        "\n",
        "import re\n",
        "\n",
        "matcher = re.compile('ab').finditer('abaababa')\n",
        "\n",
        "for m in matcher:\n",
        "    print(m.group(), m.start(), m.end())"
      ]
    },
    {
      "cell_type": "code",
      "execution_count": 32,
      "metadata": {
        "colab": {
          "base_uri": "https://localhost:8080/"
        },
        "id": "4YnjhCS9zBS6",
        "outputId": "18b29fb3-3285-45f7-bf63-059d6644182b"
      },
      "outputs": [
        {
          "output_type": "stream",
          "name": "stdout",
          "text": [
            "aaaaa 0 5\n",
            "aaa 11 14\n",
            "aa 21 23\n",
            "a 30 31\n"
          ]
        }
      ],
      "source": [
        "# Way - 3\n",
        "# re.finditer(pattern, target)\n",
        "\n",
        "import re\n",
        "\n",
        "matcher = re.finditer('a+', 'aaaaabbcdegaaabdfgfdgaabjukilua')\n",
        "\n",
        "for m in matcher:\n",
        "    print(m.group(), m.start(), m.end())"
      ]
    },
    {
      "cell_type": "code",
      "execution_count": 33,
      "metadata": {
        "ExecuteTime": {
          "end_time": "2018-06-07T05:24:58.259291Z",
          "start_time": "2018-06-07T05:24:58.254301Z"
        },
        "colab": {
          "base_uri": "https://localhost:8080/"
        },
        "id": "M3VswfwzzBS6",
        "outputId": "bc4e9c99-c810-4667-fb5d-124c4e176bfc"
      },
      "outputs": [
        {
          "output_type": "stream",
          "name": "stdout",
          "text": [
            "Match is at:0, End:2, Pattern found: ab\n",
            "Match is at:3, End:5, Pattern found: ab\n",
            "Match is at:5, End:7, Pattern found: ab\n",
            "Total count:  3\n"
          ]
        }
      ],
      "source": [
        "import re\n",
        "\n",
        "matcher = re.finditer('ab', 'abaababa')\n",
        "\n",
        "count = 0\n",
        "\n",
        "for m in matcher:\n",
        "    count += 1\n",
        "    print('Match is at:{}, End:{}, Pattern found: {}'.format(m.start(), m.end(), m.group()))\n",
        "print('Total count: ',count)"
      ]
    },
    {
      "cell_type": "code",
      "execution_count": 34,
      "metadata": {
        "ExecuteTime": {
          "end_time": "2018-06-07T02:17:22.036827Z",
          "start_time": "2018-06-07T02:17:22.021800Z"
        },
        "colab": {
          "base_uri": "https://localhost:8080/"
        },
        "id": "Araf_88QzBS7",
        "outputId": "293c0901-5794-4044-bf29-77e970a21ad3"
      },
      "outputs": [
        {
          "output_type": "stream",
          "name": "stdout",
          "text": [
            "Match is at:1, End:3, Pattern found: ba\n",
            "Match is at:4, End:6, Pattern found: ba\n",
            "Match is at:6, End:8, Pattern found: ba\n",
            "Total count:  3\n"
          ]
        }
      ],
      "source": [
        "matcher = re.finditer('ba', 'abaababa')\n",
        "\n",
        "count = 0\n",
        "\n",
        "for m in matcher:\n",
        "    count += 1\n",
        "    print('Match is at:{}, End:{}, Pattern found: {}'.format(m.start(), m.end(), m.group()))\n",
        "print('Total count: ',count)"
      ]
    },
    {
      "cell_type": "code",
      "execution_count": 35,
      "metadata": {
        "colab": {
          "base_uri": "https://localhost:8080/"
        },
        "id": "eccxI0U4zBS7",
        "outputId": "aba5fe90-fdb7-456c-e7e2-ecf7e2501111"
      },
      "outputs": [
        {
          "output_type": "stream",
          "name": "stdout",
          "text": [
            "<class 'list'>\n",
            "<class 'int'>\n",
            "<class 'float'>\n",
            "<class 'str'>\n",
            "<class 'bool'>\n"
          ]
        }
      ],
      "source": [
        "lst = [1, 2.0, '3', True]\n",
        "\n",
        "print(type(lst))\n",
        "\n",
        "for i in lst:\n",
        "    print(type(i))"
      ]
    },
    {
      "cell_type": "code",
      "execution_count": 36,
      "metadata": {
        "colab": {
          "base_uri": "https://localhost:8080/"
        },
        "id": "XJRd72-azBS7",
        "outputId": "79b37d26-0912-41b1-bb58-f59c3e1b96b9"
      },
      "outputs": [
        {
          "output_type": "stream",
          "name": "stdout",
          "text": [
            "<class 'callable_iterator'>\n",
            "an 1 3\n",
            "<class 're.Match'>\n",
            "an 7 9\n",
            "<class 're.Match'>\n"
          ]
        }
      ],
      "source": [
        "matcher = re.finditer('an', 'Kanav Bansal')\n",
        "\n",
        "print(type(matcher))\n",
        "\n",
        "for m in matcher:\n",
        "    print(m.group(), m.start(), m.end())\n",
        "    print(type(m))"
      ]
    },
    {
      "cell_type": "code",
      "execution_count": 37,
      "metadata": {
        "ExecuteTime": {
          "end_time": "2018-06-07T02:18:37.371274Z",
          "start_time": "2018-06-07T02:18:37.361272Z"
        },
        "colab": {
          "base_uri": "https://localhost:8080/"
        },
        "id": "n2aEquoWzBS7",
        "outputId": "6ab5335c-5441-4b58-9bc5-b34a92f2df5f"
      },
      "outputs": [
        {
          "output_type": "stream",
          "name": "stdout",
          "text": [
            "Match is at: 0, End: 1, Pattern found: a\n",
            "Match is at: 2, End: 3, Pattern found: b\n",
            "Total count:  2\n"
          ]
        }
      ],
      "source": [
        "matcher = re.finditer('[abc]', 'a7b@ k9z')\n",
        "\n",
        "count = 0\n",
        "\n",
        "for m in matcher:\n",
        "    count += 1\n",
        "    print('Match is at: {}, End: {}, Pattern found: {}'.format(m.start(), m.end(), m.group()))\n",
        "print('Total count: ',count)"
      ]
    },
    {
      "cell_type": "code",
      "execution_count": 38,
      "metadata": {
        "ExecuteTime": {
          "end_time": "2018-06-07T02:19:14.833187Z",
          "start_time": "2018-06-07T02:19:14.823192Z"
        },
        "colab": {
          "base_uri": "https://localhost:8080/"
        },
        "id": "-aBOcL2LzBS8",
        "outputId": "de375edf-d97d-4c61-8b8a-b6e9c876ed7e"
      },
      "outputs": [
        {
          "output_type": "stream",
          "name": "stdout",
          "text": [
            "Match is at: 0, End: 1, Pattern found: a\n",
            "Match is at: 2, End: 3, Pattern found: b\n",
            "Match is at: 5, End: 6, Pattern found: k\n",
            "Match is at: 7, End: 8, Pattern found: z\n",
            "Total count:  4\n"
          ]
        }
      ],
      "source": [
        "matcher = re.finditer('[a-z]', 'a7b@ k9z')\n",
        "\n",
        "count = 0\n",
        "\n",
        "for m in matcher:\n",
        "    count += 1\n",
        "    print('Match is at: {}, End: {}, Pattern found: {}'.format(m.start(), m.end(), m.group()))\n",
        "print('Total count: ',count)"
      ]
    },
    {
      "cell_type": "code",
      "execution_count": 39,
      "metadata": {
        "ExecuteTime": {
          "end_time": "2018-06-07T02:19:27.387351Z",
          "start_time": "2018-06-07T02:19:27.382352Z"
        },
        "colab": {
          "base_uri": "https://localhost:8080/"
        },
        "id": "3txJsjTxzBS8",
        "outputId": "19af67e2-8e19-4129-dcfb-0601d4120b4a"
      },
      "outputs": [
        {
          "output_type": "stream",
          "name": "stdout",
          "text": [
            "Match is at: 1, End: 2, Pattern found: 7\n",
            "Match is at: 3, End: 4, Pattern found: @\n",
            "Match is at: 4, End: 5, Pattern found:  \n",
            "Match is at: 6, End: 7, Pattern found: 9\n",
            "Total count:  4\n"
          ]
        }
      ],
      "source": [
        "matcher = re.finditer('[^a-z]', 'a7b@ k9z')\n",
        "\n",
        "count = 0\n",
        "\n",
        "for m in matcher:\n",
        "    count += 1\n",
        "    print('Match is at: {}, End: {}, Pattern found: {}'.format(m.start(), m.end(), m.group()))\n",
        "print('Total count: ',count)"
      ]
    },
    {
      "cell_type": "code",
      "execution_count": 40,
      "metadata": {
        "ExecuteTime": {
          "end_time": "2018-06-07T02:22:23.415113Z",
          "start_time": "2018-06-07T02:22:23.405118Z"
        },
        "colab": {
          "base_uri": "https://localhost:8080/"
        },
        "id": "IvJtwFYFzBS8",
        "outputId": "a0425e83-41b7-41ff-8a33-3327eb719681"
      },
      "outputs": [
        {
          "output_type": "stream",
          "name": "stdout",
          "text": [
            "Match is at: 4, End: 5, Pattern found:  \n",
            "Total count:  1\n"
          ]
        },
        {
          "output_type": "stream",
          "name": "stderr",
          "text": [
            "<>:1: SyntaxWarning: invalid escape sequence '\\s'\n",
            "<>:1: SyntaxWarning: invalid escape sequence '\\s'\n",
            "/tmp/ipython-input-1864469525.py:1: SyntaxWarning: invalid escape sequence '\\s'\n",
            "  matcher = re.finditer('\\s', 'a7b@ k9z')\n"
          ]
        }
      ],
      "source": [
        "matcher = re.finditer('\\s', 'a7b@ k9z')\n",
        "\n",
        "count = 0\n",
        "\n",
        "for m in matcher:\n",
        "    count += 1\n",
        "    print('Match is at: {}, End: {}, Pattern found: {}'.format(m.start(), m.end(), m.group()))\n",
        "print('Total count: ',count)"
      ]
    },
    {
      "cell_type": "code",
      "execution_count": 41,
      "metadata": {
        "ExecuteTime": {
          "end_time": "2018-06-07T02:22:30.758828Z",
          "start_time": "2018-06-07T02:22:30.753820Z"
        },
        "colab": {
          "base_uri": "https://localhost:8080/"
        },
        "id": "MB9dyjJEzBS9",
        "outputId": "50e88c57-ed91-4a0c-cd5d-189803f20755"
      },
      "outputs": [
        {
          "output_type": "stream",
          "name": "stdout",
          "text": [
            "Match is at: 0, End: 1, Pattern found: a\n",
            "Match is at: 1, End: 2, Pattern found: 7\n",
            "Match is at: 2, End: 3, Pattern found: b\n",
            "Match is at: 5, End: 6, Pattern found: k\n",
            "Match is at: 6, End: 7, Pattern found: 9\n",
            "Match is at: 7, End: 8, Pattern found: z\n",
            "Total count:  6\n"
          ]
        },
        {
          "output_type": "stream",
          "name": "stderr",
          "text": [
            "<>:1: SyntaxWarning: invalid escape sequence '\\w'\n",
            "<>:1: SyntaxWarning: invalid escape sequence '\\w'\n",
            "/tmp/ipython-input-3570711520.py:1: SyntaxWarning: invalid escape sequence '\\w'\n",
            "  matcher = re.finditer('\\w', 'a7b@ k9z')\n"
          ]
        }
      ],
      "source": [
        "matcher = re.finditer('\\w', 'a7b@ k9z')\n",
        "\n",
        "count = 0\n",
        "\n",
        "for m in matcher:\n",
        "    count += 1\n",
        "    print('Match is at: {}, End: {}, Pattern found: {}'.format(m.start(), m.end(), m.group()))\n",
        "print('Total count: ',count)"
      ]
    },
    {
      "cell_type": "code",
      "execution_count": 42,
      "metadata": {
        "ExecuteTime": {
          "end_time": "2018-06-07T02:22:37.868641Z",
          "start_time": "2018-06-07T02:22:37.858647Z"
        },
        "colab": {
          "base_uri": "https://localhost:8080/"
        },
        "id": "6J911xo4zBS9",
        "outputId": "51a9c8f1-f261-467d-ebf8-48504fe9433b"
      },
      "outputs": [
        {
          "output_type": "stream",
          "name": "stdout",
          "text": [
            "Match is at: 3, End: 4, Pattern found: @\n",
            "Match is at: 4, End: 5, Pattern found:  \n",
            "Total count:  2\n"
          ]
        },
        {
          "output_type": "stream",
          "name": "stderr",
          "text": [
            "<>:1: SyntaxWarning: invalid escape sequence '\\W'\n",
            "<>:1: SyntaxWarning: invalid escape sequence '\\W'\n",
            "/tmp/ipython-input-2315204965.py:1: SyntaxWarning: invalid escape sequence '\\W'\n",
            "  matcher = re.finditer('\\W', 'a7b@ k9z')\n"
          ]
        }
      ],
      "source": [
        "matcher = re.finditer('\\W', 'a7b@ k9z')\n",
        "\n",
        "count = 0\n",
        "\n",
        "for m in matcher:\n",
        "    count += 1\n",
        "    print('Match is at: {}, End: {}, Pattern found: {}'.format(m.start(), m.end(), m.group()))\n",
        "print('Total count: ',count)"
      ]
    },
    {
      "cell_type": "code",
      "execution_count": 43,
      "metadata": {
        "ExecuteTime": {
          "end_time": "2018-06-07T02:23:00.635704Z",
          "start_time": "2018-06-07T02:23:00.630707Z"
        },
        "colab": {
          "base_uri": "https://localhost:8080/"
        },
        "id": "G7vSIQo_zBS9",
        "outputId": "5a2e0d10-9690-431b-8f58-1939ff98cfa2"
      },
      "outputs": [
        {
          "output_type": "stream",
          "name": "stdout",
          "text": [
            "Match is at: 0, End: 1, Pattern found: a\n",
            "Total count:  1\n"
          ]
        }
      ],
      "source": [
        "matcher = re.finditer('^a', 'a7b@ k9z')\n",
        "\n",
        "count = 0\n",
        "\n",
        "for m in matcher:\n",
        "    count += 1\n",
        "    print('Match is at: {}, End: {}, Pattern found: {}'.format(m.start(), m.end(), m.group()))\n",
        "print('Total count: ',count)"
      ]
    },
    {
      "cell_type": "code",
      "execution_count": 44,
      "metadata": {
        "ExecuteTime": {
          "end_time": "2018-06-07T05:30:25.898657Z",
          "start_time": "2018-06-07T05:30:25.893671Z"
        },
        "colab": {
          "base_uri": "https://localhost:8080/"
        },
        "id": "oa6vVRc7zBS9",
        "outputId": "384cca60-65c4-4e78-ac85-664635b6b302"
      },
      "outputs": [
        {
          "output_type": "stream",
          "name": "stdout",
          "text": [
            "Match is at: 7, End: 8, Pattern found: z\n",
            "Total count:  1\n"
          ]
        }
      ],
      "source": [
        "matcher = re.finditer('z$', 'a7b@ k9z')\n",
        "\n",
        "count = 0\n",
        "\n",
        "for m in matcher:\n",
        "    count += 1\n",
        "    print('Match is at: {}, End: {}, Pattern found: {}'.format(m.start(), m.end(), m.group()))\n",
        "print('Total count: ',count)"
      ]
    },
    {
      "cell_type": "code",
      "execution_count": 45,
      "metadata": {
        "ExecuteTime": {
          "end_time": "2018-06-07T02:24:41.182549Z",
          "start_time": "2018-06-07T02:24:41.177517Z"
        },
        "colab": {
          "base_uri": "https://localhost:8080/"
        },
        "id": "VB6qeAXdzBS-",
        "outputId": "e1270bef-1546-4865-e24c-ba0cbf43e662"
      },
      "outputs": [
        {
          "output_type": "stream",
          "name": "stdout",
          "text": [
            "Match is at: 0, End: 1, Pattern found: a\n",
            "Match is at: 2, End: 3, Pattern found: a\n",
            "Match is at: 3, End: 4, Pattern found: a\n",
            "Match is at: 5, End: 6, Pattern found: a\n",
            "Match is at: 7, End: 8, Pattern found: a\n",
            "Total count:  5\n"
          ]
        }
      ],
      "source": [
        "matcher = re.finditer('a', 'abaababa')\n",
        "\n",
        "count = 0\n",
        "\n",
        "for m in matcher:\n",
        "    count += 1\n",
        "    print('Match is at: {}, End: {}, Pattern found: {}'.format(m.start(), m.end(), m.group()))\n",
        "print('Total count: ',count)"
      ]
    },
    {
      "cell_type": "code",
      "execution_count": 46,
      "metadata": {
        "ExecuteTime": {
          "end_time": "2018-06-07T02:26:12.250559Z",
          "start_time": "2018-06-07T02:26:12.245564Z"
        },
        "colab": {
          "base_uri": "https://localhost:8080/"
        },
        "id": "ntw8B78TzBS-",
        "outputId": "2dcf4029-bf7e-480b-a567-14b482ade6e6"
      },
      "outputs": [
        {
          "output_type": "stream",
          "name": "stdout",
          "text": [
            "Match is at: 0, End: 1, Pattern found: a\n",
            "Match is at: 2, End: 4, Pattern found: aa\n",
            "Match is at: 5, End: 6, Pattern found: a\n",
            "Match is at: 7, End: 8, Pattern found: a\n",
            "Total count:  4\n"
          ]
        }
      ],
      "source": [
        "matcher = re.finditer('a+', 'abaababa')\n",
        "\n",
        "count = 0\n",
        "\n",
        "for m in matcher:\n",
        "    count += 1\n",
        "    print('Match is at: {}, End: {}, Pattern found: {}'.format(m.start(), m.end(), m.group()))\n",
        "print('Total count: ',count)"
      ]
    },
    {
      "cell_type": "code",
      "execution_count": 47,
      "metadata": {
        "ExecuteTime": {
          "end_time": "2018-06-07T02:26:16.696799Z",
          "start_time": "2018-06-07T02:26:16.686770Z"
        },
        "colab": {
          "base_uri": "https://localhost:8080/"
        },
        "id": "jjox7L35zBS_",
        "outputId": "78f45c10-5181-48b3-c989-70654e85742d"
      },
      "outputs": [
        {
          "output_type": "stream",
          "name": "stdout",
          "text": [
            "Match is at: 0, End: 1, Pattern found: a\n",
            "Match is at: 1, End: 1, Pattern found: \n",
            "Match is at: 2, End: 4, Pattern found: aa\n",
            "Match is at: 4, End: 4, Pattern found: \n",
            "Match is at: 5, End: 6, Pattern found: a\n",
            "Match is at: 6, End: 6, Pattern found: \n",
            "Match is at: 7, End: 8, Pattern found: a\n",
            "Match is at: 8, End: 8, Pattern found: \n",
            "Total count:  8\n"
          ]
        }
      ],
      "source": [
        "matcher = re.finditer('a*', 'abaababa')\n",
        "\n",
        "count = 0\n",
        "\n",
        "for m in matcher:\n",
        "    count += 1\n",
        "    print('Match is at: {}, End: {}, Pattern found: {}'.format(m.start(), m.end(), m.group()))\n",
        "print('Total count: ',count)"
      ]
    },
    {
      "cell_type": "code",
      "execution_count": 48,
      "metadata": {
        "ExecuteTime": {
          "end_time": "2018-06-07T02:26:39.569564Z",
          "start_time": "2018-06-07T02:26:39.559569Z"
        },
        "colab": {
          "base_uri": "https://localhost:8080/"
        },
        "id": "XRqJRBFZzBS_",
        "outputId": "858be5a9-3121-464b-9ad2-42bbb1721c91",
        "scrolled": true
      },
      "outputs": [
        {
          "output_type": "stream",
          "name": "stdout",
          "text": [
            "Match is at: 0, End: 1, Pattern found: a\n",
            "Match is at: 1, End: 1, Pattern found: \n",
            "Match is at: 2, End: 3, Pattern found: a\n",
            "Match is at: 3, End: 4, Pattern found: a\n",
            "Match is at: 4, End: 4, Pattern found: \n",
            "Match is at: 5, End: 6, Pattern found: a\n",
            "Match is at: 6, End: 6, Pattern found: \n",
            "Match is at: 7, End: 8, Pattern found: a\n",
            "Match is at: 8, End: 8, Pattern found: \n",
            "Total count:  9\n"
          ]
        }
      ],
      "source": [
        "matcher = re.finditer('a?', 'abaababa')\n",
        "\n",
        "count = 0\n",
        "\n",
        "for m in matcher:\n",
        "    count += 1\n",
        "    print('Match is at: {}, End: {}, Pattern found: {}'.format(m.start(), m.end(), m.group()))\n",
        "print('Total count: ',count)"
      ]
    },
    {
      "cell_type": "code",
      "execution_count": 49,
      "metadata": {
        "colab": {
          "base_uri": "https://localhost:8080/"
        },
        "id": "L1LnjyREzBS_",
        "outputId": "15baef11-fbb9-4a7b-e4ec-1777f59e1c4a"
      },
      "outputs": [
        {
          "output_type": "stream",
          "name": "stdout",
          "text": [
            "Match is at: 0, End: 1, Pattern found: a\n",
            "Match is at: 1, End: 1, Pattern found: \n",
            "Match is at: 2, End: 3, Pattern found: a\n",
            "Match is at: 3, End: 4, Pattern found: a\n",
            "Match is at: 4, End: 4, Pattern found: \n",
            "Match is at: 5, End: 5, Pattern found: \n",
            "Match is at: 6, End: 7, Pattern found: a\n",
            "Match is at: 7, End: 7, Pattern found: \n",
            "Match is at: 8, End: 9, Pattern found: a\n",
            "Match is at: 9, End: 9, Pattern found: \n",
            "Match is at: 10, End: 10, Pattern found: \n",
            "Match is at: 11, End: 11, Pattern found: \n",
            "Match is at: 12, End: 12, Pattern found: \n",
            "Total count:  13\n"
          ]
        }
      ],
      "source": [
        "matcher = re.finditer('a?', 'abaabbababbb')\n",
        "\n",
        "count = 0\n",
        "\n",
        "for m in matcher:\n",
        "    count += 1\n",
        "    print('Match is at: {}, End: {}, Pattern found: {}'.format(m.start(), m.end(), m.group()))\n",
        "print('Total count: ',count)"
      ]
    },
    {
      "cell_type": "markdown",
      "metadata": {
        "id": "EYXD9qwSzBS_"
      },
      "source": [
        "## re.match()"
      ]
    },
    {
      "cell_type": "code",
      "execution_count": 50,
      "metadata": {
        "ExecuteTime": {
          "end_time": "2018-06-07T05:38:08.010867Z",
          "start_time": "2018-06-07T05:37:51.582824Z"
        },
        "colab": {
          "base_uri": "https://localhost:8080/"
        },
        "id": "DEvcnyv3zBTA",
        "outputId": "a2fdb2e4-9cab-49ee-85fa-a21c9040a5b9"
      },
      "outputs": [
        {
          "output_type": "stream",
          "name": "stdout",
          "text": [
            "Enter pattern: m\n",
            "<class 'NoneType'>\n",
            "Match is not available at beginning of the string!\n"
          ]
        }
      ],
      "source": [
        "# Used to match the given pattern at the beginning of the target string\n",
        "# If it finds the pattern than returns match object.\n",
        "# Now we can use start(), end(), group() with match object\n",
        "# If nothing found then retuns None.\n",
        "\n",
        "\n",
        "import re\n",
        "\n",
        "regex = input('Enter pattern: ')\n",
        "\n",
        "m = re.match(regex, 'abcdefgh')\n",
        "\n",
        "print(type(m))\n",
        "\n",
        "if m == None:\n",
        "    print('Match is not available at beginning of the string!')\n",
        "\n",
        "else:\n",
        "    print('Match found at beginning of the string.')\n",
        "    print('Match is at: {}, End: {}, Pattern found: {}'.format(m.start(), m.end(), m.group()))\n",
        "\n"
      ]
    },
    {
      "cell_type": "markdown",
      "metadata": {
        "id": "tL8aQ4QFzBTA"
      },
      "source": [
        "## re.search()"
      ]
    },
    {
      "cell_type": "code",
      "execution_count": 51,
      "metadata": {
        "ExecuteTime": {
          "end_time": "2018-06-07T05:40:19.936797Z",
          "start_time": "2018-06-07T05:40:08.915846Z"
        },
        "colab": {
          "base_uri": "https://localhost:8080/"
        },
        "id": "e3Hk-2ppzBTA",
        "outputId": "b4df5e7d-e63c-4d0e-ec48-80f6fd39237b"
      },
      "outputs": [
        {
          "output_type": "stream",
          "name": "stdout",
          "text": [
            "Enter pattern: \n",
            "Match available.\n",
            "First occurance is at: 0, End: 0, Pattern found: \n"
          ]
        }
      ],
      "source": [
        "# search the target irrespective of the location\n",
        "# If match is found returns the first occurance\n",
        "# otherwie returns None.\n",
        "\n",
        "# If it finds the pattern than returns match object.\n",
        "# Now we can use start(), end(), group() with match object\n",
        "# If nothing found then retuns None.\n",
        "\n",
        "\n",
        "import re\n",
        "\n",
        "regex = input('Enter pattern: ')\n",
        "\n",
        "m = re.search(regex, 'abcdefghi')\n",
        "\n",
        "if m != None:\n",
        "    print('Match available.')\n",
        "    print('First occurance is at: {}, End: {}, Pattern found: {}'.format(m.start(), m.end(), m.group()))\n",
        "\n",
        "else:\n",
        "    print('Match is not available in the whole string!')\n",
        "\n"
      ]
    },
    {
      "cell_type": "markdown",
      "metadata": {
        "id": "vPgvSk93zBTA"
      },
      "source": [
        "## re.match() vs re.search()"
      ]
    },
    {
      "cell_type": "code",
      "execution_count": 52,
      "metadata": {
        "colab": {
          "base_uri": "https://localhost:8080/"
        },
        "id": "jzYrLsR0zBTB",
        "outputId": "aae0bb83-c79e-4cac-b8fe-5e3a72da97f2"
      },
      "outputs": [
        {
          "output_type": "stream",
          "name": "stdout",
          "text": [
            "NO MATCH\n",
            "SEARCH SUCC\n"
          ]
        }
      ],
      "source": [
        "target = 'Dogs are better than cats'\n",
        "\n",
        "pattern = 'cats'\n",
        "\n",
        "m = re.match(pattern, target)\n",
        "\n",
        "if m == None:\n",
        "    print('NO MATCH')\n",
        "else:\n",
        "    print('MATCH SUCC')\n",
        "\n",
        "m = re.search(pattern, target)\n",
        "\n",
        "if m == None:\n",
        "    print('NO SEARCH')\n",
        "else:\n",
        "    print('SEARCH SUCC')"
      ]
    }
  ],
  "metadata": {
    "colab": {
      "collapsed_sections": [
        "tFCQ1PPkzBSl"
      ],
      "provenance": [],
      "include_colab_link": true
    },
    "kernelspec": {
      "display_name": "Python 3 (ipykernel)",
      "language": "python",
      "name": "python3"
    },
    "language_info": {
      "codemirror_mode": {
        "name": "ipython",
        "version": 3
      },
      "file_extension": ".py",
      "mimetype": "text/x-python",
      "name": "python",
      "nbconvert_exporter": "python",
      "pygments_lexer": "ipython3",
      "version": "3.13.5"
    },
    "toc": {
      "nav_menu": {},
      "number_sections": true,
      "sideBar": true,
      "skip_h1_title": false,
      "title_cell": "Table of Contents",
      "title_sidebar": "Contents",
      "toc_cell": false,
      "toc_position": {},
      "toc_section_display": true,
      "toc_window_display": false
    },
    "varInspector": {
      "cols": {
        "lenName": 16,
        "lenType": 16,
        "lenVar": 40
      },
      "kernels_config": {
        "python": {
          "delete_cmd_postfix": "",
          "delete_cmd_prefix": "del ",
          "library": "var_list.py",
          "varRefreshCmd": "print(var_dic_list())"
        },
        "r": {
          "delete_cmd_postfix": ") ",
          "delete_cmd_prefix": "rm(",
          "library": "var_list.r",
          "varRefreshCmd": "cat(var_dic_list()) "
        }
      },
      "types_to_exclude": [
        "module",
        "function",
        "builtin_function_or_method",
        "instance",
        "_Feature"
      ],
      "window_display": false
    }
  },
  "nbformat": 4,
  "nbformat_minor": 0
}