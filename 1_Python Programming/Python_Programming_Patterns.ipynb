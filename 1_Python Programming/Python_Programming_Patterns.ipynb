{
  "nbformat": 4,
  "nbformat_minor": 0,
  "metadata": {
    "colab": {
      "provenance": []
    },
    "kernelspec": {
      "name": "python3",
      "display_name": "Python 3"
    },
    "language_info": {
      "name": "python"
    }
  },
  "cells": [
    {
      "cell_type": "markdown",
      "source": [
        "# **Python Patterns Programming**"
      ],
      "metadata": {
        "id": "UMQdAefUfkRQ"
      }
    },
    {
      "cell_type": "markdown",
      "source": [
        "## What is Pattern Programming in Python?\n",
        "\n",
        "Pattern Programming in Python refers to writing code that generates specific visual patterns using loops (mostly nested loops).\n",
        "\n",
        "These patterns can be in the form of:\n",
        "\n",
        "- Stars (★)\n",
        "- Numbers\n",
        "- Alphabets\n",
        "- Pyramids, triangles, diamonds, etc.\n",
        "\n",
        "## It’s a common and powerful way to strengthen your understanding of:\n",
        "\n",
        "- Nested loops (for, while)\n",
        "\n",
        "- Conditional statements (if-else)\n",
        "\n",
        "- Flow control\n",
        "\n",
        "- Logical thinking and dry run skills\n",
        "\n",
        "## Why Learn Pattern Programming?\n",
        "\n",
        "Here are the key benefits:\n",
        "\n",
        "1. Improves Logic Building:\n",
        "\n",
        "  - You start visualizing loops and conditions better.\n",
        "\n",
        "  - Helps build a strong foundation in control structures.\n",
        "\n",
        "2. Enhances Problem-Solving Skills:\n",
        "\n",
        "  - You practice how to break down big problems into smaller steps.\n",
        "\n",
        "  - Useful for coding interviews and competitive programming.\n",
        "\n",
        "3. Mastery of Loops and Iteration:\n",
        "\n",
        "  - You get hands-on experience with nested loops and range().\n",
        "\n",
        "  - You understand row-column iteration patterns deeply.\n",
        "\n",
        "4. Helps in Interviews:\n",
        "\n",
        "  - Many coding interviews (especially for freshers) ask pattern-based questions.\n",
        "\n",
        "  - It shows your control over logic and clean coding skills.\n"
      ],
      "metadata": {
        "id": "G0xNMFxLxYIr"
      }
    },
    {
      "cell_type": "markdown",
      "source": [
        "### Understanding For Loop – Internal Working with Dry Run"
      ],
      "metadata": {
        "id": "OVbMuAYlyO5Z"
      }
    },
    {
      "cell_type": "markdown",
      "source": [
        "### 1. Simple for loop"
      ],
      "metadata": {
        "id": "nXjfqQ9-zLSP"
      }
    },
    {
      "cell_type": "code",
      "source": [
        "for i in range(1, 4):\n",
        "    print(i)\n"
      ],
      "metadata": {
        "colab": {
          "base_uri": "https://localhost:8080/"
        },
        "id": "jWgnUqBL2Wz7",
        "outputId": "931d2824-1408-44a7-b505-ec3c2622fc47"
      },
      "execution_count": null,
      "outputs": [
        {
          "output_type": "stream",
          "name": "stdout",
          "text": [
            "1\n",
            "2\n",
            "3\n"
          ]
        }
      ]
    },
    {
      "cell_type": "markdown",
      "source": [
        " **Dry Run Table:**\n",
        "\n",
        "| Iteration | i (from range) | print() Output     |\n",
        "|-----------|----------------|--------------------|\n",
        "| 1         | 1              | Value of i: 1      |\n",
        "| 2         | 2              | Value of i: 2      |\n",
        "| 3         | 3              | Value of i: 3      |\n"
      ],
      "metadata": {
        "id": "umv1flURzTyH"
      }
    },
    {
      "cell_type": "markdown",
      "source": [
        "### 2. Simple for loop with step 2"
      ],
      "metadata": {
        "id": "jixGalzs0PE6"
      }
    },
    {
      "cell_type": "code",
      "source": [
        "for i in range(1, 11, 2):\n",
        "    print(i)"
      ],
      "metadata": {
        "id": "KnNvHf052Wuo",
        "colab": {
          "base_uri": "https://localhost:8080/"
        },
        "outputId": "c9c14be9-3463-4834-dd82-df79dd88ce7b"
      },
      "execution_count": null,
      "outputs": [
        {
          "output_type": "stream",
          "name": "stdout",
          "text": [
            "1\n",
            "3\n",
            "5\n",
            "7\n",
            "9\n"
          ]
        }
      ]
    },
    {
      "cell_type": "markdown",
      "source": [
        "#### **Explanation of range(1, 11, 2):**\n",
        "\n",
        "- start = 1\n",
        "\n",
        "- stop = 11 (not inclusive)\n",
        "\n",
        "- step = 2 → It increases i by 2 on each iteration\n",
        "\n",
        " **Dry Run Table:**\n",
        "\n",
        "| Iteration | i Value | print(i) Output                     |\n",
        "|-----------|---------|-------------------------------------|\n",
        "| 1         | 1       | 1                                   |\n",
        "| 2         | 3       | 3                                   |\n",
        "| 3         | 5       | 5                                   |\n",
        "| 4         | 7       | 7                                   |\n",
        "| 5         | 9       | 9                                   |\n",
        "| 6         | 11      | loop stops (since 11 is not < 11) |\n"
      ],
      "metadata": {
        "id": "0IBjNyz3z0X6"
      }
    },
    {
      "cell_type": "markdown",
      "source": [
        "## Understanding Nested Loops in Python: Printing **i** Values"
      ],
      "metadata": {
        "id": "k2bb24d_1Z1w"
      }
    },
    {
      "cell_type": "code",
      "source": [
        "for i in range(1, 6):\n",
        "    for j in range(1, 6):\n",
        "        print(i)"
      ],
      "metadata": {
        "colab": {
          "base_uri": "https://localhost:8080/"
        },
        "id": "oZeJ1y-y03Es",
        "outputId": "74101d47-d614-40da-d4ce-8ffc14bb4c09"
      },
      "execution_count": null,
      "outputs": [
        {
          "output_type": "stream",
          "name": "stdout",
          "text": [
            "1\n",
            "1\n",
            "1\n",
            "1\n",
            "1\n",
            "2\n",
            "2\n",
            "2\n",
            "2\n",
            "2\n",
            "3\n",
            "3\n",
            "3\n",
            "3\n",
            "3\n",
            "4\n",
            "4\n",
            "4\n",
            "4\n",
            "4\n",
            "5\n",
            "5\n",
            "5\n",
            "5\n",
            "5\n"
          ]
        }
      ]
    },
    {
      "cell_type": "markdown",
      "source": [
        "### What this code does:\n",
        "\n",
        "- Outer loop i runs from 1 to 5 (inclusive)\n",
        "\n",
        "- Inner loop j runs from 1 to 5 (inclusive)\n",
        "\n",
        "- Inside the inner loop, it prints the current value of i\n",
        "\n",
        "---\n",
        "\n",
        "**Dry Run / Output Explanation:**\n",
        "\n",
        "| Outer loop (i) | Inner loop (j) values | Printed values (i)  |\n",
        "|----------------|-----------------------|--------------------|\n",
        "| 1              | 1, 2, 3, 4, 5         | 1 1 1 1 1          |\n",
        "| 2              | 1, 2, 3, 4, 5         | 2 2 2 2 2          |\n",
        "| 3              | 1, 2, 3, 4, 5         | 3 3 3 3 3          |\n",
        "| 4              | 1, 2, 3, 4, 5         | 4 4 4 4 4          |\n",
        "| 5              | 1, 2, 3, 4, 5         | 5 5 5 5 5          |\n"
      ],
      "metadata": {
        "id": "mKADkazW09N2"
      }
    },
    {
      "cell_type": "markdown",
      "source": [
        "## Understanding Nested Loops in Python: Printing **j** Values\n"
      ],
      "metadata": {
        "id": "VymEPJ-81pQz"
      }
    },
    {
      "cell_type": "code",
      "source": [
        "for i in range(1, 6):\n",
        "    for j in range(1, 6):\n",
        "        print(j)"
      ],
      "metadata": {
        "colab": {
          "base_uri": "https://localhost:8080/"
        },
        "id": "eQgR4Izh1qtv",
        "outputId": "db770d29-d375-4184-b438-ca1572952c9c"
      },
      "execution_count": null,
      "outputs": [
        {
          "output_type": "stream",
          "name": "stdout",
          "text": [
            "1\n",
            "2\n",
            "3\n",
            "4\n",
            "5\n",
            "1\n",
            "2\n",
            "3\n",
            "4\n",
            "5\n",
            "1\n",
            "2\n",
            "3\n",
            "4\n",
            "5\n",
            "1\n",
            "2\n",
            "3\n",
            "4\n",
            "5\n",
            "1\n",
            "2\n",
            "3\n",
            "4\n",
            "5\n"
          ]
        }
      ]
    },
    {
      "cell_type": "markdown",
      "source": [
        "\n",
        "## What’s happening here?\n",
        "- Outer loop (i) runs 5 times: from 1 to 5.\n",
        "\n",
        "- Inner loop (j) runs fully for each iteration of i: from 1 to 5.\n",
        "\n",
        "- The code prints the current value of j in every iteration of the inner loop.\n",
        "\n",
        "\n",
        "**Dry Run Table**\n",
        "\n",
        "| Outer Loop i | Inner Loop j | Printed Value |\n",
        "|--------------|--------------|---------------|\n",
        "| 1            | 1            | 1             |\n",
        "| 1            | 2            | 2             |\n",
        "| 1            | 3            | 3             |\n",
        "| 1            | 4            | 4             |\n",
        "| 1            | 5            | 5             |\n",
        "| 2            | 1            | 1             |\n",
        "| 2            | 2            | 2             |\n",
        "| 2            | 3            | 3             |\n",
        "| 2            | 4            | 4             |\n",
        "| 2            | 5            | 5             |\n",
        "| 3            | 1            | 1             |\n",
        "| 3            | 2            | 2             |\n",
        "| 3            | 3            | 3             |\n",
        "| 3            | 4            | 4             |\n",
        "| 3            | 5            | 5             |\n",
        "| 4            | 1            | 1             |\n",
        "| 4            | 2            | 2             |\n",
        "| 4            | 3            | 3             |\n",
        "| 4            | 4            | 4             |\n",
        "| 4            | 5            | 5             |\n",
        "| 5            | 1            | 1             |\n",
        "| 5            | 2            | 2             |\n",
        "| 5            | 3            | 3             |\n",
        "| 5            | 4            | 4             |\n",
        "| 5            | 5            | 5             |\n",
        "\n",
        "\n",
        "### Explanation:\n",
        "- For each value of i from 1 to 5, the inner loop runs completely.\n",
        "\n",
        "- Inner loop runs with j from 1 to 5 and prints each j.\n",
        "\n",
        "- Total prints = 5 (outer) × 5 (inner) = 25 lines.\n",
        "\n",
        "**Key Point:**\n",
        "\n",
        "- Nested loops allow repeating a process multiple times inside another repeated process.\n",
        "\n",
        "- Printing j shows how the inner loop runs completely for every single outer loop iteration."
      ],
      "metadata": {
        "id": "62SkD87s14oK"
      }
    },
    {
      "cell_type": "markdown",
      "source": [
        "## Nested Loop Example: Printing (i, j) pairs\n"
      ],
      "metadata": {
        "id": "j39UgR-W2z31"
      }
    },
    {
      "cell_type": "code",
      "source": [
        "for i in range(1, 3):\n",
        "    for j in range(i):\n",
        "        print(i, j)"
      ],
      "metadata": {
        "colab": {
          "base_uri": "https://localhost:8080/"
        },
        "id": "cJIejQXA2zjY",
        "outputId": "78202635-92aa-4c8a-fda0-4512f458d531"
      },
      "execution_count": null,
      "outputs": [
        {
          "output_type": "stream",
          "name": "stdout",
          "text": [
            "1 0\n",
            "2 0\n",
            "2 1\n"
          ]
        }
      ]
    },
    {
      "cell_type": "markdown",
      "source": [
        "## What’s happening here?\n",
        "\n",
        "- Outer loop i runs from 1 to 2 (because range(1,3) includes 1 and 2).\n",
        "\n",
        "- Inner loop j runs from 0 up to i-1.\n",
        "\n",
        "  - When i=1, inner loop runs once with j=0.\n",
        "\n",
        "  - When i=2, inner loop runs twice with j=0 and j=1.\n",
        "\n",
        "- Prints the current values of i and j on each inner loop iteration.\n",
        "\n",
        "**Dry Run Table:**\n",
        "\n",
        "| i | j values in range(i) | Printed Output |\n",
        "|---|-----------------------|----------------|\n",
        "| 1 | 0                     | 1 0            |\n",
        "| 2 | 0, 1                 | 2 0            |\n",
        "|   |                       | 2 1            |\n"
      ],
      "metadata": {
        "id": "88P5tVJt28fO"
      }
    },
    {
      "cell_type": "code",
      "source": [
        "for i in range(1, 3):\n",
        "    for j in range(1, 3):\n",
        "        for k in range(1, 3):\n",
        "            print(i, j, k)\n"
      ],
      "metadata": {
        "colab": {
          "base_uri": "https://localhost:8080/"
        },
        "id": "YCPKIiQf2zf-",
        "outputId": "e8442bb4-3d7e-4049-fd4f-31d136abb995"
      },
      "execution_count": null,
      "outputs": [
        {
          "output_type": "stream",
          "name": "stdout",
          "text": [
            "1 1 1\n",
            "1 1 2\n",
            "1 2 1\n",
            "1 2 2\n",
            "2 1 1\n",
            "2 1 2\n",
            "2 2 1\n",
            "2 2 2\n"
          ]
        }
      ]
    },
    {
      "cell_type": "markdown",
      "source": [
        "**Dry Run Table**\n",
        "\n",
        "| Iteration | i | j | k | Printed Output |\n",
        "|-----------|---|---|---|----------------|\n",
        "| 1         | 1 | 1 | 1 | 1 1 1          |\n",
        "| 2         | 1 | 1 | 2 | 1 1 2          |\n",
        "| 3         | 1 | 2 | 1 | 1 2 1          |\n",
        "| 4         | 1 | 2 | 2 | 1 2 2          |\n",
        "| 5         | 2 | 1 | 1 | 2 1 1          |\n",
        "| 6         | 2 | 1 | 2 | 2 1 2          |\n",
        "| 7         | 2 | 2 | 1 | 2 2 1          |\n",
        "| 8         | 2 | 2 | 2 | 2 2 2          |\n",
        "\n",
        "\n",
        "\n",
        "### **Explanation:**\n",
        "- The outer loop controls i (1 to 2)\n",
        "\n",
        "- The middle loop controls j (1 to 2)\n",
        "\n",
        "- The inner loop controls k (1 to 2)\n",
        "\n",
        "For every combination of i, j, and k, we print them"
      ],
      "metadata": {
        "id": "bP7cPuHv35YS"
      }
    },
    {
      "cell_type": "markdown",
      "source": [
        "## Print Multiplication Table using Nested Loops"
      ],
      "metadata": {
        "id": "o9gJ4VQ_4QOc"
      }
    },
    {
      "cell_type": "code",
      "source": [
        "for i in range(1, 4):     # Rows\n",
        "    for j in range(1, 6): # Columns\n",
        "        print(i * j, end=' ')\n",
        "    print()  # Newline\n"
      ],
      "metadata": {
        "colab": {
          "base_uri": "https://localhost:8080/"
        },
        "id": "UlscwoGj2zb-",
        "outputId": "07074e8a-8433-4a8d-92a8-5488c2407673"
      },
      "execution_count": null,
      "outputs": [
        {
          "output_type": "stream",
          "name": "stdout",
          "text": [
            "1 2 3 4 5 \n",
            "2 4 6 8 10 \n",
            "3 6 9 12 15 \n"
          ]
        }
      ]
    },
    {
      "cell_type": "markdown",
      "source": [
        "**Dry Run Table**\n",
        "\n",
        "| i | j Values         | Printed Output        |\n",
        "|---|------------------|------------------------|\n",
        "| 1 | 1 2 3 4 5        | 1 2 3 4 5              |\n",
        "| 2 | 1 2 3 4 5        | 2 4 6 8 10             |\n",
        "| 3 | 1 2 3 4 5        | 3 6 9 12 15            |\n",
        "\n",
        "\n",
        "## This structure prints:\n",
        "\n",
        "Multiplication table row for i = 1 with j from 1 to 5\n",
        "\n",
        "- Then i = 2 with j from 1 to 5\n",
        "\n",
        "- And i = 3 with j from 1 to 5"
      ],
      "metadata": {
        "id": "wJVHzGJy4bpx"
      }
    },
    {
      "cell_type": "code",
      "source": [
        "lst = [10,20,40,60,80,90]\n",
        "for i in range(len(lst)):\n",
        "  print(lst[i])\n"
      ],
      "metadata": {
        "colab": {
          "base_uri": "https://localhost:8080/"
        },
        "id": "jOll05BRA9Cy",
        "outputId": "a2f9e106-8354-4293-df69-d986594d98c5"
      },
      "execution_count": null,
      "outputs": [
        {
          "output_type": "stream",
          "name": "stdout",
          "text": [
            "10\n",
            "20\n",
            "40\n",
            "60\n",
            "80\n",
            "90\n"
          ]
        }
      ]
    },
    {
      "cell_type": "code",
      "source": [],
      "metadata": {
        "id": "aGTPgn7x03Au"
      },
      "execution_count": null,
      "outputs": []
    },
    {
      "cell_type": "markdown",
      "source": [
        "###   Write a Python program to print the following Star Pattern (Right-angled Triangle):\n",
        "\n",
        "    *\n",
        "    **\n",
        "    ***\n",
        "    ****\n",
        "    *****\n"
      ],
      "metadata": {
        "id": "y1gDVNozSjuB"
      }
    },
    {
      "cell_type": "code",
      "source": [
        "for i in range(1,6):\n",
        "  print(i *\"*\")"
      ],
      "metadata": {
        "id": "jbTeqtn3SpLx",
        "colab": {
          "base_uri": "https://localhost:8080/"
        },
        "outputId": "9c86eba7-2e40-4d6a-d3fb-5c8604592ae8"
      },
      "execution_count": null,
      "outputs": [
        {
          "output_type": "stream",
          "name": "stdout",
          "text": [
            "*\n",
            "**\n",
            "***\n",
            "****\n",
            "*****\n"
          ]
        }
      ]
    },
    {
      "cell_type": "code",
      "source": [
        "for i in range(1, 5):\n",
        "    for j in range(1, i+1):\n",
        "        print(\"*\", end=' ')\n",
        "    print()\n"
      ],
      "metadata": {
        "colab": {
          "base_uri": "https://localhost:8080/"
        },
        "id": "loylFELFCh4y",
        "outputId": "a201267d-abcc-4c31-ff05-f0af221f1331"
      },
      "execution_count": null,
      "outputs": [
        {
          "output_type": "stream",
          "name": "stdout",
          "text": [
            "* \n",
            "* * \n",
            "* * * \n",
            "* * * * \n"
          ]
        }
      ]
    },
    {
      "cell_type": "code",
      "source": [
        "for i in range(1,6):\n",
        "  print(i*\" *\")"
      ],
      "metadata": {
        "colab": {
          "base_uri": "https://localhost:8080/"
        },
        "id": "fx8mjtmC49Eq",
        "outputId": "5c9ada09-405f-4504-cff2-9d78f5ec7cc3"
      },
      "execution_count": null,
      "outputs": [
        {
          "output_type": "stream",
          "name": "stdout",
          "text": [
            " *\n",
            " * *\n",
            " * * *\n",
            " * * * *\n",
            " * * * * *\n"
          ]
        }
      ]
    },
    {
      "cell_type": "markdown",
      "source": [
        "## Number Triangle"
      ],
      "metadata": {
        "id": "GLvHGjRw5Cyn"
      }
    },
    {
      "cell_type": "code",
      "source": [
        "for i in range(1, 5):\n",
        "    for j in range(1, i+1):\n",
        "        print(j, end=' ')\n",
        "    print()\n"
      ],
      "metadata": {
        "colab": {
          "base_uri": "https://localhost:8080/"
        },
        "id": "VxxtNosq5FXp",
        "outputId": "9ca91e43-1e0c-4bb9-b64e-3282b1b63b82"
      },
      "execution_count": null,
      "outputs": [
        {
          "output_type": "stream",
          "name": "stdout",
          "text": [
            "1 \n",
            "1 2 \n",
            "1 2 3 \n",
            "1 2 3 4 \n"
          ]
        }
      ]
    },
    {
      "cell_type": "code",
      "source": [],
      "metadata": {
        "id": "J28k6yr-5FTf"
      },
      "execution_count": null,
      "outputs": []
    },
    {
      "cell_type": "markdown",
      "source": [
        "### Write a Python program to print the following inverted star pattern:\n",
        "\n",
        "\n",
        "\n",
        "\n",
        "\n",
        "      *****\n",
        "      ****\n",
        "      ***\n",
        "      **\n",
        "      *\n"
      ],
      "metadata": {
        "id": "Cu7WF_dVSnnh"
      }
    },
    {
      "cell_type": "code",
      "source": [
        "for i in range(5,0,-1):\n",
        "  print(i*\"*\")"
      ],
      "metadata": {
        "id": "aSCZ8egzuI5n",
        "colab": {
          "base_uri": "https://localhost:8080/"
        },
        "outputId": "a59f94b3-703c-4816-a766-596c61dcfbf8"
      },
      "execution_count": 1,
      "outputs": [
        {
          "output_type": "stream",
          "name": "stdout",
          "text": [
            "*****\n",
            "****\n",
            "***\n",
            "**\n",
            "*\n"
          ]
        }
      ]
    },
    {
      "cell_type": "code",
      "source": [
        "def inverse_pattern(n):\n",
        "    for i in range(n, 0, -1):\n",
        "        print(i * \"* \")\n",
        "\n",
        "inverse_pattern(8)"
      ],
      "metadata": {
        "colab": {
          "base_uri": "https://localhost:8080/"
        },
        "id": "arZY66qfEj2P",
        "outputId": "fc4ec83f-ed34-4e1d-affd-87aa7a08f644"
      },
      "execution_count": 5,
      "outputs": [
        {
          "output_type": "stream",
          "name": "stdout",
          "text": [
            "* * * * * * * * \n",
            "* * * * * * * \n",
            "* * * * * * \n",
            "* * * * * \n",
            "* * * * \n",
            "* * * \n",
            "* * \n",
            "* \n"
          ]
        }
      ]
    },
    {
      "cell_type": "markdown",
      "source": [
        "\n",
        "### Write a python program for Right-Aligned Star Triangle Pattern\n",
        "\n",
        "![image.png](data:image/png;base64,iVBORw0KGgoAAAANSUhEUgAAAF4AAACmCAYAAABTEzgaAAAAAXNSR0IArs4c6QAAAARnQU1BAACxjwv8YQUAAAAJcEhZcwAADsMAAA7DAcdvqGQAAAkWSURBVHhe7dxvaNN3HsDxd9I/6PSXCmZpd03HldlrMNPOwVZvbbXDcw5arVZYrVYqtrYPCiutD3bOycqEgeLWrcdkMHvbROz6RE5NlfjnGOh5nIozOcqdBZGjsxAU3UGTNq7t9x6cza2RcRnUfNL284I8aL5fQvNO+LYPPnxt0WjUoJLOHv+ESg4NL0TDC9HwQjS8EA0vRMML0fBCNLwQDS9EwwvR8EI0vBANL0TDC9HwQjS8EA0vRMML0fBCNLwQDS9EwwvR8ELmXPiOnh/544Wx+KeTbk6E/3NwnI6eHwF4/lkbv3bZuPdvQ8MfHvH3f03Eb08K21wY4QuPGn5/dIzBe4bf/AqemWfjr/+c4LceOx21GfHbk2JOhJ80+QEsthALPmlOhP+5b3xNWRo7f5cevz0p5sQZ/7eBCRZb8Ke9mTwzz8Yqr51j7Zn85R8TesYnS0fPjzz/rE3smz5pzoVPFXPiqElFGl6Ihhei4YVoeCEaXoiGF6LhhWh4IRpeiIYXouGFaHghGl6Ihhei4YVoeCEaXoiGF6LhhWh4IRpeyKwJ7/f7qaqqIhwOxy9N0dLSQldXV/zTSTejw4dCIaqqqgiFQuTk5ODxeFiwYMETcf1+Py0tLQAUFhZSWFhIKBSivLycQCDwk1dMnhkdPjs7mzVr1uD1ejl06BBDQ0MUFRVx+fJlampqYvtKS0v5/vvvycvL49q1a5w6dQqv14vX66WoqGjKaybLrJkk6+rqoru7m3PnzpGdnR2/DEA4HGbr1q243W4+++yz+OWkmtHfeB4HdzqdXLt2jeXLl/PGG288cdaHw2GqqqrweDw4HA4AnE6n6Fk/o8OHQiEuXrxIf38/dXV1OBwOAoEAbreb7u7u2L7Lly/jdrsZHBzE4XCwYcMG+vv7OXHihNgZP2uOGr/fz+HDhzl+/DgLFiyIX45paWmhsLCQt99+O34pqWZN+JlmRh81M5mGF6LhhWh4IRpeiIYXouGFaHghGl6Ihhei4YVoeCEaXoiGF6LhhWh4IRpeiIYXouGFaHghGl6IhheS8uGHhoZYtmwZzc3NGPPzkyidnZ3k5eXx3XffxS/FDA8PU1lZSWVlJcPDw/HLSZWy4c+ePcunn37KxMQEdrud9PR07t27x+7du7l79y48Hs3bvXs3AwMDpKWlAWCz2ejt7eXIkSOx1woGg+zZs4dIJEJaWhppaWlEIhH27NlDMBiM7UumlBxoCofD1NbWcuXKFVavXk0oFOKFF17g5s2b3L17l3379tHa2kpfXx/19fXMnz+fjRs3cv78eUpKSjh58iR5eXn09fWRnZ1NW1sbx48f56WXXmLevHkAjI6OcvPmTbZu3UpnZ2fsg0uWlAwPMDIyQnd3NwcOHGBkZASAgoICDh48SGlpKTabDYBbt27R2trK9evXAbDb7ezcuZO9e/diWRYA4+PjnDx5knfffZf79+/D46HVDz/8kKqqqqRHJ5WPmtkuJb/xc+GoSdu3b19H/JPSMjMzWbRoES+++CLt7e18+eWXLFmyhO7uboaHh2loaMDhcJCbm8vDhw/p6uri4cOHfPvtt3zyyScUFxdTVFTE6tWrsdvt5ObmkpmZyaFDh/D5fNjtdr7++msePXpEfX09zz33XPyv8NSl5Df+p4aGhli3bh2vvfYan3/+eexsj9fZ2cnHH3/MqVOnWLFiRfwyPP53csuWLQB88803LFy4MH5L0qR8+NlK/7gK0fBCNLwQDS9EwwvR8EI0vBANL0TDC9HwQjS8EA0vRMML0fBCNLwQDS9EwwvR8EI0vBANL0TDCxELn+jkbqLTwoFAgPLyckKhUPzSFPHX30pJevhEJ3cTnRbevn07gUCAnJwcvF4vCxcupKurK3aXMCl6t3BS52rGx8cTGqcbHR1NaISPx1G3bdtGSUkJDoeDwcFBbt++jc/ni90bPHm17Y0bNygvL8fhcNDb20tNTY3YVbdJDc8vmNxNdFp4kt/vp7GxcUrweHq38DTy+/04nU4OHz5MeXk5ra2tFBUVTTnr5/zdwpNHTVNTE263m5UrV7Jy5UrcbjdNTU20tbUxPj5OOBympqaGjo4OXn31VTweDxUVFUQiETZt2hQLFg6HOXbsGBcvXuSDDz4AoK+vj4aGhtjP6N3C/xUMBunp6aGtrY1du3YB8MUXX9DZ2UltbS3Lly+Hx39cBwYG2Lx5MxUVFZSWlvL+++9z4MAB2tvbyc3NnfK6gUCA1tZWent7f/Yac/Ru4cQndxOdFp5pxMLPdUk949X/aHghGl6Ihhei4YVoeCEaXoiGF6LhhWh4IRpeiIYXouGFaHghGl6Ihhei4YVoeCEaXoiGF6LhhTyV8D6fD6fTic/ni1+Kme5p4UTuFmY2TguPjY2xf/9+Ll26REZGBgAZGRlcunSJ/fv3MzY2Bk9hWjiRu4VTcVqYaDRqpuNx9epV43K5TFZWlqmvrzcFBQWmvr7eZGVlGZfLZa5evWoikYhpbm42lmWZsrIys3btWrN27VpTVlZmLMsyzc3NJhKJmAcPHph169YZy7JMZWWleeWVV8yWLVuMx+MxlmWZgwcPmmg0ak6cOGEsyzIul8s0NTWZ/Px8U1dXZyzLMkuXLjV37twx0WjUPHjwwLz55pvG5XKZt956yzQ2NhrLskxjY+MT7yNZj2kLH41GzZ07d2JvfPJRV1cXCxCNRk0kEjE9PT0mPz8/tic/P9/09PSYSCQS2/fDDz+Yjz76yLhcrti+l19+2Vy4cMGMjo7G9gWDQfP666/H9mRlZZm2tjZz//79J36/yQ9AMvjkY9qOmlQ2q6eFA4EAxcXFnD59murqanJycqiurub06dMUFxcTCASmfVq4r6+PkpIS+vv7qa2txel0sn79eo4cOcKqVasYGhqCFJ0Wnra7hZ1OJyMjI7zzzjsUFBRw9OhR3nvvPerq6li8eDHV1dWkp6cndM/vdN4tDLBkyRIqKioAOHPmDABr1qxhx44d5OTkTHkfyfJUhlZ9Ph87duzgq6++orKyMn4ZnsK0cCJ3C6eSpxJe/X/TdsarX0bDC9HwQjS8EA0vRMML0fBCNLwQDS9EwwvR8EI0vJD/AIujPOM56b6hAAAAAElFTkSuQmCC)"
      ],
      "metadata": {
        "id": "5hmkFfMoNpcZ"
      }
    },
    {
      "cell_type": "code",
      "source": [
        "for i in range(1,6):\n",
        "  print((5-i)*\" \" + i*\"*\")"
      ],
      "metadata": {
        "colab": {
          "base_uri": "https://localhost:8080/"
        },
        "id": "lbpT-Pq18nVk",
        "outputId": "c26e7a3f-6c8a-4c81-e196-6e0431b3b373"
      },
      "execution_count": 6,
      "outputs": [
        {
          "output_type": "stream",
          "name": "stdout",
          "text": [
            "    *\n",
            "   **\n",
            "  ***\n",
            " ****\n",
            "*****\n"
          ]
        }
      ]
    },
    {
      "cell_type": "code",
      "source": [
        "def right_triangle(n):\n",
        "  for i in range(1,n+1):\n",
        "    line = \" \"*(n-i) +\"*\"*i\n",
        "    print(line)\n",
        "\n",
        "right_triangle(5)"
      ],
      "metadata": {
        "colab": {
          "base_uri": "https://localhost:8080/"
        },
        "id": "TmA5zEJfZMxI",
        "outputId": "0fb5af3a-2e22-4bae-e898-a7144eb1bde9"
      },
      "execution_count": 15,
      "outputs": [
        {
          "output_type": "stream",
          "name": "stdout",
          "text": [
            "    *\n",
            "   **\n",
            "  ***\n",
            " ****\n",
            "*****\n"
          ]
        }
      ]
    },
    {
      "cell_type": "markdown",
      "source": [
        "### Write a Python program to print the following number pattern:\n",
        "\n",
        "\n",
        "    1\n",
        "    22\n",
        "    333\n",
        "    4444\n",
        "    55555\n"
      ],
      "metadata": {
        "id": "CyMX3-vWStPv"
      }
    },
    {
      "cell_type": "code",
      "source": [
        "for i in range(1,6):\n",
        "  print(str(i)*i)"
      ],
      "metadata": {
        "id": "f96LBd5ES1d2",
        "colab": {
          "base_uri": "https://localhost:8080/"
        },
        "outputId": "f5a11d58-72d7-43cd-a6ac-3f2752f4b3f5"
      },
      "execution_count": null,
      "outputs": [
        {
          "output_type": "stream",
          "name": "stdout",
          "text": [
            "1\n",
            "22\n",
            "333\n",
            "4444\n",
            "55555\n"
          ]
        }
      ]
    },
    {
      "cell_type": "markdown",
      "source": [
        "## Number Triangle Pattern using Nested Loops"
      ],
      "metadata": {
        "id": "RUSZSndSaKld"
      }
    },
    {
      "cell_type": "code",
      "source": [
        "n = 5\n",
        "for i in range(1, n + 1):\n",
        "    for j in range(i):\n",
        "        print(i, end='')\n",
        "    print()\n"
      ],
      "metadata": {
        "colab": {
          "base_uri": "https://localhost:8080/"
        },
        "id": "E2A4x9zrL4rO",
        "outputId": "5c48d04a-9c17-450b-887b-702135e611a3"
      },
      "execution_count": null,
      "outputs": [
        {
          "output_type": "stream",
          "name": "stdout",
          "text": [
            "1\n",
            "22\n",
            "333\n",
            "4444\n",
            "55555\n"
          ]
        }
      ]
    },
    {
      "cell_type": "code",
      "source": [
        "def number_triangle(n):\n",
        "  for i in range(1,n+1):\n",
        "    for j in range(i):\n",
        "      print(i,end = \" \")\n",
        "    print()\n",
        "\n",
        "number_triangle(8)"
      ],
      "metadata": {
        "colab": {
          "base_uri": "https://localhost:8080/"
        },
        "id": "ETAfbltyaQW7",
        "outputId": "202faae5-e746-45e4-a1f7-2e277eeee2f6"
      },
      "execution_count": 20,
      "outputs": [
        {
          "output_type": "stream",
          "name": "stdout",
          "text": [
            "1 \n",
            "2 2 \n",
            "3 3 3 \n",
            "4 4 4 4 \n",
            "5 5 5 5 5 \n",
            "6 6 6 6 6 6 \n",
            "7 7 7 7 7 7 7 \n",
            "8 8 8 8 8 8 8 8 \n"
          ]
        }
      ]
    },
    {
      "cell_type": "markdown",
      "source": [
        "\n",
        "### Write a Python program to print the following pattern:\n",
        "\n",
        "    *****\n",
        "    *****\n",
        "    *****\n",
        "    *****\n",
        "    *****"
      ],
      "metadata": {
        "id": "gIqDerzytvY-"
      }
    },
    {
      "cell_type": "code",
      "source": [
        "for i in range(0,6):\n",
        "  print(5*\"*\")"
      ],
      "metadata": {
        "id": "0RFLTzbbTDrW",
        "colab": {
          "base_uri": "https://localhost:8080/"
        },
        "outputId": "81b77a1f-caf5-45a6-cd87-850015ad6334"
      },
      "execution_count": 24,
      "outputs": [
        {
          "output_type": "stream",
          "name": "stdout",
          "text": [
            "*****\n",
            "*****\n",
            "*****\n",
            "*****\n",
            "*****\n",
            "*****\n"
          ]
        }
      ]
    },
    {
      "cell_type": "code",
      "source": [
        "rows = 5\n",
        "cols = 5\n",
        "\n",
        "for i in range(rows):\n",
        "    for j in range(cols):\n",
        "        print('*', end='')\n",
        "    print()\n"
      ],
      "metadata": {
        "id": "RsXlNKGPa7ND"
      },
      "execution_count": null,
      "outputs": []
    },
    {
      "cell_type": "code",
      "source": [
        "def patterns(rows,cols):\n",
        "  for i in range(rows):\n",
        "    for j in range(cols):\n",
        "      print(\"*\",end = \"\")\n",
        "    print()\n"
      ],
      "metadata": {
        "id": "aKftShxPa8NL"
      },
      "execution_count": 25,
      "outputs": []
    },
    {
      "cell_type": "code",
      "source": [
        "patterns(5,5)"
      ],
      "metadata": {
        "colab": {
          "base_uri": "https://localhost:8080/"
        },
        "id": "y9NTCBO0a8Cb",
        "outputId": "b12da2fb-fbdd-41fd-c424-b80b64c9eb68"
      },
      "execution_count": 28,
      "outputs": [
        {
          "output_type": "stream",
          "name": "stdout",
          "text": [
            "*****\n",
            "*****\n",
            "*****\n",
            "*****\n",
            "*****\n"
          ]
        }
      ]
    },
    {
      "cell_type": "markdown",
      "source": [
        "**Explanation:**\n",
        "\n",
        "- Two nested loops for rows and columns.\n",
        "\n",
        "- Print '*' for every position.\n",
        "\n",
        "- end='' keeps stars on the same line.\n",
        "\n",
        "- print() moves to next line after each row.\n",
        "\n"
      ],
      "metadata": {
        "id": "M-PE9HTBc7Zx"
      }
    },
    {
      "cell_type": "markdown",
      "source": [
        "### Write a Python program to print the following pattern:\n",
        "    0 1 2 3 4\n",
        "    0 1 2 3 4\n",
        "    0 1 2 3 4\n",
        "    0 1 2 3 4\n",
        "    0 1 2 3 4"
      ],
      "metadata": {
        "id": "zrNYV1DlVK31"
      }
    },
    {
      "cell_type": "code",
      "source": [
        "rows = 5\n",
        "cols = 5\n",
        "\n",
        "for i in range(rows):\n",
        "  for j in range(cols):\n",
        "    print(j,end =\" \")\n",
        "  print()"
      ],
      "metadata": {
        "colab": {
          "base_uri": "https://localhost:8080/"
        },
        "id": "oEZZsnw2XaaQ",
        "outputId": "9a15111d-48a3-4d46-bf84-31e08ed4bdcb"
      },
      "execution_count": 38,
      "outputs": [
        {
          "output_type": "stream",
          "name": "stdout",
          "text": [
            "0 1 2 3 4 \n",
            "0 1 2 3 4 \n",
            "0 1 2 3 4 \n",
            "0 1 2 3 4 \n",
            "0 1 2 3 4 \n"
          ]
        }
      ]
    },
    {
      "cell_type": "markdown",
      "source": [
        "**Explanation:**\n",
        "\n",
        "- Outer loop runs 5 times (rows).\n",
        "\n",
        "- Inner loop prints numbers from 0 to 4 (j).\n",
        "\n",
        "- end=' ' keeps numbers separated by space on the same line.\n",
        "\n",
        "- print() moves to next line after each row."
      ],
      "metadata": {
        "id": "BBMtw8Lhdh1Z"
      }
    },
    {
      "cell_type": "markdown",
      "source": [
        "### Write a Python program to print the following pattern:\n",
        "\n",
        "    11111\n",
        "    22222\n",
        "    33333\n",
        "    44444\n",
        "    55555\n"
      ],
      "metadata": {
        "id": "O4JpkK0eWVtS"
      }
    },
    {
      "cell_type": "code",
      "source": [
        "for i in range(1,6):\n",
        "  print(str(i)*5)"
      ],
      "metadata": {
        "id": "b-lJZoJLWVV-",
        "colab": {
          "base_uri": "https://localhost:8080/"
        },
        "outputId": "7d985948-5850-4a6a-ffcc-ff3cf0cf74ac"
      },
      "execution_count": null,
      "outputs": [
        {
          "output_type": "stream",
          "name": "stdout",
          "text": [
            "11111\n",
            "22222\n",
            "33333\n",
            "44444\n",
            "55555\n"
          ]
        }
      ]
    },
    {
      "cell_type": "code",
      "source": [
        "n = 5\n",
        "for i in range(1, n + 1):\n",
        "    print(str(i) * n)\n"
      ],
      "metadata": {
        "colab": {
          "base_uri": "https://localhost:8080/"
        },
        "id": "NF56DxXJeCwV",
        "outputId": "4aaa9fb4-cebd-4af0-de16-5731aed2c348"
      },
      "execution_count": 39,
      "outputs": [
        {
          "output_type": "stream",
          "name": "stdout",
          "text": [
            "11111\n",
            "22222\n",
            "33333\n",
            "44444\n",
            "55555\n"
          ]
        }
      ]
    },
    {
      "cell_type": "markdown",
      "source": [
        "**Explanation:**\n",
        "\n",
        "- Loop from 1 to 5.\n",
        "- For each i, print the number i repeated n times.\n",
        "- str(i) * n creates the string with repeated digits."
      ],
      "metadata": {
        "id": "Ijz0S1HXeF66"
      }
    },
    {
      "cell_type": "markdown",
      "source": [
        "### Write a Python program to print the following pattern:\n",
        "\n",
        "\n",
        "    5 4 3 2 1\n",
        "    5 4 3 2 1\n",
        "    5 4 3 2 1\n",
        "    5 4 3 2 1\n",
        "    5 4 3 2 1\n"
      ],
      "metadata": {
        "id": "eqMHiiYcWedm"
      }
    },
    {
      "cell_type": "code",
      "source": [
        "for i in range(5,1,-1):\n",
        "  print(str(i)*5)"
      ],
      "metadata": {
        "colab": {
          "base_uri": "https://localhost:8080/"
        },
        "id": "DynVJpfYWVJg",
        "outputId": "14ca50db-2b4d-487b-eae8-81fb37021d84"
      },
      "execution_count": null,
      "outputs": [
        {
          "output_type": "stream",
          "name": "stdout",
          "text": [
            "55555\n",
            "44444\n",
            "33333\n",
            "22222\n"
          ]
        }
      ]
    },
    {
      "cell_type": "code",
      "source": [
        "rows = 5\n",
        "cols = 5\n",
        "\n",
        "for i in range(rows):\n",
        "    for j in range(cols, 0, -1):\n",
        "        print(j, end=' ')\n",
        "    print()\n"
      ],
      "metadata": {
        "colab": {
          "base_uri": "https://localhost:8080/"
        },
        "id": "tzzzKgT7VSYL",
        "outputId": "7e917631-e898-4ed4-a5ef-a25b4402d2d9"
      },
      "execution_count": 40,
      "outputs": [
        {
          "output_type": "stream",
          "name": "stdout",
          "text": [
            "5 4 3 2 1 \n",
            "5 4 3 2 1 \n",
            "5 4 3 2 1 \n",
            "5 4 3 2 1 \n",
            "5 4 3 2 1 \n"
          ]
        }
      ]
    },
    {
      "cell_type": "code",
      "source": [
        "rows = 5\n",
        "cols = 5\n",
        "\n",
        "for i in range(rows):\n",
        "  for j in range(cols,0,-1):\n",
        "    print(j,end = \" \")\n",
        "  print()"
      ],
      "metadata": {
        "colab": {
          "base_uri": "https://localhost:8080/"
        },
        "id": "ELh6OjrSeTBc",
        "outputId": "95d2d57f-439c-49a2-91e5-1023151cd8b9"
      },
      "execution_count": 43,
      "outputs": [
        {
          "output_type": "stream",
          "name": "stdout",
          "text": [
            "5 4 3 2 1 \n",
            "5 4 3 2 1 \n",
            "5 4 3 2 1 \n",
            "5 4 3 2 1 \n",
            "5 4 3 2 1 \n"
          ]
        }
      ]
    },
    {
      "cell_type": "markdown",
      "source": [
        "# What is ASCII?\n",
        "\n",
        "ASCII (American Standard Code for Information Interchange) is a character encoding standard where:\n",
        "\n",
        "- Each character (like 'A', 'z', '0', etc.) is assigned a numeric code between 0 and 127.\n",
        "\n",
        "- Python (and most programming languages) uses this under the hood when dealing with characters.\n",
        "\n",
        "### **Character Ranges**\n",
        "\n",
        "| Characters         | Range     | ASCII Values |\n",
        "|--------------------|-----------|--------------|\n",
        "| Uppercase letters  | 'A' to 'Z'| 65 to 90     |\n",
        "| Lowercase letters  | 'a' to 'z'| 97 to 122    |\n",
        "| Digits             | '0' to '9'| 48 to 57     |\n",
        "\n",
        "\n"
      ],
      "metadata": {
        "id": "5MzgP_-cXZ7K"
      }
    },
    {
      "cell_type": "markdown",
      "source": [
        "## Print Alphabet Pattern (A to E)\n",
        "\n",
        "    A B C D E\n",
        "    A B C D E\n",
        "    A B C D E\n",
        "    A B C D E\n",
        "    A B C D E\n"
      ],
      "metadata": {
        "id": "2Q85-Y_Ber82"
      }
    },
    {
      "cell_type": "code",
      "source": [
        "rows = 5\n",
        "cols = 5\n",
        "\n",
        "for i in range(rows):\n",
        "    for j in range(cols):\n",
        "        # chr(65) is 'A', so chr(65 + j) will print A, B, C, D, E\n",
        "        print(chr(65 + j), end=' ')\n",
        "    print()\n"
      ],
      "metadata": {
        "id": "rpXcNDUverpQ"
      },
      "execution_count": null,
      "outputs": []
    },
    {
      "cell_type": "code",
      "source": [
        "rows = 5\n",
        "cols = 5\n",
        "\n",
        "for i in range(rows):\n",
        "  for j in range(cols):\n",
        "    print(chr(65+j),end = \" \")\n",
        "  print()"
      ],
      "metadata": {
        "colab": {
          "base_uri": "https://localhost:8080/"
        },
        "id": "o6rRhtJ3e0-G",
        "outputId": "3d4838c0-9051-40bd-f771-9136aa872930"
      },
      "execution_count": 49,
      "outputs": [
        {
          "output_type": "stream",
          "name": "stdout",
          "text": [
            "A B C D E \n",
            "A B C D E \n",
            "A B C D E \n",
            "A B C D E \n",
            "A B C D E \n"
          ]
        }
      ]
    },
    {
      "cell_type": "markdown",
      "source": [
        "\n",
        "**Explanation:**\n",
        "\n",
        "- ASCII code for 'A' is 65.\n",
        "\n",
        "- chr(65 + j) converts ASCII code to character.\n",
        "\n",
        "- Inner loop prints characters from 'A' to 'E'.\n",
        "\n",
        "- Outer loop prints 5 rows."
      ],
      "metadata": {
        "id": "oa7PSaxpfKAj"
      }
    },
    {
      "cell_type": "markdown",
      "source": [
        "## Print pattern of letters increasing each row\n",
        "\n",
        "    A\n",
        "    A B\n",
        "    A B C\n",
        "    A B C D\n",
        "    A B C D E\n"
      ],
      "metadata": {
        "id": "OxI3bAOQfb-O"
      }
    },
    {
      "cell_type": "code",
      "source": [
        "for i in range(65,70):\n",
        "  for j in range(65,i+1):\n",
        "    print(chr(i),end = \" \")\n",
        "  print()"
      ],
      "metadata": {
        "colab": {
          "base_uri": "https://localhost:8080/"
        },
        "id": "dXv_2nQrgah-",
        "outputId": "b79fab29-d05e-41d7-d6bf-0de1946517d9"
      },
      "execution_count": 61,
      "outputs": [
        {
          "output_type": "stream",
          "name": "stdout",
          "text": [
            "A \n",
            "B B \n",
            "C C C \n",
            "D D D D \n",
            "E E E E E \n"
          ]
        }
      ]
    },
    {
      "cell_type": "code",
      "source": [
        "rows = 5\n",
        "\n",
        "for i in range(rows):\n",
        "    for j in range(i + 1):\n",
        "        print(chr(65 + j), end=' ')\n",
        "    print()\n"
      ],
      "metadata": {
        "colab": {
          "base_uri": "https://localhost:8080/"
        },
        "id": "HnNU2k71e06m",
        "outputId": "9e17061c-4b44-452f-88df-59a103a0f43d"
      },
      "execution_count": 60,
      "outputs": [
        {
          "output_type": "stream",
          "name": "stdout",
          "text": [
            "A \n",
            "A B \n",
            "A B C \n",
            "A B C D \n",
            "A B C D E \n"
          ]
        }
      ]
    },
    {
      "cell_type": "markdown",
      "source": [
        "### Write a Python program to print the following pattern:\n",
        "\n",
        "    A A A A A\n",
        "    B B B B B\n",
        "    C C C C C\n",
        "    D D D D D\n",
        "\n"
      ],
      "metadata": {
        "id": "b32dyBf2P6FN"
      }
    },
    {
      "cell_type": "code",
      "source": [
        "rows= 4\n",
        "cols = 5\n",
        "for i in range(rows):\n",
        "  for j in range(cols):\n",
        "    # chr(65) = 'A', so chr(65 + i) will print A, B, C, D for each row\n",
        "    print(chr(65+i),end=\" \")\n",
        "  print()"
      ],
      "metadata": {
        "colab": {
          "base_uri": "https://localhost:8080/"
        },
        "id": "DXfXb06jf5ic",
        "outputId": "de89e21e-5132-42fd-d2c9-b5490da48fc0"
      },
      "execution_count": 59,
      "outputs": [
        {
          "output_type": "stream",
          "name": "stdout",
          "text": [
            "A A A A A \n",
            "B B B B B \n",
            "C C C C C \n",
            "D D D D D \n"
          ]
        }
      ]
    },
    {
      "cell_type": "markdown",
      "source": [
        "### Write a Python program to print the following alphabet pattern:\n",
        "\n",
        "    A\n",
        "    A B\n",
        "    A B C\n",
        "    A B C D\n",
        "    A B C D E\n"
      ],
      "metadata": {
        "id": "u8Y5_HoQO4QN"
      }
    },
    {
      "cell_type": "code",
      "source": [
        "for i in range(65,70):\n",
        "  for j in range(65,i+1):\n",
        "    print(chr(i),end = \" \")\n",
        "  print()"
      ],
      "metadata": {
        "colab": {
          "base_uri": "https://localhost:8080/"
        },
        "id": "DuJtFmLRGu1m",
        "outputId": "8da6cb47-c2ec-4caf-dff1-7fbfc4bc5106"
      },
      "execution_count": null,
      "outputs": [
        {
          "output_type": "stream",
          "name": "stdout",
          "text": [
            "A \n",
            "B B \n",
            "C C C \n",
            "D D D D \n",
            "E E E E E \n"
          ]
        }
      ]
    },
    {
      "cell_type": "code",
      "source": [
        "for i in range(65,70):\n",
        "  for j in range(65,i+1):\n",
        "    print(chr(j),end = \" \")\n",
        "  print()"
      ],
      "metadata": {
        "colab": {
          "base_uri": "https://localhost:8080/"
        },
        "id": "b-V-xYxvHxQe",
        "outputId": "325cc344-53fa-441f-c8ed-e44e7c1224ae"
      },
      "execution_count": null,
      "outputs": [
        {
          "output_type": "stream",
          "name": "stdout",
          "text": [
            "A \n",
            "A B \n",
            "A B C \n",
            "A B C D \n",
            "A B C D E \n"
          ]
        }
      ]
    },
    {
      "cell_type": "markdown",
      "source": [
        "### Reverse Alphabet Triangle\n",
        "\n",
        "    E E E E E\n",
        "    D D D D\n",
        "    C C C\n",
        "    B B\n",
        "    A\n"
      ],
      "metadata": {
        "id": "-E_zaVsXgnfD"
      }
    },
    {
      "cell_type": "code",
      "source": [
        "rows = 5\n",
        "\n",
        "for i in range(rows, 0, -1):\n",
        "    for j in range(i):\n",
        "        print(chr(65 + rows - i), end=' ')\n",
        "    print()\n"
      ],
      "metadata": {
        "colab": {
          "base_uri": "https://localhost:8080/"
        },
        "id": "f65kgeJWgnLv",
        "outputId": "b14f83d7-848b-47a0-d23f-fb4ef5076277"
      },
      "execution_count": 62,
      "outputs": [
        {
          "output_type": "stream",
          "name": "stdout",
          "text": [
            "A A A A A \n",
            "B B B B \n",
            "C C C \n",
            "D D \n",
            "E \n"
          ]
        }
      ]
    },
    {
      "cell_type": "markdown",
      "source": [
        "## Alphabet Pyramid\n",
        "\n",
        "       ![image.png](data:image/png;base64,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)"
      ],
      "metadata": {
        "id": "iNb3qUOzgxDp"
      }
    },
    {
      "cell_type": "code",
      "source": [],
      "metadata": {
        "id": "ke5u8H4RgnIN"
      },
      "execution_count": null,
      "outputs": []
    },
    {
      "cell_type": "markdown",
      "source": [
        "### Write a Python program to print the following triangle pattern"
      ],
      "metadata": {
        "id": "H_qbg7HfhIz4"
      }
    },
    {
      "cell_type": "markdown",
      "source": [
        "![image.png](data:image/png;base64,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)"
      ],
      "metadata": {
        "id": "jqromd8OhFsO"
      }
    },
    {
      "cell_type": "code",
      "source": [
        "rows = 5\n",
        "\n",
        "for i in range(rows):\n",
        "    print(' ' * (rows - i - 1), end='')\n",
        "    for j in range(i + 1):\n",
        "        print(chr(65 + i), end=' ')\n",
        "    print()\n"
      ],
      "metadata": {
        "colab": {
          "base_uri": "https://localhost:8080/"
        },
        "id": "N1dauL3-M7Og",
        "outputId": "a541c69e-5d5e-44c2-bbc8-66b5391b6d6c"
      },
      "execution_count": 63,
      "outputs": [
        {
          "output_type": "stream",
          "name": "stdout",
          "text": [
            "    A \n",
            "   B B \n",
            "  C C C \n",
            " D D D D \n",
            "E E E E E \n"
          ]
        }
      ]
    },
    {
      "cell_type": "markdown",
      "source": [
        "## Alphabet Pattern with Incremental Characters Each Row\n",
        "\n",
        "    A B C D E\n",
        "    B C D E F\n",
        "    C D E F G\n",
        "    D E F G H\n",
        "    E F G H I\n"
      ],
      "metadata": {
        "id": "HwyycY6_hOY8"
      }
    },
    {
      "cell_type": "code",
      "source": [
        "rows = 5\n",
        "cols = 5\n",
        "\n",
        "for i in range(rows):\n",
        "    for j in range(cols):\n",
        "        print(chr(65 + i + j), end=' ')\n",
        "    print()\n"
      ],
      "metadata": {
        "colab": {
          "base_uri": "https://localhost:8080/"
        },
        "id": "RvP8e2YjhU4n",
        "outputId": "fe8e3ff4-a113-4c09-cab8-e374df077df0"
      },
      "execution_count": 64,
      "outputs": [
        {
          "output_type": "stream",
          "name": "stdout",
          "text": [
            "A B C D E \n",
            "B C D E F \n",
            "C D E F G \n",
            "D E F G H \n",
            "E F G H I \n"
          ]
        }
      ]
    },
    {
      "cell_type": "code",
      "source": [
        "# pyramid\n",
        "\n",
        "for i in range(5):\n",
        "  for j in range(5-i-1):\n",
        "    print(\" \",end = \" \")\n",
        "  for j in range(2*i+1):\n",
        "    print(\"*\",end = \" \")\n",
        "  print()"
      ],
      "metadata": {
        "colab": {
          "base_uri": "https://localhost:8080/"
        },
        "id": "AhN6apYrkd6k",
        "outputId": "fd355d5b-4581-468f-fb15-5a01e87215e6"
      },
      "execution_count": null,
      "outputs": [
        {
          "output_type": "stream",
          "name": "stdout",
          "text": [
            "        * \n",
            "      * * * \n",
            "    * * * * * \n",
            "  * * * * * * * \n",
            "* * * * * * * * * \n"
          ]
        }
      ]
    },
    {
      "cell_type": "markdown",
      "source": [
        "## Write a Python program to print the following triangle pattern\n",
        "                           \n",
        "                           *\n",
        "                          * * *\n",
        "                        * * * * *\n",
        "                      * * * * * * *\n",
        "                    * * * * * * * * *\n",
        "                  * * * * * * * * * * *\n",
        "                * * * * * * * * * * * * *\n",
        "              * * * * * * * * * * * * * * *\n",
        "            * * * * * * * * * * * * * * * * *\n",
        "          * * * * * * * * * * * * * * * * * * *"
      ],
      "metadata": {
        "id": "QcMrKirTkdz_"
      }
    },
    {
      "cell_type": "code",
      "source": [
        "n = 10\n",
        "for i in range(n):\n",
        "  for j in range(n-i-1):\n",
        "    print(\" \",end = \" \")\n",
        "  for j in range(2*i+1):\n",
        "    print(\"*\",end = \" \")\n",
        "  print()"
      ],
      "metadata": {
        "colab": {
          "base_uri": "https://localhost:8080/"
        },
        "id": "MPpQnXmak7V7",
        "outputId": "9b182321-ec6e-4137-cb81-a86fb7a6073b"
      },
      "execution_count": 65,
      "outputs": [
        {
          "output_type": "stream",
          "name": "stdout",
          "text": [
            "                  * \n",
            "                * * * \n",
            "              * * * * * \n",
            "            * * * * * * * \n",
            "          * * * * * * * * * \n",
            "        * * * * * * * * * * * \n",
            "      * * * * * * * * * * * * * \n",
            "    * * * * * * * * * * * * * * * \n",
            "  * * * * * * * * * * * * * * * * * \n",
            "* * * * * * * * * * * * * * * * * * * \n"
          ]
        }
      ]
    },
    {
      "cell_type": "code",
      "source": [
        "n = 10\n",
        "for i in range(n):\n",
        "  print(\" \"*(n-i-1)+\"*\"*(2*i+1))"
      ],
      "metadata": {
        "colab": {
          "base_uri": "https://localhost:8080/"
        },
        "id": "uARkXp27w9AB",
        "outputId": "a456f8e3-6824-44db-c5d9-a005d08d9883"
      },
      "execution_count": 66,
      "outputs": [
        {
          "output_type": "stream",
          "name": "stdout",
          "text": [
            "         *\n",
            "        ***\n",
            "       *****\n",
            "      *******\n",
            "     *********\n",
            "    ***********\n",
            "   *************\n",
            "  ***************\n",
            " *****************\n",
            "*******************\n"
          ]
        }
      ]
    },
    {
      "cell_type": "code",
      "source": [],
      "metadata": {
        "id": "0FMzjxO0w839"
      },
      "execution_count": null,
      "outputs": []
    },
    {
      "cell_type": "code",
      "source": [
        "n = 10\n",
        "for i in range(n):\n",
        "  print(\" \"*(n-i-1)+\"*\"*(2*i+1))"
      ],
      "metadata": {
        "colab": {
          "base_uri": "https://localhost:8080/"
        },
        "id": "WFN9zc33nOJc",
        "outputId": "ce245a8f-6de9-44ac-8a44-1f5b6adf9652"
      },
      "execution_count": 67,
      "outputs": [
        {
          "output_type": "stream",
          "name": "stdout",
          "text": [
            "         *\n",
            "        ***\n",
            "       *****\n",
            "      *******\n",
            "     *********\n",
            "    ***********\n",
            "   *************\n",
            "  ***************\n",
            " *****************\n",
            "*******************\n"
          ]
        }
      ]
    },
    {
      "cell_type": "code",
      "source": [
        "n = 5\n",
        "for i in range(n):\n",
        "    print(\" \" * (n - i - 1) + \"* \" * (i + 1))\n"
      ],
      "metadata": {
        "colab": {
          "base_uri": "https://localhost:8080/"
        },
        "id": "kFh1dxHHoEQc",
        "outputId": "bedaf861-1405-4424-9178-2c8595d47e05"
      },
      "execution_count": null,
      "outputs": [
        {
          "output_type": "stream",
          "name": "stdout",
          "text": [
            "    * \n",
            "   * * \n",
            "  * * * \n",
            " * * * * \n",
            "* * * * * \n"
          ]
        }
      ]
    },
    {
      "cell_type": "code",
      "source": [
        "n = 5\n",
        "for i in range(n):\n",
        "  print(\" \"*(n-i-1)+\"*\"*(2*i+1))"
      ],
      "metadata": {
        "colab": {
          "base_uri": "https://localhost:8080/"
        },
        "id": "rp6P1F9QobOX",
        "outputId": "a481cdb6-8438-4396-e8f5-46da4c66c696"
      },
      "execution_count": null,
      "outputs": [
        {
          "output_type": "stream",
          "name": "stdout",
          "text": [
            "    *\n",
            "   ***\n",
            "  *****\n",
            " *******\n",
            "*********\n"
          ]
        }
      ]
    },
    {
      "cell_type": "code",
      "source": [
        "n = 5\n",
        "for i in range(n):\n",
        "  print(\" \"*(n-i-1)+\"*\"*(i+1))"
      ],
      "metadata": {
        "colab": {
          "base_uri": "https://localhost:8080/"
        },
        "id": "tmckiJxancmT",
        "outputId": "ecba0e90-3433-4648-8533-5d71a57766d4"
      },
      "execution_count": null,
      "outputs": [
        {
          "output_type": "stream",
          "name": "stdout",
          "text": [
            "    *\n",
            "   **\n",
            "  ***\n",
            " ****\n",
            "*****\n"
          ]
        }
      ]
    },
    {
      "cell_type": "code",
      "source": [
        "n = 5\n",
        "for i in range(n, 0, -1):\n",
        "    print(\" \" * (n - i) + \"* \" * i)\n"
      ],
      "metadata": {
        "colab": {
          "base_uri": "https://localhost:8080/"
        },
        "id": "S-fhNgBrnZKo",
        "outputId": "5d87b79d-31fa-45a7-a5a0-ffc58764bff2"
      },
      "execution_count": 68,
      "outputs": [
        {
          "output_type": "stream",
          "name": "stdout",
          "text": [
            "* * * * * \n",
            " * * * * \n",
            "  * * * \n",
            "   * * \n",
            "    * \n"
          ]
        }
      ]
    },
    {
      "cell_type": "markdown",
      "source": [
        "\n",
        "### Write a Python program to print the following diamond star pattern\n"
      ],
      "metadata": {
        "id": "h218ZrgulWxo"
      }
    },
    {
      "cell_type": "markdown",
      "source": [
        "  ![image.png](data:image/png;base64,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)"
      ],
      "metadata": {
        "id": "JCv9DtSvNc-4"
      }
    },
    {
      "cell_type": "code",
      "source": [
        "rows = 5  # Height of the upper half\n",
        "\n",
        "# Upper half of the diamond (including middle line)\n",
        "for i in range(rows):\n",
        "    print(' ' * (rows - i - 1) + '*' * (2 * i + 1))\n",
        "\n",
        "# Lower half of the diamond\n",
        "for i in range(rows - 2, -1, -1):\n",
        "    print(' ' * (rows - i - 1) + '*' * (2 * i + 1))\n"
      ],
      "metadata": {
        "colab": {
          "base_uri": "https://localhost:8080/"
        },
        "id": "EXpZR5dRlMOl",
        "outputId": "f45ab075-f64a-4e7e-d52b-6226846d36a9"
      },
      "execution_count": 72,
      "outputs": [
        {
          "output_type": "stream",
          "name": "stdout",
          "text": [
            "    *\n",
            "   ***\n",
            "  *****\n",
            " *******\n",
            "*********\n",
            " *******\n",
            "  *****\n",
            "   ***\n",
            "    *\n"
          ]
        }
      ]
    },
    {
      "cell_type": "code",
      "source": [],
      "metadata": {
        "id": "Dx3zwbiZlMAw"
      },
      "execution_count": null,
      "outputs": []
    },
    {
      "cell_type": "markdown",
      "source": [
        "\n",
        "### Write a Python program to print the following pattern\n",
        "\n",
        "![image.png](data:image/png;base64,iVBORw0KGgoAAAANSUhEUgAAAGQAAADaCAYAAABQIudRAAAAAXNSR0IArs4c6QAAAARnQU1BAACxjwv8YQUAAAAJcEhZcwAADsMAAA7DAcdvqGQAAAglSURBVHhe7d2xSyNbH8bxJ9HVDSwBEcFKsAmIpHAt7KaSNGKhBEsFCYydhYUIqdJZzB8QsEopYkhxCsFKQbBxCgsbQZ3qdIIM7F2vq29xb957M+beq9lJ5jH7fMrMsMJ+mTPF+XEm9e3btxcIjXT0B0mWgpBREDIKQkZByCgIGQUhoyBkFISMgpBREDIKQkZByCgIGQUhoyBk6IOEYYiVlRX4vh+91Jdog3ieh1Kp1PKbMQaFQgFhGLb83k9SrFu4YRhieXkZt7e3cBwHQRDg9PQUBwcHWFhYiN7eN2iDNFlr4TgOXNfF1tZW9HLfoV2ywjBEoVCA4zhwHAdHR0cYHR3t+3cJbZBqtYqJiQlcXFzg4eEBu7u7qNVq2N7e1jskSWEYYn19HTs7O5iZmYle7jv0QX41tEvWr0pByCgIGQUhoyBkFISMgpBREDIKQkZByCgIGQUhoyBkFISMgpBJNIi1FoVCAdba6KV3M8a8mlL5iBIJUiqV4Hley2/txn7+i7UWc3NzLfvszb14Y0zLvR9FIjuGzUmSkZER5PN5XF5e4vr6GsfHx+/epjXGoFgsYnFxEdlsFvV6HbOzszg8PMSXL1+it9NLJEiT7/uYn59HrVb76Vkrz/NQrVZxcnKC8fHx6OUPI5Ely1qLXC6HjY0NLC0toVKpIJfLdfQuMcYgk8ng/PwcjuNgenr63Usfk0SClMtluK6LRqOBIAjQaDTgui7K5XL01n9lrUWlUsHZ2RnW1tYAAHd3dwiCQO+QTlhrsbq6ilqt9tPLjDEG9Xode3t70UsfSqJB5LVEliz5ZwpCRkHIKAgZBSGjIGQUhIyCkFEQMgpCRkHIKAgZBSGjIGS6FsSYNEqlT9GfExXnlEu3xBrE2hTm5obh+3/9s2EIFApDMCbWP/UucU259ELsG1TGpFEsDmFx8RnZ7Avq9QHMzj7j8PARSQ2BxDnl0m2xB2nyvEFUqwM4OXnE+HhX/sS7xTnl0i2xB2n3hCwt/cDe3u/RW3um3RNyf39POTIU68JubQqVyiecnT1ibe0JAHB39xuCIJXoOySuKZdeiP0JaTImjXp9INEnIyrOKZdu6VoQ6Uxy64i0pSBkFISMgpBREDIKQkZByCgIGQUhoyBkFISMgpBREDIKQkZByHQUxPMG4XmD0Z/7QtLfvHpzEN9PY25uGNam/v9bu7Gfj6rdWFAS37x68//kzMwzVlZ+YHJyGFdXKVxdpTA5OYx8/hkzM8/R2z8c13URBAG+fv2KbDaL7e1tFItFbG5u9vQQm462cEulTwiCVKKzVt2S9Dev3vyE4M93RybzGQAwMfGCsbHPffMuYfnm1ZuD+H4a+/sDuLn5jqmpF0xNveDm5jv29wf64h3C8s2rjpas5lOxtfXH7FU/SfqbVx0Fke75+GtNn1EQMgpCRkHIKAgZBSGjIGQUhIyCkFEQMgpCRkHIKAgZBSHTEiQMgZWVob7YcOo2z/NenZ8ShzT+3HCKntxjTBqFwhB6uFlGz/d9zM3NtZwm1O6zSz8jDQCu+4QgSOHr12Fksy/Y3h5EsTiEzc2nvhti+BkzMzNYWVnB5OQkrq6ucHV1hcnJSeTz+dh2F1t2DK1NwXGG4Lo/+nJ7Nk6lUglBEMT+ras0/namleMMwXGecXSUxujoZ71L2vA8D5lMBgAwMTGBsbGxWN8laQCoVgcxMfGCi4vveHhIYXf3CbXaI7a3B/UO+Rvf97G/v4+bmxtMTU1hamoKNzc32N/fj+0d0rJkhSGwvj6EnZ2nvphG7KbmUxH3MJ2mTsjoJUFGQcgoCBkFIaMgZBSEjIKQURAyCkJGQcgoCBkFIaMgZBSEjIKQ6SiIDp/pnjcH0eEzvfHm/0kdPtMbHW3h6vCZ7nnzEwIdPtMTbw6iw2d6o6MlS4fPdE9HQaR7Pv5a02cUhIyCkFEQMgpCRkHIKAgZBSGjIGQUhIyCkFEQMgpCRkHIdC2IMelX56ckzVqLQqHQclYJm1iDtJtCaZ4SYUysf+pdSqXSq9MW2k2ZMIh9g8qYNIrFISwuPiObfUG9PoDZ2edEByKagwsjIyPI5/O4vLzE9fU1jo+PE9kV/DexB2nyvEFUqwM4OXnE+HhX/sS7+b6P+fl51Go1LCwsRC9TiD1IuydkaekH9vZ+j97aM+2ekPv7e5ycnGB8fDx6e6JiXditTaFS+YSzs0esrf0xAHF39xuCIJXoO6RcLsN1XTQaDQRBgEajAdd1US6Xo7cmLvYnpMmYNOr1gUSfjChrLVZXV1Gr1eiejKauBZHOJLeOSFsKQkZByCgIGQUhoyBkFISMgpBREDIKQkZByCgIGQUhoyBkFIRMokHiHMsxxlBOkbxXIkHiGstp9/2n5okMxpiWez+KRHYM2w0ddDqWY4xBsVjE4uIistks6vU6ZmdnY/8UUa8kEqQpzrEcz/NQrVYpJ0neI5Ely1qLXC6HjY0NLC0toVKpIJfLdfQuMcYgk8ng/PwcjuNgenr63Usfk0SCxDWWY61FpVLB2dkZ1tbWAAB3d3cIgkDvkE7EOZZjjEG9Xsfe3l700oeSaBB5LZElS/6ZgpBREDIKQkZByCgIGQUhoyBkFISMgpBREDIKQkZByCgIGfogSX+CqNdog7SbQkniE0S9RrtBFYYhlpeXcXt7C8dxEAQBTk9PcXBw8NMDEcxogzQl/QmiXqNdslg+QdRrtEFYPkHUa/RLVtKfIOo1+iC/Gtol61elIGQUhIyCkFEQMgpCRkHIKAgZBSGjIGQUhIyCkFEQMv8DFrEbv1W68ZAAAAAASUVORK5CYII=)"
      ],
      "metadata": {
        "id": "2lqAFv6tlghU"
      }
    },
    {
      "cell_type": "code",
      "source": [
        "n = 5\n",
        "for i in range(n):\n",
        "    for j in range(n - i - 1):\n",
        "        print(\" \", end=\"\")\n",
        "    for j in range(2 * i + 1):\n",
        "        if j == 0 or j == 2 * i:\n",
        "            print(\"*\", end=\"\")\n",
        "        else:\n",
        "            print(\" \", end=\"\")\n",
        "    print()\n",
        "\n",
        "for i in range(n - 2, -1, -1):\n",
        "    for j in range(n - i - 1):\n",
        "        print(\" \", end=\"\")\n",
        "    for j in range(2 * i + 1):\n",
        "        if j == 0 or j == 2 * i:\n",
        "            print(\"*\", end=\"\")\n",
        "        else:\n",
        "            print(\" \", end=\"\")\n",
        "    print()\n"
      ],
      "metadata": {
        "colab": {
          "base_uri": "https://localhost:8080/"
        },
        "id": "CxhvOW6IoBtq",
        "outputId": "24389af8-e434-474c-8f6a-8980bc3d1de0"
      },
      "execution_count": null,
      "outputs": [
        {
          "output_type": "stream",
          "name": "stdout",
          "text": [
            "    *\n",
            "   * *\n",
            "  *   *\n",
            " *     *\n",
            "*       *\n",
            " *     *\n",
            "  *   *\n",
            "   * *\n",
            "    *\n"
          ]
        }
      ]
    },
    {
      "cell_type": "markdown",
      "source": [
        "### Write a Python program to print the following pattern\n",
        "\n",
        "![image.png](data:image/png;base64,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)"
      ],
      "metadata": {
        "id": "-XPf-OzFl4Lb"
      }
    },
    {
      "cell_type": "code",
      "source": [
        "n = 5\n",
        "for i in range(n, 0, -1):\n",
        "    print(\" \" * (n - i) + \"* \" * i)\n",
        "for i in range(1, n + 1):\n",
        "    print(\" \" * (n - i) + \"* \" * i)\n"
      ],
      "metadata": {
        "colab": {
          "base_uri": "https://localhost:8080/"
        },
        "id": "gkLwM1scoraE",
        "outputId": "aabed2f7-d67b-4827-c1f4-7cfe07b0855f"
      },
      "execution_count": null,
      "outputs": [
        {
          "output_type": "stream",
          "name": "stdout",
          "text": [
            "* * * * * \n",
            " * * * * \n",
            "  * * * \n",
            "   * * \n",
            "    * \n",
            "    * \n",
            "   * * \n",
            "  * * * \n",
            " * * * * \n",
            "* * * * * \n"
          ]
        }
      ]
    },
    {
      "cell_type": "markdown",
      "source": [
        "### Write a Python program to print the following pattern\n",
        "\n",
        "![image.png](data:image/png;base64,iVBORw0KGgoAAAANSUhEUgAAAGIAAABtCAYAAABa87TbAAAAAXNSR0IArs4c6QAAAARnQU1BAACxjwv8YQUAAAAJcEhZcwAADsMAAA7DAcdvqGQAAAM0SURBVHhe7d0xa+pQAMXx07cqoZsgdXdou6f0E3RycuumX6BZ+xU6CQodinPBwcVFdxenXPoNuthRlI73Lc/H4xYf98YbPIbzG02gpH+TQs+Qi+/vbws5uQtrrUIQ+OV+IKehECQUgoRCkFAIEgpBQiFIKAQJhSChECQUgkRwCGMM+v0+drude8jbbrdDv9+HMcY9FGSxWCDLMvfjICzX4x1iNBphNBqh0WggSRIAQJZlWCwW7qkH7S8aAJrNJlDwl7n/uY1GA/V6vdAvgul6EPLf16+vL3Q6HbRaLVxdXWG5XKLVauHt7Q21Ws09/aAsy7BcLpGmKT4/P5HnOd7f33Fzc+OeepAxBt1uF/f390iSBLPZDA8PD3h5eXFPPYjpegAANtB8Prftdtvmee4e8rZer22apnY4HLqHggyHQ5umqV2v1+4hbyzXE3xHWGtxfX2Nj4+Pwt+g2WyG29tbACj0DdrfEZeXl7i7uzvqjmC4HoT8jZhMJnh8fMR0OkWSJJjP539vaV/GGGw2G6xWK7TbbTw/P2MwGGA8Hrun/td4PMZgMMDr6yvq9TpWqxU2m03Q3wim6wEKPJryPLe9Xs9ut1v3kLftdmt7vd5RjwP757Hy9PTkfhyE5Xq8H01SLu9Hk5RLIUgoBAmFIKEQJBSChEKQUAgSCkFCIUgoBAmFIBEcIsbGWzVFplqXd4gYG2/VnPVmXTVnvVlXzVlu1lVzlpt11Zz9Zl012qwrxPvRJOVSCBIKQUIhSCgECYUgoRAkFIKEQpBQCBIKQSI4hKbSnzSVnpimUiKaSoloKiWgqZSAplIymkorxPvRJOVSCBIKQUIhSCgECYUgoRAkFIKEQpBQCBIKQUIhSASH0Gb9kzbrE9NmTUSbNRFt1gS0WRPQZk1Gm3WFeD+apFwKQUIhSCgECYUgoRAkFIKEQpBQCBIKQUIhSASHiDGVxpgWccQa9i+W6/EOEWMqjTUt7n+u3t57xFQaY1o0entvnKk0xrRo9fbe46bSGNPi/o7Q23sLTqWxpkW9vTfSVBpjWrR6e6+UwfvRJOVSCBIKQUIhSCgECYUgoRAkFIKEQpBQCBK/ATsNCpFTWcV/AAAAAElFTkSuQmCC)"
      ],
      "metadata": {
        "id": "ORpTvk51mC3o"
      }
    },
    {
      "cell_type": "code",
      "source": [
        "n = 5\n",
        "for i in range(n):\n",
        "    for j in range(n):\n",
        "        if i == 0 or i == n-1 or j == 0 or j == n-1:\n",
        "            print(\"*\", end=\" \")\n",
        "        else:\n",
        "            print(\" \", end=\" \")\n",
        "    print()\n"
      ],
      "metadata": {
        "colab": {
          "base_uri": "https://localhost:8080/"
        },
        "id": "c0GqCIFWo_y0",
        "outputId": "746eda01-0dbc-4c73-a419-5ceeb6bd103f"
      },
      "execution_count": null,
      "outputs": [
        {
          "output_type": "stream",
          "name": "stdout",
          "text": [
            "* * * * * \n",
            "*       * \n",
            "*       * \n",
            "*       * \n",
            "* * * * * \n"
          ]
        }
      ]
    },
    {
      "cell_type": "markdown",
      "source": [
        "## Write a Python program to print the following pattern\n",
        "\n",
        "![image.png](data:image/png;base64,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)"
      ],
      "metadata": {
        "id": "KKhNq8GlmKJP"
      }
    },
    {
      "cell_type": "code",
      "source": [
        "n = 7\n",
        "for i in range(n):\n",
        "    for j in range(n):\n",
        "        if j == i or j == n - i - 1:\n",
        "            print(\"*\", end=\" \")\n",
        "        else:\n",
        "            print(\" \", end=\" \")\n",
        "    print()\n"
      ],
      "metadata": {
        "colab": {
          "base_uri": "https://localhost:8080/"
        },
        "id": "IdvTdPmHpDvM",
        "outputId": "40809d50-c50b-4bd9-d1f4-4aaab009c185"
      },
      "execution_count": null,
      "outputs": [
        {
          "output_type": "stream",
          "name": "stdout",
          "text": [
            "*           * \n",
            "  *       *   \n",
            "    *   *     \n",
            "      *       \n",
            "    *   *     \n",
            "  *       *   \n",
            "*           * \n"
          ]
        }
      ]
    },
    {
      "cell_type": "code",
      "source": [
        "n = 7\n",
        "for i in range(n):\n",
        "    for j in range(n):\n",
        "        if j == i or j == n - i - 1:\n",
        "            print(\"*\", end=\" \")\n",
        "        else:\n",
        "            print(\" \", end=\" \")\n",
        "    print()\n"
      ],
      "metadata": {
        "colab": {
          "base_uri": "https://localhost:8080/"
        },
        "id": "eQutclxypLWE",
        "outputId": "45fa15a7-4340-4fd0-a6e8-0bef734687eb"
      },
      "execution_count": null,
      "outputs": [
        {
          "output_type": "stream",
          "name": "stdout",
          "text": [
            "*           * \n",
            "  *       *   \n",
            "    *   *     \n",
            "      *       \n",
            "    *   *     \n",
            "  *       *   \n",
            "*           * \n"
          ]
        }
      ]
    },
    {
      "cell_type": "markdown",
      "source": [
        "### Hollow Right-Angle Triangle\n",
        "\n",
        "![image.png](data:image/png;base64,iVBORw0KGgoAAAANSUhEUgAAAG0AAAB3CAYAAAAJtc6rAAAAAXNSR0IArs4c6QAAAARnQU1BAACxjwv8YQUAAAAJcEhZcwAADsMAAA7DAcdvqGQAAAPISURBVHhe7d2xSiNBHMfx311rWOwCYvoUar/iE1hZ2dklL+C2voIgBhKwkNSChU2aTZ8m1Q6+gU0sQ1LPVTmO4cTLzF93f7nfp3QXZPgys5AZdn947z2Eys/wD9J8ikZI0QgpGiFFI6RohBSNkKIRSo7mnEO/38d6vQ4vyReJjjYajTAajdBut5FlGQCgKApMp9PwVjH2I/ZnrPf3d1xcXKDT6eDw8BCz2QydTgePj4/Y29sLbxdLPlFZlr7b7fqqqsJL8kWSZ5r3HkdHR3h9fdVM+ybRz7Tn52dcXV3h5eUFWZahLMvfy6R8reiZtuGcw/39Pe7u7jTDvklyNPl+0cuj1EfRCCkaIUUjpGiEFI2QohFSNEKKRkjRCCkaIUUjlBzN4ozIer1Gv9+Hcy68JH8RHc3ijMgmOAAcHBwAAKbTKYqiCO6UP0VvzVidESmKArPZDHme4+3tDVVV4enpCcfHx+GtshEcP9iaxRmRxWLh8zz3w+EwvCR/kTzTUs+IFEWByWSCk5MTANBM+wfRzzSLMyLOOSyXS8znc3S7Xdzc3GAwGGA8Hoe3yp/Cqbetqqp8r9fzq9UqvPTPVquV7/V6SUvs/yR6eZT6RC+PUh9FI6RohBSNkKIRUjRCikZI0QgpGiFFI6RohJKjWRw3sPK/7HpHR7M4bmBl83/b7TZardbOnzmJ/pXf6riBBeccLi8vcXZ2hizLMJlMcH5+jtvb2/DW3RDu1WzL4riBleFw6PM894vFIry0U5JnWupxAwubmba/v4/T09Odn2nRzzSL4wZWxuMxBoMBHh4e0Gq1MJ/PsVwud/aZlrw8Whw3sFKWpb++vg7/vHOil0epT/TyKPVRNEKKRkjRCCkaIUUjpGiEFI2QohFSNEKKRkjRCCVHa9IZEQsM44mO1qQzIhaYxhO9NdOkMyIWqMYTbrBtq0lnRCwwjCd5pjXhjIgFpvFEP9OadEbEAtV4wqm3rSadEbHAMJ7o5VHqE708Sn0UjZCiEVI0QopGSNEIKRohRSOkaIQUjZCiEUqOZrE9b/U2AotXUjRpPB+JjmaxPW/1BQyLV1I0aTyfif6V32p73uILGBavpGjSeD4V7tVsy2J73uoLGBavpGjSeD6SPNNSt+ctvoBh8UqKJo3nM9HPNIvteWf0BQyLV1I0aTyfCqfetiy2562+gGHxSoomjecj0cuj1Cd6eZT6KBohRSOkaIQUjZCiEVI0QopGSNEIKRohRSOkaIQUjZCiEVI0QopGSNEIKRohRSOkaIQUjZCiEVI0QopG6Bd5B289zv0O9AAAAABJRU5ErkJggg==)"
      ],
      "metadata": {
        "id": "JgcoPA6GpaNJ"
      }
    },
    {
      "cell_type": "code",
      "source": [
        "n = 5\n",
        "for i in range(1, n+1):\n",
        "    for j in range(1, i+1):\n",
        "        if j == 1 or j == i or i == n:\n",
        "            print(\"*\", end=\" \")\n",
        "        else:\n",
        "            print(\" \", end=\" \")\n",
        "    print()\n"
      ],
      "metadata": {
        "colab": {
          "base_uri": "https://localhost:8080/"
        },
        "id": "ccdeHewTpLSi",
        "outputId": "dcf1e0cc-4442-4761-dbc0-337e0ff509cf"
      },
      "execution_count": null,
      "outputs": [
        {
          "output_type": "stream",
          "name": "stdout",
          "text": [
            "* \n",
            "* * \n",
            "*   * \n",
            "*     * \n",
            "* * * * * \n"
          ]
        }
      ]
    },
    {
      "cell_type": "markdown",
      "source": [
        "### Left Pascal's Triangle\n",
        "\n",
        "![image.png](data:image/png;base64,iVBORw0KGgoAAAANSUhEUgAAAFwAAACzCAYAAAAE/XsPAAAAAXNSR0IArs4c6QAAAARnQU1BAACxjwv8YQUAAAAJcEhZcwAADsMAAA7DAcdvqGQAAASrSURBVHhe7dwxa+pqAMbx59y1EjoplLortJ1cIoJ7p07tVHBQOrk0a/sRuigY6FCkboWCXXTQoZuLk6HfoIuOEufc5VbuybnnmmOTxyQ+v9EIhT8vL6UP6Q/P8zwIzV/+DyRaCk6m4GSpCj4ej2FZlv/jWElFcMuyMB6PkcvlkMlksFqt0Gg04DiO/6s7l4rgtVoNzWYTrVYLruuiVCrBMAycnp76v7pzP9L0a6Ft2+j1euj3+8hms/7HsZCKE+44DorFIp6fn2GaJqrVamzv8lQE73a7aLfbeHx8RCaTwXQ6xXK5jOUdnqorZTweYzgc4uHhwf8oNlIVPAlScaUkiYKTKTiZgpMpOJmCkyk4mYKTKTiZgpMpOJmCkyUmuOM4aDQaWK1W/kdr2jRDYNs2bNtGLpeDYRjAvzbML0naNGP/59nFYoGLiwvk83kcHx9jMpkgn8/j6ekJBwcHwD+n//LyEpVKBYZhYDAY4Pz8PJ5/F/cSYjQaeYVCwZvNZv5Ha51OxzNN05vP5/5HsZGYE+55Hk5OTvDx8fHbE354eIhyuRzrEx77O/z19RXX19d4e3uDYRgYjUbrq+VLkjbNxFwps9nMq9frnuu6/kdro9HIu7299X8cK7G/UtIm9ldK2ig4mYKTKTiZgpMpOJmCkyk4mYKTKTiZgpPFIniQhUYTWwi+IgLA0dER8B/RNLGFzLIsTCYTmKaJz89PzGYzvLy8rF/508QWgfl87pmm6XU6Hf+jNU1sIbEsC4PBAGdnZwDw2xOuiS0EjuNguVxiOp2iUCjg7u4O7XYb3W53/R1NbBFwXder1+v/e11oYpOt7PRK2UcKTqbgZApOpuBkCk6m4GQKTqbgZApOpuBkCk5GCe6fzfyCTGLaNAPYtDVq0wxZkK1Rm2YENm2N+7RpRnqlOAH+RallWahWq8jn83h/f0exWPzpKlgsFiiXy7i/v0elUsHNzQ2urq5+usuD/Jy4iDT4pq1Rm2ZENm2N2jQlMpFeKfIrBSdTcDIFJ1NwMgUnU3AyBSdTcDIFJ1Nwsm8HD2P6CrLQhPFz4mDr4GFMX5rY/kBY05cmtj8UxvS1TxPbt0/4d1/ns/TaYDBhTF+a2LYQxvSliU0is/WVIttRcDIFJ1NwMgUnU3AyBSdTcDIFJ1NwMgUnU3AySnD/bOYXZBLb+00ziE1bozbNkAXZGrVpRmDT1rhPm2akV4oT4HU+S68NhmfT1qhNMyKbtkZtmhKZSK8U+ZWCkyk4mYKTKTiZgpMpOJmCkyk4mYKTKThZLIIHWWg0sYVAE9sOaGLbgX2a2GJxwvXaIIkmth3RxCaR2emVso8UnEzByRScTMHJFJxMwckUnEzByRScTMHJFJwsMcG1aZJo0yTTprkj2jRJtGmSadPcEW2aspXYXylpo+BkCk6m4GQKTqbgZApOpuBkCk6m4GQKTpaq4JrYSJI0saUieK1WQ7PZRKvVguu6KJVKMAxj/WJWnKTqz7O2baPX66Hf7yObzfofx0IqTrij/8zJlaSJLVVXyng8xnA4jOV4/CVVwZMgFVdKkig4mYKTKTiZgpMpOJmCkyk4mYKTKTiZgpP9DVt/aRdhumvPAAAAAElFTkSuQmCC)"
      ],
      "metadata": {
        "id": "kX_7sbngpTjj"
      }
    },
    {
      "cell_type": "code",
      "source": [
        "rows = 5\n",
        "\n",
        "# Upper half (including middle)\n",
        "for i in range(1, rows + 1):\n",
        "    print(' ' * (rows - i) + '*' * i)\n",
        "\n",
        "# Lower half\n",
        "for i in range(rows - 1, 0, -1):\n",
        "    print(' ' * (rows - i) + '*' * i)\n"
      ],
      "metadata": {
        "colab": {
          "base_uri": "https://localhost:8080/"
        },
        "id": "LZfhupOcpLQv",
        "outputId": "77c9bd02-9be8-4087-ec3b-900f49c172cb"
      },
      "execution_count": 73,
      "outputs": [
        {
          "output_type": "stream",
          "name": "stdout",
          "text": [
            "    *\n",
            "   **\n",
            "  ***\n",
            " ****\n",
            "*****\n",
            " ****\n",
            "  ***\n",
            "   **\n",
            "    *\n"
          ]
        }
      ]
    },
    {
      "cell_type": "markdown",
      "source": [
        "**Explanation:**\n",
        "\n",
        "The upper half increases stars from 1 to 5, with leading spaces to push them to the right.\n",
        "\n",
        "- The lower half mirrors the upper half (excluding the middle row).\n",
        "\n",
        "- ' ' * (rows - i) handles the alignment.\n",
        "\n",
        "- '*' * i prints the required number of stars."
      ],
      "metadata": {
        "id": "zkLMXWR_mhVr"
      }
    },
    {
      "cell_type": "markdown",
      "source": [
        "## 👨‍💻 Created by:\n",
        "**Deepraj** – *Data Scientist | AI Educator | Content Creator*\n",
        "\n",
        "---\n",
        "\n",
        "📌 [LinkedIn](https://www.linkedin.com/in/deeprajvadhwane/)  \n",
        "💻 [GitHub](https://github.com/DeeprajVadhwane)  \n",
        "\n",
        "🎓 **YouTube:** *Learn with Deepraj*\n",
        "\n",
        "\n",
        "\n",
        "            \n",
        "## **Happy Learning**\n"
      ],
      "metadata": {
        "id": "hwrvBEnNquXS"
      }
    },
    {
      "cell_type": "code",
      "source": [],
      "metadata": {
        "id": "cSsjuCHlgbDo"
      },
      "execution_count": null,
      "outputs": []
    }
  ]
}